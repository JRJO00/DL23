{
  "nbformat": 4,
  "nbformat_minor": 0,
  "metadata": {
    "colab": {
      "provenance": [],
      "include_colab_link": true
    },
    "kernelspec": {
      "name": "python3",
      "display_name": "Python 3"
    },
    "language_info": {
      "name": "python"
    }
  },
  "cells": [
    {
      "cell_type": "markdown",
      "metadata": {
        "id": "view-in-github",
        "colab_type": "text"
      },
      "source": [
        "<a href=\"https://colab.research.google.com/github/JRJO00/DL23/blob/main/DL/DLW05B.ipynb\" target=\"_parent\"><img src=\"https://colab.research.google.com/assets/colab-badge.svg\" alt=\"Open In Colab\"/></a>"
      ]
    },
    {
      "cell_type": "markdown",
      "source": [
        "# 🌱 **Digital Literacy Week05B: Useful tools to share**\n",
        "## **Project-Based Learning**\n",
        "\n",
        "---\n",
        "**To do list:**\n",
        "\n",
        "1. Attendance checking: (2 minutes)\n",
        "2. Watch two videos together as a group and evaluate them. (15 minutes)\n",
        "\n",
        "+ **Video one:** your own group video (Assign2). The link will be provided below.\n",
        "+ **Video two:** your paired group: (G1, G2), (G3, G4), (G5, G6) \n",
        "(e.g., G1 video => G2 will evaluate, and vice versa.)\n",
        "\n",
        "3. Watch a tutorial video and create your own (1 video per group) using Steve AI and chatGPT: (30 minutes)\n",
        "\n",
        "4. Submit the created video in the given link below. (2 minutes)\n",
        "5. If you finish your class in group activities, don't forget to to the self-log [link here](https://forms.gle/Xpbz8uo5vHi57mWZ8)\n",
        "---"
      ],
      "metadata": {
        "id": "Em-8-hgn_czL"
      }
    },
    {
      "cell_type": "markdown",
      "source": [
        "# **Activity [1] Group activity attendance checking**\n",
        "\n",
        "Follow the QR code below (by running the code), and complete the attendance form."
      ],
      "metadata": {
        "id": "gmW9604XAAkw"
      }
    },
    {
      "cell_type": "code",
      "execution_count": null,
      "metadata": {
        "cellView": "form",
        "id": "xDphqjzfz0E5"
      },
      "outputs": [],
      "source": [
        "#@markdown Run this code to see QR code for attendance checking:\n",
        "# !pip install IPython\n",
        "\n",
        "import IPython\n",
        "import requests\n",
        "\n",
        "url = 'https://raw.githubusercontent.com/MK316/Spring2023/main/DL/files/DL_attcheck.svg'\n",
        "response = requests.get(url)\n",
        "svg_data = response.content\n",
        "\n",
        "IPython.display.SVG(svg_data)\n"
      ]
    },
    {
      "cell_type": "markdown",
      "source": [
        "# **Activity [2] Watch two videos and evaluate them.**\n",
        "\n",
        "+ Video 1. The video created by your own group and \n",
        "+ Video 2. The video created by your paired group \n",
        "\n",
        "+ Evaluation form: evaluate them using the provided **evaluation form [link here](https://forms.gle/7am1noDTqTyPhnnh8)**. Before you complete the form, discuss how you would determine the allocation of points from 1 to 6 for each criterion.  \n",
        "_📌 Please allocate no more than 15 minutes to this activity._\n",
        "\n",
        "Notes: \n",
        "\n",
        "1. This is a group evaluation, so you need to submit just one form for each view.\n",
        "2. After watching a video, complete the evaluation form by clicking [here](https://forms.gle/7am1noDTqTyPhnnh8). This is the same link with the above.\n",
        "3. There are 5 criteria to evaluate:\n",
        "\n",
        "+ Content (1~6 points)\n",
        "+ Creativity (1~6)\n",
        "+ Technical Quality (1~6)\n",
        "+ Usefulness (1~6)\n",
        "+ Overall impact (1~6)\n"
      ],
      "metadata": {
        "id": "lg63G-zRCHQp"
      }
    },
    {
      "cell_type": "markdown",
      "source": [
        "### If you are ready to watch, choose below the Group number and then run the code."
      ],
      "metadata": {
        "id": "cB9-5LCmdV9y"
      }
    },
    {
      "cell_type": "markdown",
      "source": [
        "[G1](https://youtu.be/n0rIuCLD_MA) \n",
        "[G2](https://youtu.be/4dcuJU6uV_c)\n",
        "[G3](https://www.youtube.com/watch?v=PiuURrnb4CU)\n",
        "[G4](https://youtu.be/u86x6iLGpD0)\n",
        "[G5](https://youtu.be/lhEwGjuW25s)\n",
        "[G6](https://youtu.be/G8SLuhUi6Uw)"
      ],
      "metadata": {
        "id": "8wj5jpt4lNTd"
      }
    },
    {
      "cell_type": "code",
      "source": [
        "from IPython.display import YouTubeVideo, Audio, Image\n",
        "\n",
        "Groups = \"Group 6\" #@param = [\"Group 1\", \"Group 2\", \"Group 3\", \"Group 4\", \"Group 5\", \"Group 6\"]\n",
        "gns = Groups.split(\" \")\n",
        "gn = int(gns[1]) -1\n",
        "\n",
        "links = [\"n0rIuCLD_MA\",\n",
        "         \"4dcuJU6uV_c\",\n",
        "         \"PiuURrnb4CU\",\n",
        "         \"u86x6iLGpD0\",\n",
        "         \"lhEwGjuW25s\",\n",
        "         \"G8SLuhUi6Uw\"]\n",
        "\n",
        "link = links[gn]\n",
        "video = YouTubeVideo(link, width = 800, height=600)\n",
        "print(\"This video is created by %s: \"%Groups)\n",
        "print(\"Evaluation form link: https://forms.gle/7am1noDTqTyPhnnh8\")\n",
        "print(\"=\"*50)\n",
        "display(video)"
      ],
      "metadata": {
        "colab": {
          "base_uri": "https://localhost:8080/",
          "height": 676
        },
        "cellView": "form",
        "id": "dFPefGeCC-nw",
        "outputId": "3ccc72e2-5c93-45a4-d466-4687981ac5af"
      },
      "execution_count": null,
      "outputs": [
        {
          "output_type": "stream",
          "name": "stdout",
          "text": [
            "This video is created by Group 6: \n",
            "Evaluation form link: https://forms.gle/7am1noDTqTyPhnnh8\n",
            "==================================================\n"
          ]
        },
        {
          "output_type": "display_data",
          "data": {
            "text/plain": [
              "<IPython.lib.display.YouTubeVideo at 0x7fa612fd4760>"
            ],
            "text/html": [
              "\n",
              "        <iframe\n",
              "            width=\"800\"\n",
              "            height=\"600\"\n",
              "            src=\"https://www.youtube.com/embed/G8SLuhUi6Uw\"\n",
              "            frameborder=\"0\"\n",
              "            allowfullscreen\n",
              "            \n",
              "        ></iframe>\n",
              "        "
            ],
            "image/jpeg": "[encoded data removed]"
          },
          "metadata": {}
        }
      ]
    },
    {
      "cell_type": "markdown",
      "source": [
        "---\n",
        "# **Activity [3] Create an AI generated video using online tools (e.g., Steve AI and chatGPT)**\n",
        "\n",
        "Here's HowTo:\n",
        "+ 💾 Video with instructions is provided below (run the code below) for this activity. (_In case the code doesn't work click [here](https://youtu.be/s3I8_XVYjB8)_)\n",
        "+ This video will give you step-by-step instructions. (Listen and follow the instruction. No written script is given)\n",
        "+ When using chatGPT, each topic is assigned to each group (See below 🌿)"
      ],
      "metadata": {
        "id": "yoBnZTbrC_EU"
      }
    },
    {
      "cell_type": "code",
      "source": [
        "#@markdown Tutorial video: watch and follow the direction to create a video of your own group.\n",
        "from IPython.display import YouTubeVideo\n",
        "\n",
        "video = YouTubeVideo(\"s3I8_XVYjB8\", width = 800, height=600)\n",
        "display(video)"
      ],
      "metadata": {
        "cellView": "form",
        "id": "sNQD-pJIba4h",
        "colab": {
          "base_uri": "https://localhost:8080/",
          "height": 620
        },
        "outputId": "a8b8e0df-7662-4436-dd85-5ce96941735c"
      },
      "execution_count": null,
      "outputs": [
        {
          "output_type": "display_data",
          "data": {
            "text/plain": [
              "<IPython.lib.display.YouTubeVideo at 0x7f4601e8a220>"
            ],
            "text/html": [
              "\n",
              "        <iframe\n",
              "            width=\"800\"\n",
              "            height=\"600\"\n",
              "            src=\"https://www.youtube.com/embed/s3I8_XVYjB8\"\n",
              "            frameborder=\"0\"\n",
              "            allowfullscreen\n",
              "            \n",
              "        ></iframe>\n",
              "        "
            ],
            "image/jpeg": "[encoded data removed]"
          },
          "metadata": {}
        }
      ]
    },
    {
      "cell_type": "markdown",
      "source": [
        "**🌿 Video to create (Topics): (fixed for each group)**\n",
        "\n",
        "1. How to manage your time effectively as a university student (G1)\n",
        "2. How to take effective notes in lectures and classes (G2)\n",
        "3. How to prepare for and succeed in exams at university (G3)\n",
        "4. How to maintain a healthy work-life balance as a university student (G4)\n",
        "5. How to get involved in extracurricular activities and make the most of your university experience (G5)\n",
        "6. How to manage stress and mental health while studying at university (G6)\n",
        "\n",
        "**Notes when you get a transcript using ChatGPT**\n",
        "\n",
        "+  Use **no more than 500 words** for your video. (Try ChatGPT to get the result that contains useful information to make your own script. However, you need to review, revise, and select the information as needed.)\n",
        "+ You can combine your ideas with the GPT result. (However, grammar check should be done. Use GPT for this process too.)\n",
        "+ Check the vocabulary level appropriate to your level.\n",
        "+ Make the script meaningful and informative."
      ],
      "metadata": {
        "id": "HXYZ81weno_K"
      }
    },
    {
      "cell_type": "markdown",
      "source": [
        "# **Activity [4] If you succeeded to create a video, copy the link of your video and paste it [here](https://docs.google.com/spreadsheets/d/1g0BJwqMRLZh1JiCzqiGbp7Ao3LrgLrb8gLfEVmjf7_0/edit?usp=sharing)**\n",
        "\n",
        "+ You'll see \"Red colored cells\" for 4/5 group activity in the worksheet.\n",
        "+ **Please download the file** so that you can keep a copy for yourself, and save it in an appropriate location."
      ],
      "metadata": {
        "id": "Tu8jhyNhAl_6"
      }
    },
    {
      "cell_type": "markdown",
      "source": [
        "---\n",
        "# **Please READ:** If you are joining to the lecture after this activity, STOP here, and meet me at the computer lab. If you finish your class here with this group activity, then proceed.\n",
        "\n",
        "Self-log link (QR code) - Run the code below to use QR code for the link."
      ],
      "metadata": {
        "id": "CvOBAbd0pVj0"
      }
    },
    {
      "cell_type": "code",
      "source": [
        "\n",
        "#@markdown Install {pyqrcode} and enter link address\n",
        "!pip install pyqrcode\n",
        "\n",
        "import pyqrcode\n",
        "from pyqrcode import QRCode\n",
        "\n",
        "\n",
        "#@markdown Enter the link, save it as a file, and display\n",
        "s = \"https://forms.gle/Xpbz8uo5vHi57mWZ8\"\n",
        "\n",
        "# Generate QR code\n",
        "url = pyqrcode.create(s)\n",
        "\n",
        "# Create and save the png file naming \"myqr.png\"\n",
        "url.svg(\"myqrcode.svg\", scale=10)\n",
        "\n",
        "from IPython.display import SVG, display\n",
        "def show_svg(file):\n",
        "    display(SVG(file))\n",
        "\n",
        "show_svg(\"myqrcode.svg\")"
      ],
      "metadata": {
        "cellView": "form",
        "id": "VgESTzDUpZdO",
        "outputId": "147629f0-2c38-462c-986d-eb1b3da79327",
        "colab": {
          "base_uri": "https://localhost:8080/",
          "height": 693
        }
      },
      "execution_count": null,
      "outputs": [
        {
          "output_type": "stream",
          "name": "stdout",
          "text": [
            "Looking in indexes: https://pypi.org/simple, https://us-python.pkg.dev/colab-wheels/public/simple/\n",
            "Collecting pyqrcode\n",
            "  Downloading PyQRCode-1.2.1.zip (41 kB)\n",
            "\u001b[2K     \u001b[90m━━━━━━━━━━━━━━━━━━━━━━━━━━━━━━━━━━━━━━━━\u001b[0m \u001b[32m41.9/41.9 KB\u001b[0m \u001b[31m4.2 MB/s\u001b[0m eta \u001b[36m0:00:00\u001b[0m\n",
            "\u001b[?25h  Preparing metadata (setup.py) ... \u001b[?25l\u001b[?25hdone\n",
            "Building wheels for collected packages: pyqrcode\n",
            "  Building wheel for pyqrcode (setup.py) ... \u001b[?25l\u001b[?25hdone\n",
            "  Created wheel for pyqrcode: filename=PyQRCode-1.2.1-py3-none-any.whl size=36241 sha256=4abc13899d1e9b46c0aa8e300af4c7a32080acc002b59f3dd3b8eedc50f3f333\n",
            "  Stored in directory: /root/.cache/pip/wheels/da/75/c0/38c7f82750de2725429b6b8571dca254249d73f6c882c5d9b1\n",
            "Successfully built pyqrcode\n",
            "Installing collected packages: pyqrcode\n",
            "Successfully installed pyqrcode-1.2.1\n"
          ]
        },
        {
          "output_type": "display_data",
          "data": {
            "text/plain": [
              "<IPython.core.display.SVG object>"
            ],
            "image/svg+xml": "<svg xmlns=\"http://www.w3.org/2000/svg\" height=\"450\" width=\"450\" class=\"pyqrcode\"><path transform=\"scale(10)\" stroke=\"#000\" class=\"pyqrline\" d=\"M4 4.5h7m1 0h1m1 0h3m2 0h1m2 0h2m1 0h1m1 0h3m4 0h7m-37 1h1m5 0h1m1 0h1m1 0h2m1 0h1m1 0h1m2 0h1m3 0h2m3 0h1m2 0h1m5 0h1m-37 1h1m1 0h3m1 0h1m2 0h1m1 0h1m1 0h1m1 0h3m1 0h1m3 0h1m2 0h2m2 0h1m1 0h3m1 0h1m-37 1h1m1 0h3m1 0h1m1 0h3m2 0h3m1 0h3m3 0h2m5 0h1m1 0h3m1 0h1m-37 1h1m1 0h3m1 0h1m1 0h5m5 0h1m1 0h2m2 0h2m1 0h1m2 0h1m1 0h3m1 0h1m-37 1h1m5 0h1m1 0h1m1 0h1m2 0h7m1 0h2m1 0h5m1 0h1m5 0h1m-37 1h7m1 0h1m1 0h1m1 0h1m1 0h1m1 0h1m1 0h1m1 0h1m1 0h1m1 0h1m1 0h1m1 0h1m1 0h7m-26 1h1m1 0h1m6 0h2m1 0h2m1 0h1m-24 1h1m2 0h1m3 0h8m4 0h1m1 0h1m2 0h2m2 0h3m1 0h2m-37 1h4m5 0h1m1 0h2m2 0h2m2 0h2m3 0h1m1 0h3m2 0h1m1 0h2m1 0h1m-36 1h4m1 0h2m3 0h2m1 0h6m1 0h1m1 0h1m3 0h1m2 0h1m1 0h1m1 0h1m1 0h1m-36 1h2m1 0h1m3 0h1m2 0h1m2 0h1m3 0h3m1 0h1m2 0h1m2 0h1m2 0h3m2 0h1m-36 1h4m1 0h1m1 0h2m1 0h1m2 0h3m1 0h1m2 0h1m1 0h1m1 0h1m1 0h5m1 0h1m-32 1h1m2 0h1m3 0h1m1 0h3m2 0h3m1 0h4m1 0h1m4 0h1m2 0h1m1 0h2m-37 1h2m3 0h3m1 0h2m1 0h2m5 0h1m1 0h1m1 0h1m4 0h1m1 0h3m1 0h1m1 0h1m-36 1h5m1 0h1m3 0h2m2 0h2m1 0h1m1 0h2m3 0h1m1 0h1m2 0h1m1 0h1m2 0h2m-37 1h2m1 0h1m2 0h2m1 0h3m2 0h2m4 0h1m1 0h2m3 0h1m1 0h3m1 0h2m1 0h1m-36 1h4m2 0h1m1 0h2m1 0h1m2 0h1m5 0h3m1 0h1m4 0h1m1 0h1m1 0h1m1 0h1m-35 1h1m3 0h1m3 0h2m1 0h2m1 0h1m1 0h1m2 0h3m5 0h2m2 0h4m-37 1h1m2 0h1m5 0h1m1 0h1m2 0h1m1 0h2m1 0h2m1 0h3m1 0h2m3 0h2m1 0h1m1 0h1m-37 1h1m1 0h1m1 0h3m1 0h2m1 0h1m1 0h3m1 0h2m1 0h1m1 0h1m1 0h2m2 0h1m1 0h4m1 0h2m-36 1h1m1 0h3m1 0h1m3 0h1m3 0h5m1 0h1m1 0h1m2 0h1m3 0h1m2 0h2m-32 1h4m1 0h1m2 0h2m3 0h1m1 0h1m2 0h1m1 0h2m4 0h1m1 0h2m2 0h2m-37 1h1m2 0h2m3 0h1m4 0h4m9 0h1m3 0h1m1 0h1m2 0h2m-36 1h2m1 0h1m1 0h2m1 0h3m2 0h1m3 0h7m2 0h1m1 0h1m2 0h2m1 0h2m-33 1h1m2 0h2m1 0h1m2 0h2m4 0h3m1 0h2m2 0h3m1 0h3m2 0h1m-37 1h1m1 0h1m3 0h1m1 0h1m3 0h1m3 0h4m1 0h2m1 0h3m2 0h2m1 0h1m1 0h1m1 0h1m-36 1h2m2 0h1m1 0h4m1 0h1m1 0h3m1 0h1m1 0h1m3 0h2m1 0h1m2 0h1m1 0h2m1 0h2m-37 1h2m1 0h2m1 0h1m1 0h2m4 0h6m1 0h3m4 0h5m3 0h1m-29 1h1m1 0h1m2 0h2m1 0h3m1 0h1m1 0h1m1 0h5m3 0h1m2 0h2m-37 1h7m4 0h2m2 0h2m3 0h2m4 0h1m1 0h1m1 0h1m1 0h1m1 0h3m-37 1h1m5 0h1m3 0h2m2 0h1m3 0h1m1 0h1m2 0h2m3 0h1m3 0h1m1 0h1m1 0h1m-37 1h1m1 0h3m1 0h1m3 0h6m1 0h1m1 0h1m5 0h2m1 0h6m-34 1h1m1 0h3m1 0h1m1 0h2m2 0h2m1 0h1m3 0h1m1 0h3m1 0h1m1 0h3m1 0h3m1 0h2m-37 1h1m1 0h3m1 0h1m2 0h1m2 0h1m1 0h1m2 0h1m3 0h2m4 0h1m1 0h1m2 0h3m1 0h1m-37 1h1m5 0h1m2 0h3m1 0h4m1 0h2m1 0h1m3 0h1m1 0h4m1 0h2m-34 1h7m2 0h4m3 0h1m1 0h5m1 0h2m1 0h2m1 0h3m2 0h2\"/></svg>"
          },
          "metadata": {}
        }
      ]
    },
    {
      "cell_type": "markdown",
      "source": [
        "---\n",
        "The END"
      ],
      "metadata": {
        "id": "MIAjubXzE9cl"
      }
    }
  ]
}