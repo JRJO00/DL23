{
  "nbformat": 4,
  "nbformat_minor": 0,
  "metadata": {
    "colab": {
      "provenance": [],
      "include_colab_link": true
    },
    "kernelspec": {
      "name": "python3",
      "display_name": "Python 3"
    },
    "language_info": {
      "name": "python"
    }
  },
  "cells": [
    {
      "cell_type": "markdown",
      "metadata": {
        "id": "view-in-github",
        "colab_type": "text"
      },
      "source": [
        "<a href=\"https://colab.research.google.com/github/JRJO00/DL23/blob/main/DL/DLW03.ipynb\" target=\"_parent\"><img src=\"https://colab.research.google.com/assets/colab-badge.svg\" alt=\"Open In Colab\"/></a>"
      ]
    },
    {
      "cell_type": "markdown",
      "source": [
        "# 🌳 **Digital Literacy & English Education** (Week 03): \n",
        "# Topic: Coding basic #2\n",
        "\n",
        "Table of contents\n",
        "\n",
        "* datatype: list, dictionary\n",
        "* dataframe\n",
        "* file handling"
      ],
      "metadata": {
        "id": "fkVkXhLoOGMz"
      }
    },
    {
      "cell_type": "markdown",
      "source": [
        "Your github IDs [here](https://docs.google.com/spreadsheets/d/1rBlWeffj5RaBQS-lcv46r3Xe-JVF8PpwDngsuQhLKCc/edit?usp=sharing): due by March 13(Monday)"
      ],
      "metadata": {
        "id": "mUVgzk50XMkt"
      }
    },
    {
      "cell_type": "markdown",
      "source": [
        "# Getting ready"
      ],
      "metadata": {
        "id": "2NEUmLk5A5GW"
      }
    },
    {
      "cell_type": "code",
      "source": [
        "#@markdown 🔄 Making functions: etts('text'), ktts('text')\n",
        "%%capture\n",
        "!pip install gTTS\n",
        "from gtts import gTTS\n",
        "from IPython.display import Audio\n",
        "\n",
        "def etts(text):\n",
        "  text_to_say = text\n",
        "\n",
        "  gtts_object = gTTS(text = text_to_say,\n",
        "                     lang = \"en\", tld = \"us\",\n",
        "                    slow = True)\n",
        "  \n",
        "  gtts_object.save(\"E-audio.mp3\")\n",
        "  return Audio(\"E-audio.mp3\")\n",
        "\n",
        "def ktts(text):\n",
        "  text_to_say = text\n",
        "\n",
        "  gtts_object = gTTS(text = text_to_say,\n",
        "                     lang = \"ko\",\n",
        "                    slow = False)\n",
        "  \n",
        "  gtts_object.save(\"K-audio.mp3\")\n",
        "  return Audio(\"K-audio.mp3\")"
      ],
      "metadata": {
        "cellView": "form",
        "id": "-CFbsipQA7aZ"
      },
      "execution_count": null,
      "outputs": []
    },
    {
      "cell_type": "code",
      "source": [
        "from IPython.display import Audio, Image, display"
      ],
      "metadata": {
        "id": "OKE-vedsBy0-"
      },
      "execution_count": null,
      "outputs": []
    },
    {
      "cell_type": "markdown",
      "source": [
        "# [1] **list** and **dict**ionary data\n",
        "\n",
        "+ **List** in Python is a collection of **ordered, mutable and heterogeneous** elements encolsed in square brakets [ ].Elements can be added, removed, or modified. \n",
        "+ **Dict** in Python is an unordered collection of key-value pairs, where each key is unique and maps to a value. They are often used to store and retrieve data efficiently. It is like a real dictionary. Just like you look up a word in a dictionary to find its meaning, you can use a Python dictionary to find the value for a certain key."
      ],
      "metadata": {
        "id": "93gQaEo1RX63"
      }
    },
    {
      "cell_type": "markdown",
      "source": [
        "List"
      ],
      "metadata": {
        "id": "exxIQxv81Q1V"
      }
    },
    {
      "cell_type": "code",
      "source": [
        "# List\n",
        "cities = [\"Seoul\", \"London\", \"New York\"]\n",
        "fares = [1100, 3400, 3000]\n",
        "busnumbers = [\"270\", \"150A\", \"3200\"]\n",
        "\n",
        "cities"
      ],
      "metadata": {
        "id": "Xes87bY2X45M",
        "outputId": "77304913-5477-4eda-e066-2982f96725c3",
        "colab": {
          "base_uri": "https://localhost:8080/"
        }
      },
      "execution_count": null,
      "outputs": [
        {
          "output_type": "execute_result",
          "data": {
            "text/plain": [
              "['Seoul', 'London', 'New York']"
            ]
          },
          "metadata": {},
          "execution_count": 10
        }
      ]
    },
    {
      "cell_type": "code",
      "source": [
        "a = cities + fares + busnumbers\n",
        "print(a)\n",
        "type(a[4])"
      ],
      "metadata": {
        "colab": {
          "base_uri": "https://localhost:8080/"
        },
        "id": "KOx4K6nz0Nvi",
        "outputId": "2f1a6a95-2993-4bdf-a2d2-ccdc93748abf"
      },
      "execution_count": null,
      "outputs": [
        {
          "output_type": "stream",
          "name": "stdout",
          "text": [
            "['Seoul', 'London', 'New York', 1100, 3400, 3000, '270', '150A', '3200']\n"
          ]
        },
        {
          "output_type": "execute_result",
          "data": {
            "text/plain": [
              "int"
            ]
          },
          "metadata": {},
          "execution_count": 11
        }
      ]
    },
    {
      "cell_type": "code",
      "source": [
        "a1 = a*2\n",
        "print(a1)"
      ],
      "metadata": {
        "colab": {
          "base_uri": "https://localhost:8080/"
        },
        "id": "THAWU-xg1FKC",
        "outputId": "9256443c-7cab-4c2c-f8e8-df652979aa20"
      },
      "execution_count": null,
      "outputs": [
        {
          "output_type": "stream",
          "name": "stdout",
          "text": [
            "['Seoul', 'London', 'New York', 1100, 3400, 3000, '270', '150A', '3200', 'Seoul', 'London', 'New York', 1100, 3400, 3000, '270', '150A', '3200']\n"
          ]
        }
      ]
    },
    {
      "cell_type": "markdown",
      "source": [
        "Dict\n",
        "\n",
        "e.g., HTML color codes [link](https://htmlcolorcodes.com/)"
      ],
      "metadata": {
        "id": "mEg909WK1S-d"
      }
    },
    {
      "cell_type": "code",
      "source": [
        "# Dict\n",
        "colors = {\"red\": \"#BF0B21\", \"green\": \"#28B463\",\"blue\": \"#0D659B\"}\n",
        "colors"
      ],
      "metadata": {
        "id": "oEyc7MmkWcsr",
        "outputId": "913ff134-9431-4b65-a368-ee8662ea0638",
        "colab": {
          "base_uri": "https://localhost:8080/"
        }
      },
      "execution_count": null,
      "outputs": [
        {
          "output_type": "execute_result",
          "data": {
            "text/plain": [
              "{'red': '#BF0B21', 'green': '#28B463', 'blue': '#0D659B'}"
            ]
          },
          "metadata": {},
          "execution_count": 21
        }
      ]
    },
    {
      "cell_type": "code",
      "source": [
        "colors['blue']"
      ],
      "metadata": {
        "id": "Xn0vX54nWwvP",
        "outputId": "32b158dc-dd12-4dff-8e8f-02c6356e5acd",
        "colab": {
          "base_uri": "https://localhost:8080/",
          "height": 36
        }
      },
      "execution_count": null,
      "outputs": [
        {
          "output_type": "execute_result",
          "data": {
            "text/plain": [
              "'#0D659B'"
            ],
            "application/vnd.google.colaboratory.intrinsic+json": {
              "type": "string"
            }
          },
          "metadata": {},
          "execution_count": 17
        }
      ]
    },
    {
      "cell_type": "markdown",
      "source": [
        "# 🔎 Application [1]"
      ],
      "metadata": {
        "id": "8CUPpHnkYpFV"
      }
    },
    {
      "cell_type": "code",
      "source": [
        "from PIL import Image\n",
        "\n",
        "colorlist = \"red\" #@param = [\"red\",\"green\",\"blue\"]\n",
        "img = Image.new('RGB', (200,200), color = colors[colorlist])\n",
        "display(img)"
      ],
      "metadata": {
        "cellView": "form",
        "id": "y2pYxrL_XNiO",
        "outputId": "b1c104ca-f958-4ca7-b738-5573234c42db",
        "colab": {
          "base_uri": "https://localhost:8080/",
          "height": 217
        }
      },
      "execution_count": null,
      "outputs": [
        {
          "output_type": "display_data",
          "data": {
            "text/plain": [
              "<PIL.Image.Image image mode=RGB size=200x200 at 0x7F5C72A037C0>"
            ],
            "image/png": "[encoded data removed]"
          },
          "metadata": {}
        }
      ]
    },
    {
      "cell_type": "markdown",
      "source": [
        "# 🔎Application [2]"
      ],
      "metadata": {
        "id": "EYlgUcVsY16-"
      }
    },
    {
      "cell_type": "code",
      "source": [
        "import random\n",
        "\n",
        "types = \"else\" #@param = [\"3rd.Sg.Pres.\", \"else\"]\n",
        "subj = [{'group1':[\"We\",\"I\",\"They\",\"You\"]},{'group2':[\"My brother\",\"She\",\"He\",\"Mary\",\"Matthew\"]}]\n",
        "verbs = [{'group1':[\"swim well\",\"smile a lot\",\"slept well\",\"disappeared\"]},{'group2':[\"eat\",\"buy\",\"take\",\"say\"]}]\n",
        "obj = [\"apples\",\"icecream\",\"vegetables\"]\n",
        "punct = [\".\",\"!\",\"?\"]\n",
        "\n",
        "s1 = subj[0]\n",
        "s2 = subj[1]\n",
        "v1 = verbs[0]\n",
        "v2 = verbs[1]\n",
        "\n",
        "if types == \"else\":\n",
        "  sentence = random.choice(s1['group1']) + \" \" + random.choice(v1['group1']) + random.choice(punct)\n",
        "else:\n",
        "  sentence = random.choice(s2['group2']) + \" \" + random.choice(v2['group2']) + \"s \" + random.choice(obj) + random.choice(punct)\n",
        "\n",
        "sentence\n",
        "\n",
        "\n",
        "\n"
      ],
      "metadata": {
        "cellView": "form",
        "id": "uVm62A7kY37Q",
        "outputId": "798ee5ac-4a0e-4e66-d0f0-71b6d4996695",
        "colab": {
          "base_uri": "https://localhost:8080/",
          "height": 36
        }
      },
      "execution_count": null,
      "outputs": [
        {
          "output_type": "execute_result",
          "data": {
            "text/plain": [
              "'They disappeared.'"
            ],
            "application/vnd.google.colaboratory.intrinsic+json": {
              "type": "string"
            }
          },
          "metadata": {},
          "execution_count": 41
        }
      ]
    },
    {
      "cell_type": "code",
      "source": [
        "# We can assign a link or a function\n",
        "import pandas as pd\n",
        "url = \"https://github.com/MK316/Spring2023/raw/main/data/att_sample.csv\"\n",
        "data = pd.read_csv(url)\n",
        "data"
      ],
      "metadata": {
        "id": "_7bvpJt2aQmg"
      },
      "execution_count": null,
      "outputs": []
    },
    {
      "cell_type": "markdown",
      "source": [
        "## Dataframe\n",
        "\n",
        "- A DataFrame is a **two-dimensional labeled data structure** in Python, with columns of potentially different types. It is **the most commonly used data structure** in data analysis and data science. \n",
        "\n",
        "|Subjects|Grade|\n",
        "|--|--|\n",
        "|English|88|\n",
        "|Korean|80|\n",
        "|Math|90|\n",
        "\n",
        "- It is **similar to a spreadsheet,** where each column can represent a different type of data, and each row represents a record or an observation. \n",
        "- **{Pandas}** is the most popular library for working with DataFrames in Python. With Pandas, you can perform operations such as **filtering, aggregating, transforming, and visualizing data** easily."
      ],
      "metadata": {
        "id": "xZv9R8I8ZWvt"
      }
    },
    {
      "cell_type": "code",
      "source": [
        "# Import pandas library\n",
        "import pandas as pd\n",
        "  \n",
        "# initialize list of lists\n",
        "data = [['tom', 10], ['nick', 15], ['juli', 14]]\n",
        "  \n",
        "# Create the pandas DataFrame\n",
        "df = pd.DataFrame(data)\n",
        "df1 = pd.DataFrame(data, columns=['Name', 'Age'])\n",
        "# print dataframe.\n",
        "df\n",
        "df1"
      ],
      "metadata": {
        "id": "7UJmbmmTaFx9",
        "outputId": "a957bb08-587e-4afc-f63c-b7e11de994fb",
        "colab": {
          "base_uri": "https://localhost:8080/",
          "height": 144
        }
      },
      "execution_count": null,
      "outputs": [
        {
          "output_type": "execute_result",
          "data": {
            "text/plain": [
              "   Name  Age\n",
              "0   tom   10\n",
              "1  nick   15\n",
              "2  juli   14"
            ],
            "text/html": [
              "\n",
              "  <div id=\"df-5c92de1f-fdf9-443c-9d59-bf6e17b33ed8\">\n",
              "    <div class=\"colab-df-container\">\n",
              "      <div>\n",
              "<style scoped>\n",
              "    .dataframe tbody tr th:only-of-type {\n",
              "        vertical-align: middle;\n",
              "    }\n",
              "\n",
              "    .dataframe tbody tr th {\n",
              "        vertical-align: top;\n",
              "    }\n",
              "\n",
              "    .dataframe thead th {\n",
              "        text-align: right;\n",
              "    }\n",
              "</style>\n",
              "<table border=\"1\" class=\"dataframe\">\n",
              "  <thead>\n",
              "    <tr style=\"text-align: right;\">\n",
              "      <th></th>\n",
              "      <th>Name</th>\n",
              "      <th>Age</th>\n",
              "    </tr>\n",
              "  </thead>\n",
              "  <tbody>\n",
              "    <tr>\n",
              "      <th>0</th>\n",
              "      <td>tom</td>\n",
              "      <td>10</td>\n",
              "    </tr>\n",
              "    <tr>\n",
              "      <th>1</th>\n",
              "      <td>nick</td>\n",
              "      <td>15</td>\n",
              "    </tr>\n",
              "    <tr>\n",
              "      <th>2</th>\n",
              "      <td>juli</td>\n",
              "      <td>14</td>\n",
              "    </tr>\n",
              "  </tbody>\n",
              "</table>\n",
              "</div>\n",
              "      <button class=\"colab-df-convert\" onclick=\"convertToInteractive('df-5c92de1f-fdf9-443c-9d59-bf6e17b33ed8')\"\n",
              "              title=\"Convert this dataframe to an interactive table.\"\n",
              "              style=\"display:none;\">\n",
              "        \n",
              "  <svg xmlns=\"http://www.w3.org/2000/svg\" height=\"24px\"viewBox=\"0 0 24 24\"\n",
              "       width=\"24px\">\n",
              "    <path d=\"M0 0h24v24H0V0z\" fill=\"none\"/>\n",
              "    <path d=\"M18.56 5.44l.94 2.06.94-2.06 2.06-.94-2.06-.94-.94-2.06-.94 2.06-2.06.94zm-11 1L8.5 8.5l.94-2.06 2.06-.94-2.06-.94L8.5 2.5l-.94 2.06-2.06.94zm10 10l.94 2.06.94-2.06 2.06-.94-2.06-.94-.94-2.06-.94 2.06-2.06.94z\"/><path d=\"M17.41 7.96l-1.37-1.37c-.4-.4-.92-.59-1.43-.59-.52 0-1.04.2-1.43.59L10.3 9.45l-7.72 7.72c-.78.78-.78 2.05 0 2.83L4 21.41c.39.39.9.59 1.41.59.51 0 1.02-.2 1.41-.59l7.78-7.78 2.81-2.81c.8-.78.8-2.07 0-2.86zM5.41 20L4 18.59l7.72-7.72 1.47 1.35L5.41 20z\"/>\n",
              "  </svg>\n",
              "      </button>\n",
              "      \n",
              "  <style>\n",
              "    .colab-df-container {\n",
              "      display:flex;\n",
              "      flex-wrap:wrap;\n",
              "      gap: 12px;\n",
              "    }\n",
              "\n",
              "    .colab-df-convert {\n",
              "      background-color: #E8F0FE;\n",
              "      border: none;\n",
              "      border-radius: 50%;\n",
              "      cursor: pointer;\n",
              "      display: none;\n",
              "      fill: #1967D2;\n",
              "      height: 32px;\n",
              "      padding: 0 0 0 0;\n",
              "      width: 32px;\n",
              "    }\n",
              "\n",
              "    .colab-df-convert:hover {\n",
              "      background-color: #E2EBFA;\n",
              "      box-shadow: 0px 1px 2px rgba(60, 64, 67, 0.3), 0px 1px 3px 1px rgba(60, 64, 67, 0.15);\n",
              "      fill: #174EA6;\n",
              "    }\n",
              "\n",
              "    [theme=dark] .colab-df-convert {\n",
              "      background-color: #3B4455;\n",
              "      fill: #D2E3FC;\n",
              "    }\n",
              "\n",
              "    [theme=dark] .colab-df-convert:hover {\n",
              "      background-color: #434B5C;\n",
              "      box-shadow: 0px 1px 3px 1px rgba(0, 0, 0, 0.15);\n",
              "      filter: drop-shadow(0px 1px 2px rgba(0, 0, 0, 0.3));\n",
              "      fill: #FFFFFF;\n",
              "    }\n",
              "  </style>\n",
              "\n",
              "      <script>\n",
              "        const buttonEl =\n",
              "          document.querySelector('#df-5c92de1f-fdf9-443c-9d59-bf6e17b33ed8 button.colab-df-convert');\n",
              "        buttonEl.style.display =\n",
              "          google.colab.kernel.accessAllowed ? 'block' : 'none';\n",
              "\n",
              "        async function convertToInteractive(key) {\n",
              "          const element = document.querySelector('#df-5c92de1f-fdf9-443c-9d59-bf6e17b33ed8');\n",
              "          const dataTable =\n",
              "            await google.colab.kernel.invokeFunction('convertToInteractive',\n",
              "                                                     [key], {});\n",
              "          if (!dataTable) return;\n",
              "\n",
              "          const docLinkHtml = 'Like what you see? Visit the ' +\n",
              "            '<a target=\"_blank\" href=https://colab.research.google.com/notebooks/data_table.ipynb>data table notebook</a>'\n",
              "            + ' to learn more about interactive tables.';\n",
              "          element.innerHTML = '';\n",
              "          dataTable['output_type'] = 'display_data';\n",
              "          await google.colab.output.renderOutput(dataTable, element);\n",
              "          const docLink = document.createElement('div');\n",
              "          docLink.innerHTML = docLinkHtml;\n",
              "          element.appendChild(docLink);\n",
              "        }\n",
              "      </script>\n",
              "    </div>\n",
              "  </div>\n",
              "  "
            ]
          },
          "metadata": {},
          "execution_count": 43
        }
      ]
    },
    {
      "cell_type": "code",
      "source": [
        "df1[df1[\"Name\"]==\"nick\"]"
      ],
      "metadata": {
        "colab": {
          "base_uri": "https://localhost:8080/",
          "height": 81
        },
        "id": "Ivc72tB0X_TS",
        "outputId": "ba674216-078a-4020-d469-2f8d075846f1"
      },
      "execution_count": null,
      "outputs": [
        {
          "output_type": "execute_result",
          "data": {
            "text/plain": [
              "   Name  Age\n",
              "1  nick   15"
            ],
            "text/html": [
              "\n",
              "  <div id=\"df-570d3cb5-c425-45bc-bf66-9fd202df6437\">\n",
              "    <div class=\"colab-df-container\">\n",
              "      <div>\n",
              "<style scoped>\n",
              "    .dataframe tbody tr th:only-of-type {\n",
              "        vertical-align: middle;\n",
              "    }\n",
              "\n",
              "    .dataframe tbody tr th {\n",
              "        vertical-align: top;\n",
              "    }\n",
              "\n",
              "    .dataframe thead th {\n",
              "        text-align: right;\n",
              "    }\n",
              "</style>\n",
              "<table border=\"1\" class=\"dataframe\">\n",
              "  <thead>\n",
              "    <tr style=\"text-align: right;\">\n",
              "      <th></th>\n",
              "      <th>Name</th>\n",
              "      <th>Age</th>\n",
              "    </tr>\n",
              "  </thead>\n",
              "  <tbody>\n",
              "    <tr>\n",
              "      <th>1</th>\n",
              "      <td>nick</td>\n",
              "      <td>15</td>\n",
              "    </tr>\n",
              "  </tbody>\n",
              "</table>\n",
              "</div>\n",
              "      <button class=\"colab-df-convert\" onclick=\"convertToInteractive('df-570d3cb5-c425-45bc-bf66-9fd202df6437')\"\n",
              "              title=\"Convert this dataframe to an interactive table.\"\n",
              "              style=\"display:none;\">\n",
              "        \n",
              "  <svg xmlns=\"http://www.w3.org/2000/svg\" height=\"24px\"viewBox=\"0 0 24 24\"\n",
              "       width=\"24px\">\n",
              "    <path d=\"M0 0h24v24H0V0z\" fill=\"none\"/>\n",
              "    <path d=\"M18.56 5.44l.94 2.06.94-2.06 2.06-.94-2.06-.94-.94-2.06-.94 2.06-2.06.94zm-11 1L8.5 8.5l.94-2.06 2.06-.94-2.06-.94L8.5 2.5l-.94 2.06-2.06.94zm10 10l.94 2.06.94-2.06 2.06-.94-2.06-.94-.94-2.06-.94 2.06-2.06.94z\"/><path d=\"M17.41 7.96l-1.37-1.37c-.4-.4-.92-.59-1.43-.59-.52 0-1.04.2-1.43.59L10.3 9.45l-7.72 7.72c-.78.78-.78 2.05 0 2.83L4 21.41c.39.39.9.59 1.41.59.51 0 1.02-.2 1.41-.59l7.78-7.78 2.81-2.81c.8-.78.8-2.07 0-2.86zM5.41 20L4 18.59l7.72-7.72 1.47 1.35L5.41 20z\"/>\n",
              "  </svg>\n",
              "      </button>\n",
              "      \n",
              "  <style>\n",
              "    .colab-df-container {\n",
              "      display:flex;\n",
              "      flex-wrap:wrap;\n",
              "      gap: 12px;\n",
              "    }\n",
              "\n",
              "    .colab-df-convert {\n",
              "      background-color: #E8F0FE;\n",
              "      border: none;\n",
              "      border-radius: 50%;\n",
              "      cursor: pointer;\n",
              "      display: none;\n",
              "      fill: #1967D2;\n",
              "      height: 32px;\n",
              "      padding: 0 0 0 0;\n",
              "      width: 32px;\n",
              "    }\n",
              "\n",
              "    .colab-df-convert:hover {\n",
              "      background-color: #E2EBFA;\n",
              "      box-shadow: 0px 1px 2px rgba(60, 64, 67, 0.3), 0px 1px 3px 1px rgba(60, 64, 67, 0.15);\n",
              "      fill: #174EA6;\n",
              "    }\n",
              "\n",
              "    [theme=dark] .colab-df-convert {\n",
              "      background-color: #3B4455;\n",
              "      fill: #D2E3FC;\n",
              "    }\n",
              "\n",
              "    [theme=dark] .colab-df-convert:hover {\n",
              "      background-color: #434B5C;\n",
              "      box-shadow: 0px 1px 3px 1px rgba(0, 0, 0, 0.15);\n",
              "      filter: drop-shadow(0px 1px 2px rgba(0, 0, 0, 0.3));\n",
              "      fill: #FFFFFF;\n",
              "    }\n",
              "  </style>\n",
              "\n",
              "      <script>\n",
              "        const buttonEl =\n",
              "          document.querySelector('#df-570d3cb5-c425-45bc-bf66-9fd202df6437 button.colab-df-convert');\n",
              "        buttonEl.style.display =\n",
              "          google.colab.kernel.accessAllowed ? 'block' : 'none';\n",
              "\n",
              "        async function convertToInteractive(key) {\n",
              "          const element = document.querySelector('#df-570d3cb5-c425-45bc-bf66-9fd202df6437');\n",
              "          const dataTable =\n",
              "            await google.colab.kernel.invokeFunction('convertToInteractive',\n",
              "                                                     [key], {});\n",
              "          if (!dataTable) return;\n",
              "\n",
              "          const docLinkHtml = 'Like what you see? Visit the ' +\n",
              "            '<a target=\"_blank\" href=https://colab.research.google.com/notebooks/data_table.ipynb>data table notebook</a>'\n",
              "            + ' to learn more about interactive tables.';\n",
              "          element.innerHTML = '';\n",
              "          dataTable['output_type'] = 'display_data';\n",
              "          await google.colab.output.renderOutput(dataTable, element);\n",
              "          const docLink = document.createElement('div');\n",
              "          docLink.innerHTML = docLinkHtml;\n",
              "          element.appendChild(docLink);\n",
              "        }\n",
              "      </script>\n",
              "    </div>\n",
              "  </div>\n",
              "  "
            ]
          },
          "metadata": {},
          "execution_count": 46
        }
      ]
    },
    {
      "cell_type": "code",
      "source": [
        "df1[df1[\"Age\"]>=14]"
      ],
      "metadata": {
        "id": "1is_SOvnt5ii",
        "colab": {
          "base_uri": "https://localhost:8080/",
          "height": 112
        },
        "outputId": "b50e9ef0-c83d-4064-bb01-e599cc9ba73b"
      },
      "execution_count": null,
      "outputs": [
        {
          "output_type": "execute_result",
          "data": {
            "text/plain": [
              "   Name  Age\n",
              "1  nick   15\n",
              "2  juli   14"
            ],
            "text/html": [
              "\n",
              "  <div id=\"df-0035025b-8f21-470a-ac38-cc9d4a7d4569\">\n",
              "    <div class=\"colab-df-container\">\n",
              "      <div>\n",
              "<style scoped>\n",
              "    .dataframe tbody tr th:only-of-type {\n",
              "        vertical-align: middle;\n",
              "    }\n",
              "\n",
              "    .dataframe tbody tr th {\n",
              "        vertical-align: top;\n",
              "    }\n",
              "\n",
              "    .dataframe thead th {\n",
              "        text-align: right;\n",
              "    }\n",
              "</style>\n",
              "<table border=\"1\" class=\"dataframe\">\n",
              "  <thead>\n",
              "    <tr style=\"text-align: right;\">\n",
              "      <th></th>\n",
              "      <th>Name</th>\n",
              "      <th>Age</th>\n",
              "    </tr>\n",
              "  </thead>\n",
              "  <tbody>\n",
              "    <tr>\n",
              "      <th>1</th>\n",
              "      <td>nick</td>\n",
              "      <td>15</td>\n",
              "    </tr>\n",
              "    <tr>\n",
              "      <th>2</th>\n",
              "      <td>juli</td>\n",
              "      <td>14</td>\n",
              "    </tr>\n",
              "  </tbody>\n",
              "</table>\n",
              "</div>\n",
              "      <button class=\"colab-df-convert\" onclick=\"convertToInteractive('df-0035025b-8f21-470a-ac38-cc9d4a7d4569')\"\n",
              "              title=\"Convert this dataframe to an interactive table.\"\n",
              "              style=\"display:none;\">\n",
              "        \n",
              "  <svg xmlns=\"http://www.w3.org/2000/svg\" height=\"24px\"viewBox=\"0 0 24 24\"\n",
              "       width=\"24px\">\n",
              "    <path d=\"M0 0h24v24H0V0z\" fill=\"none\"/>\n",
              "    <path d=\"M18.56 5.44l.94 2.06.94-2.06 2.06-.94-2.06-.94-.94-2.06-.94 2.06-2.06.94zm-11 1L8.5 8.5l.94-2.06 2.06-.94-2.06-.94L8.5 2.5l-.94 2.06-2.06.94zm10 10l.94 2.06.94-2.06 2.06-.94-2.06-.94-.94-2.06-.94 2.06-2.06.94z\"/><path d=\"M17.41 7.96l-1.37-1.37c-.4-.4-.92-.59-1.43-.59-.52 0-1.04.2-1.43.59L10.3 9.45l-7.72 7.72c-.78.78-.78 2.05 0 2.83L4 21.41c.39.39.9.59 1.41.59.51 0 1.02-.2 1.41-.59l7.78-7.78 2.81-2.81c.8-.78.8-2.07 0-2.86zM5.41 20L4 18.59l7.72-7.72 1.47 1.35L5.41 20z\"/>\n",
              "  </svg>\n",
              "      </button>\n",
              "      \n",
              "  <style>\n",
              "    .colab-df-container {\n",
              "      display:flex;\n",
              "      flex-wrap:wrap;\n",
              "      gap: 12px;\n",
              "    }\n",
              "\n",
              "    .colab-df-convert {\n",
              "      background-color: #E8F0FE;\n",
              "      border: none;\n",
              "      border-radius: 50%;\n",
              "      cursor: pointer;\n",
              "      display: none;\n",
              "      fill: #1967D2;\n",
              "      height: 32px;\n",
              "      padding: 0 0 0 0;\n",
              "      width: 32px;\n",
              "    }\n",
              "\n",
              "    .colab-df-convert:hover {\n",
              "      background-color: #E2EBFA;\n",
              "      box-shadow: 0px 1px 2px rgba(60, 64, 67, 0.3), 0px 1px 3px 1px rgba(60, 64, 67, 0.15);\n",
              "      fill: #174EA6;\n",
              "    }\n",
              "\n",
              "    [theme=dark] .colab-df-convert {\n",
              "      background-color: #3B4455;\n",
              "      fill: #D2E3FC;\n",
              "    }\n",
              "\n",
              "    [theme=dark] .colab-df-convert:hover {\n",
              "      background-color: #434B5C;\n",
              "      box-shadow: 0px 1px 3px 1px rgba(0, 0, 0, 0.15);\n",
              "      filter: drop-shadow(0px 1px 2px rgba(0, 0, 0, 0.3));\n",
              "      fill: #FFFFFF;\n",
              "    }\n",
              "  </style>\n",
              "\n",
              "      <script>\n",
              "        const buttonEl =\n",
              "          document.querySelector('#df-0035025b-8f21-470a-ac38-cc9d4a7d4569 button.colab-df-convert');\n",
              "        buttonEl.style.display =\n",
              "          google.colab.kernel.accessAllowed ? 'block' : 'none';\n",
              "\n",
              "        async function convertToInteractive(key) {\n",
              "          const element = document.querySelector('#df-0035025b-8f21-470a-ac38-cc9d4a7d4569');\n",
              "          const dataTable =\n",
              "            await google.colab.kernel.invokeFunction('convertToInteractive',\n",
              "                                                     [key], {});\n",
              "          if (!dataTable) return;\n",
              "\n",
              "          const docLinkHtml = 'Like what you see? Visit the ' +\n",
              "            '<a target=\"_blank\" href=https://colab.research.google.com/notebooks/data_table.ipynb>data table notebook</a>'\n",
              "            + ' to learn more about interactive tables.';\n",
              "          element.innerHTML = '';\n",
              "          dataTable['output_type'] = 'display_data';\n",
              "          await google.colab.output.renderOutput(dataTable, element);\n",
              "          const docLink = document.createElement('div');\n",
              "          docLink.innerHTML = docLinkHtml;\n",
              "          element.appendChild(docLink);\n",
              "        }\n",
              "      </script>\n",
              "    </div>\n",
              "  </div>\n",
              "  "
            ]
          },
          "metadata": {},
          "execution_count": 47
        }
      ]
    },
    {
      "cell_type": "markdown",
      "source": [
        "# [2] Operators review (in description)"
      ],
      "metadata": {
        "id": "5JgA2T2dRft5"
      }
    },
    {
      "cell_type": "markdown",
      "source": [
        "### 🔎Application [2]"
      ],
      "metadata": {
        "id": "GE8GUQNZoZq6"
      }
    },
    {
      "cell_type": "code",
      "source": [
        "x = 2; y = 5\n",
        "\n",
        "a1 = x + y\n",
        "a2 = x - y\n",
        "a3 = x * y\n",
        "a4 = x / y\n",
        "a5 = x ** y\n",
        "\n",
        "print(a1, a2, a3, a4, a5)"
      ],
      "metadata": {
        "id": "dXT3pIzobUHU"
      },
      "execution_count": null,
      "outputs": []
    },
    {
      "cell_type": "code",
      "source": [
        "# Quiz\n",
        "\n",
        "quiz_numbers = \"3\" #@param = [1, 2, 3, 4, 5]\n",
        "qn = int(quiz_numbers)\n",
        "\n",
        "if qn == 1:\n",
        "  myQ = input(\"What is the result of seven plus five? \")\n",
        "  if myQ == \"12\":\n",
        "    txt = \"That's correct! The answer is 12.\"\n",
        "  else:\n",
        "    txt = \"Your answer %s is incorrect. Try again!\"%myQ\n",
        "\n",
        "elif qn == 2:\n",
        "  myQ = input(\"What is the result of eight multiplied by four? \")\n",
        "  if myQ == \"32\":\n",
        "    txt = \"You're right! The answer is 32.\"\n",
        "  else:\n",
        "    txt = \"Your answer %s is incorrect. Try again!\"%myQ\n",
        "\n",
        "elif qn == 3:\n",
        "  myQ = input(\"What is the result of twenty divided by five? \")\n",
        "  if myQ == \"4\":\n",
        "    txt = \"Good job! The answer is 4.\"\n",
        "  else:\n",
        "    txt = \"Your answer %s is incorrect. Try again!\"%myQ\n",
        "\n",
        "elif qn == 4:\n",
        "  myQ = input(\"What is the result of four plus the result of six times two? \")\n",
        "  if myQ == \"16\":\n",
        "    txt = \"Congratulations! The answer is 16.\"\n",
        "  else:\n",
        "    txt = \"Your answer %s is incorrect. Try again!\"%myQ\n",
        "\n",
        "elif qn == 5:\n",
        "  myQ = input(\"What is the result of ten plus three, multiplied by 5? \")\n",
        "  if myQ == \"65\":\n",
        "    txt = \"Wow, you're great! The answer is 65.\"\n",
        "  else:\n",
        "    txt = \"Your answer %s is incorrect. Try again!\"%myQ\n",
        "\n",
        "etts(txt)\n",
        "\n",
        "Audio(\"E-audio.mp3\", autoplay = True)"
      ],
      "metadata": {
        "cellView": "form",
        "colab": {
          "base_uri": "https://localhost:8080/",
          "height": 93
        },
        "id": "yz1QcgtC5YfX",
        "outputId": "1c9db25b-a58d-4c03-f515-cda15cba11db"
      },
      "execution_count": null,
      "outputs": [
        {
          "name": "stdout",
          "output_type": "stream",
          "text": [
            "What is the result of twenty divided by five? 4\n"
          ]
        },
        {
          "output_type": "execute_result",
          "data": {
            "text/plain": [
              "<IPython.lib.display.Audio object>"
            ],
            "text/html": [
              "\n",
              "                <audio  controls=\"controls\" autoplay=\"autoplay\">\n",
              "                    <source src=\"data:audio/mpeg;base64,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\" type=\"audio/mpeg\" />\n",
              "                    Your browser does not support the audio element.\n",
              "                </audio>\n",
              "              "
            ]
          },
          "metadata": {},
          "execution_count": 61
        }
      ]
    },
    {
      "cell_type": "markdown",
      "source": [
        "# 🔢 Calculator with sounds"
      ],
      "metadata": {
        "id": "Cx1NyWUAybc8"
      }
    },
    {
      "cell_type": "code",
      "source": [
        "# This function adds two numbers\n",
        "def add(x, y):\n",
        "    return x + y\n",
        "\n",
        "# This function subtracts two numbers\n",
        "def subtract(x, y):\n",
        "    return x - y\n",
        "\n",
        "# This function multiplies two numbers\n",
        "def multiply(x, y):\n",
        "    return x * y\n",
        "\n",
        "# This function divides two numbers\n",
        "def divide(x, y):\n",
        "    return x / y\n",
        "\n",
        "func = \"subtract\" #@param = [\"add\",\"subtract\",\"multiply\",\"divide\"]\n",
        "digits = input(\"Type two numbers: (e.g., 3,4)\")\n",
        "digitsplit = digits.split(',')\n",
        "d1 = int(digitsplit[0])\n",
        "d2 = int(digitsplit[1])\n",
        "\n",
        "if func == \"add\":\n",
        "  result = add(d1,d2)\n",
        "  text = \"The addition of %d and %d equals %d.\"%(d1,d2,result)\n",
        "elif func == \"subtract\":\n",
        "  result = subtract(d1,d2)\n",
        "  text = \"If you subtract %d from %d, you get %d.\"%(d2,d1,result)\n",
        "elif func == \"divide\":\n",
        "  result = divide(d1,d2)\n",
        "  text = \"When you divide %d by %d, you get %d.\"%(d1,d2,result)\n",
        "elif func == \"multiply\":\n",
        "  result = multiply(d1,d2)\n",
        "  text = \"%d multiplied by %d is %d.\"%(d1,d2,result)\n",
        "\n",
        "print(text)\n",
        "print(\"*\"*50)\n",
        "etts(text)\n",
        "Audio(\"E-audio.mp3\")\n",
        "  \n"
      ],
      "metadata": {
        "cellView": "form",
        "id": "Dod3_zgYdsWe",
        "colab": {
          "base_uri": "https://localhost:8080/",
          "height": 130
        },
        "outputId": "1215c5bb-bfc7-405c-f5d5-3fb5ff211041"
      },
      "execution_count": null,
      "outputs": [
        {
          "output_type": "stream",
          "name": "stdout",
          "text": [
            "Type two numbers: (e.g., 3,4)10, 5\n",
            "If you subtract 5 from 10, you get 5.\n",
            "**************************************************\n"
          ]
        },
        {
          "output_type": "execute_result",
          "data": {
            "text/plain": [
              "<IPython.lib.display.Audio object>"
            ],
            "text/html": [
              "\n",
              "                <audio  controls=\"controls\" >\n",
              "                    <source src=\"data:audio/mpeg;base64,//NExAASQeHIAUIQADnOeEABDEJ8jchG//znO/7Z3IBi5CE5CNU5zoBiz/nf78hGnO/qc8hzndCEIoAIbiAEBoPlwfep0moMCQMawQDHLg+UOAg7TBD/a/LzYgTJsf+3//NExAoUAyJgAZpoAcOKbBxj/zzS/aH22Mzf/Jd01/+7Jv//My0cgKscB7//GQXzAwRN3/+37G50yKCRmbG////7JnXQMEE9B//////rq1IIlCaM1YdfZ7wOgxl0h44x//NExA0VgZ6YAdlYAKJFGMDRieUvfy9Yxzz/v559q46/38V39f7+Y2QhUgkOAeAGDwaWSDK2QaGczTz7DjL+3vm/Yz5YxkN0zRAE9OXvb/Kf//1OYirPvMxgITWGu/aV//NExAoTme6kANHamIz2gYBeW/YDDcaNxonH/Pf39uhZsqMvognY4S850eS6KJeNkUnNCld02fTa1A3WugZtl8ljetj6uhv1tMwGz////svDSrO8JsgoB3NhmiZpJmZu//NExA4VeZ6gAMnalAyumxuAFpqEfjYtSKX5V/GehHzPqEoaeLwDsMymxNDqbXNRZlNZ0iDUboqQMSh0TTpF7WkXkJgVkiHzhQM9E65Xyv//+qsVH+45QwKNg4XD1tqw//NExAsUsaKgANLWlCV59D73yOngMHVbyWUXTIJNfMX8I372L3duv30Treaj0vS7bBBqoMTLlEvBybOqjZ1/NfP/Etb/PpaThzb2E2vIWP////9QVaS91fSazEqF0k0g//NExAsSmR6YAMIEcAFVIlcIITHTTcrWq7/3/07uzIZ2oSBDoKnmOxQrGdQEVVbrf6YKmCDXMe1olNhRr12pD7H4mStf3dB/6T4ugeoL+wlSIyV4//n/5kdylB2yEWW///NExBMRgeKQAEBGmdLI76qUY4DlPKjIRsRUjL7fS+SSz/X3go16pOa99aK2/Xyu52Plf/1/1bt/rTQydxtTmAj9vzv+c+z/487C4ADHLQMSTQgSHmLZ3IgSJWy9c5K0//NExCARuZKQABBGlWiEfK5wRKqzKrgF5teZQoh4/cn/7fFd+Z3Vv/X9h3Y6N4WrSygduxi97ekxOXX9//Xjudz3QijYr9DfMnUwYmDh59CT8nNfV3yBDgzBBhNhcgKA//NExCwQ6ZKcABhGlJvFhZTR6pPaEXLSxxQDyG6aEU41S8szSp/POUCFM5WUck1Jl4S2afccsZiAAMzSNp/9+71++6WhE1BhCuq58YNhSCmK0ZCRJST4hFFEjGRfw+NS//NExDsSKfqYAMlGmMjO2TCqKtNkXErP/9tNoscZUghOAQYbQxrg85YtLdaD4QecN/T9/W/W/t6+ooMVYmA80zGnUm3HzTXcRCrJjVu7VnCXPmGt39I+XFj9mz///+nP//NExEURAd6cANNOmHhKxRI8B34eqQKdg+aT/+wCxjQUF/f28c/4557+T2rcO5HdTGxK0zAS9ry+UemSyWxx+metUSzsuf9H1Kuo0Nqz1boZ1utQlg0Bpcak0ZLgHSFO//NExFQRQeagAMnamK02NYCHqTenu3U3s/ML4absvyslHrw/g6PQxoA4geZNnfLzte//ia6hrZhh870/h4Oqu9+qVTg2mjThKxmA1H0IwinxegOvkZK3HPGvUm8d6BTU//NExGIQGZKkANKWlFiO2RZMpDSqnSWMS7L4rw4jdTGnW3r9fWtHTJp3r2VVAL///6P+Mop2uvgALAjNEV5IrGnpAQC2xNsMiGvpra4TO/qnf//GD+bXyxcKj6dhY74X//NExHQR8YacANKglPkVqLgsdWlDKvoJnn0LifP6gyphxvLv/ujPb5KJ8iRAYh5NqIAXgNFcLUW8XH9Ha92or+Xf+hzBQYAuzWT/7RJzimRuTM5Mzkzk7M7a8rHJq85e//NExH8SAR6cANLQcBvZyjb1T88yjjh3Mcrz9efkwC5bfxtCEQ4dfM0h5i+0mB2naWHCHY7QjzbsFs/owTEM/Xx+XwblsuCIyI6YnlImHlGWmT9+8nB4eL41lGego2iG//NExIohQx6cAHiYvM/2/VHe1f/8cUyOZ2p2VP/UZlZv39f/6+fvd6+u7feNQ6vZ7Wi4rCgW1l23ZhQXeqOR+XQ5aUrIn0ihptLhV5iyR1aoUuvqNfqgDvPJ4xLtPs5B//NExFghayKcABCevFxfDmP0nCePxIOBypJoZkdNEJOmiCDyJUT4nkB6o0ikCAC7D5hpdXI1bZDmZaUv///////MxohXf//xljC/5/+Yn///mKrbDoc5rq3f3Gg62Uib//NExCUY+x6kAAhWvCRcxx1QnmrVakraYD1Jr0SB5JJeksgkRSIUkiCoXnD5NFgBYzOiUdgBSTieTkTgIqDSOeIyY6wOkYRAR0aNXBf/2/////9f8v//Of///////8N///NExBQUwyasABBWvP4iL6dz/cxbG/O6YljP97eruD81TpQumqnKlQxTslIkYrTPklhGJJVJUcQo1NAQSkWBkQBOGkE4MAODcSDh2n/5//////////8p////9FrqnWm9//NExBQR0xqwAAhOvRGVNzzJ7M7ncw1nc86ZOaqlzyRcePPHmPPIKXG8khYYMFwoIik4FpglEwJClB0BpY+pGWo+DTgN/////xn5fH//5f/////tq9bqu90bT6pQ81Xd//NExB8RGx64AAhOvM6xzMzqqFUOUsaiMc7EdXMciOBYbypYuNhoPCNOLihRIJCswbG1+1yhVkTxbPGY03IxKJgNPimcQos1cBAAZ6Bx1SIClp0acQAAEOhTv39T/8/u//NExC0SUw60AMFEue/p////32////X9v2/6l+raG0fmNUpStUrIgENV/eV1VIjU/UipokeUv5HeokL6S3Ywc6N18E8xTNFIqa7w/g5Ha0rJYNmsvD4QrrmT9V2n/qNi//NExDYRuTKsAMPWcDhvzCxsbJAi8k721YhlP68y5/4OmRvn4RRM9MKIZy+OmA7f6uQCmo/djdZymSXNZZuJyw7QSA0WiEQDbKaCzInm+tTdBfMUH0TBDJxIFwsPfTV8//NExEISCSqsAMYacEdrCPzi9NW5+7idoWIkMb+OmpGl3PcggZQkHT99NIWP3m6qwMCf9iA3cr1eHMIgz4blErpt4zS+Pi2f8Wn181hV3nGYgsszLfZI+v+g0lVb+MuZ//NExEwRqRqoAM4ecCBMUSO2WvBdMd1sZkAcS0XU/QczG2uJKidP9SspGi85ozgEoSkfcmAQh8AOtyJqy/h3+lXyanZ5SBpIaIw75X6qDCA1WUEIPBj0PdLkSJicqvAu//NExFgRYQKMANPWcCBwaEJCCG26hiodAscgBo4KBZC5RVyJKvRGbopRvWLn9NGBUs023atykEA6sNej36P/1UaKMGg4iESbQEAph92FIWMViJCS6IXLOiMWBdy3FkwW//NExGURoJpYAObeTAsRiiCxMtT1clC7fABj3va+9Y4CLbgOt6N6XUiu79pNv6vf6v/RQcDIujLDXg+oTFbVkbRZA+8Vzq5X8sM8cOZ75sxkaSYJAIVFQifCoJnQZgkW//NExHEQ+IZUAOZSSJNRR4s08xxoVY3dfEk81rGMy1ft969///yOYQmFKMGMB7Pv9XneeSSzzjgKZcfoFbkSaPv+VDoTG8gBsHSI1V7yosJYe1BuHUHgmEFf/kAaj+aD//NExIAR8HpYAVgYAGGQgQQR7AkNRF//2uJhPJZ+yghxOGlDqHb///J84aVNssim5kYldj+Xrf///vvqaip/Pnk0238IQ//////m2RX733/7b4bJ8/UGhuYtFuYUJuV8//NExIshQyp4AY9YAPGV7LB6kULDL4luCVzvmDVrjrOX0eQP0bHjQ2hyRLemtJuPKULlA9FRoYAkE9QkmxuQZkqiyDpsPx4qk+bySylUhxwDI6FDZI0N4SfKJ25dLljF//NExFkh4yp8AY9YAIgk2SxM8eMWOumomtw6W1vY+6qZqH7HoMU7rq5c75uarvbP8d1/y60K/67/n411BAj+5AQgDQQtGadOdJZ/Pf/Vz/vfOFQhjV+oSYFEBQSEBkgM//NExCQYwdagAcJIAVEhPAwPsGDSbZRmbMpGG9iUQSi5f6gY3YSyfjVzpup0xCFIF5I+sHXnMPLfx3kZ//B3/8/4D4HcHQMNySFy3Wb+RBZ3BNe/vrmP/rn/dBr1AzLG//NExBQWkvqsABIKuEKhQlZAtQcMIoLhYRzSBcOQwVcaPKHEOLi4dDrh1ysJKpX2JcrWXoRXMjztdmQydGdPUr0X27+a+iT3/vvZJrMqM+o82uOVBf7gyuGer/+f6+tG//NExAwT2WKsABIMlLU0awfuo8Fhg5Tw6HljEiHcpQtj0Qm90vNQWaVMvjll1m9vvKbOl3BI02ke2UCyksahFh62L7HSXQkSjs9XLMageJVKFm4WcEA9IGFgxBYAqN1b//NExA8RGRKkADCScO1790pssoxKApkiSSJm6tC5OnvWWlSeWmzcWQWHvDgFyRsqE5CsFt4dOleHSwNes7u//o7y1ZDLvm3QMs8wgnzd19XONKonQyJtZqPpkAK8ERvC//NExB0SYOKcAM4ecB9aDmXKs3JIBgen1DKAiFSu5HiSbVWpK3fjfQafdxIL2DDCbmlXf/Wt1b/+ta2H6zFBieJ3PdIF3Hee29FuAKIxYBYyX/XoFdzeeetwZlYzAN4c//NExCYREP6oAMZecChc7FCP4JMUabZ36dOFCnDeMHKexcHDPrJEfT//gNU62s0A1SSugW0qAxeYuxd9kOI3o9UJrcbipBFOHb/0ytzcTziVhMJ7IQnMrw+g5iuVF9sK//NExDQSiQasAI5ecBqcmklbanKvIY4arI/fLHPgTmILAMsq+ZAniCMpkH2LLNA3TZXArA41L102OqZRZBxxN/qVDeWID++DeIO1Xj6bSen5NSmGJmWnk2cPkiwMkfdY//NExDwRoRK4AI4ecDIJw+SAn+sVaaFaX6IPQclKmlVjIkTPa/GGoLHYhYircwjVQkDbe/r6H8SYK9bpltLaGpI+Z5F0xMzCz7pBesLBfHr5HJk1UDTvqd1nRIf/6A/V//NExEgRyQ64AG5ecEPY3BGI3TQUsfgH4ZpvXMrpAYTs2M7P33RDmLf/q7OuCoXjzeE2jaEGYVfNc4IC984IhLOq8eB/tVQq/x4zn9bsSdnP2KfofrSGdAZw1nkffEyS//NExFMRwUqwAJ5OlFfv732kFLBoG1hnvjIB4+t+qQeAyF63bL9rI0AgqKlYFeqrfPxlIK7f/o1uW97348TWIcvxCdrAujq1ml+kGLAGaggXnpGjiRKfDHHvC8anE9Vn//NExF8SASqsAJZecCfpmjJ9XdaziMnaVy9oiA2TggRvt+xW+NW2p0ruv8BkVV9fGIEUxndT9exmV7dB7KqHZR+GcMGsiV1u7QRJyzA8IbNXcMaJrT7tN5zLpeAkWu+Z//NExGoR6SasAI4ecPt/TWjQJDt7OQk05EmJ7OsuZWrXVvV5p6ceqQ7PhTp1P1UfCSTQCjoy7iqqkXCI+vWHBfxCVebjNQPRlg6SaboPD2gPicwcjUgEQtH8rXMGSmVr//NExHUQ6R6QAVhgAJPHhMdaYgwJDRsQx2WwcOJoCAHWeIdRaq/vNjp9c49rGSdTsn3u//jmKo+yIWNFl6Ts////+quuy+Ob9RY5T5fn2Uc//////bbL+Kv7+Xy/tjDj//NExIQhcxpcAZhYAdPpDhSrUwVY3sV4pE1BX1HCpPJpPsWmqG56cDc+JhdXrUiI3ddK64sFZ0XD44WrAkHoAY+k8AQThJsTSefQWq4jo85HWNznnPrMV6V2s0z/+9L5//NExFEhktp4Ac9gAH/e2cvSvVvalc7OtNra9ryi9b3mdveaT0zlL5fKXy+bmzm50zMzs797dkzk/v9POaV0nEiq1RUqzZHT85h/cpp/pdVwyy/XauOFbu9Gkcp5ytOB//NExB0ZQjJ4AVgwAIKNIsSsjoLAMFWiRV+c+USvO8VU5Xrz+8tRVecxH4+PPyvEy1ef++Ns81HJ/yrNxsbZ/rZ0jBJ3RejZmCp0iVniQiEqZZcjkQrk2CFfyQKK/e7f//NExAsU2eKUAYZAAPcYZJF/0ZLvUc/SYkMMGnwhoWL/vxrGRR402x8Dv7/G2ZA55p3eHv//+0anV0ZY7kysj8BhsMuMmXJcEXin+5Iwynn5QmwEAwoFKfl1KKoZ7emz//NExAoTqg6gAcUoACyqva6WQirFBcMWYwmY9jvUyKaYTMVWa4orEdHS/3dO7MYqChRdUZhyr59CoxTiC4vMQA5owqiaNRer5UwosNeMHISgzQDpy5zEFbJr4yM3bWnq//NExA4QwTqgAChGcGawrpX6joFdq4QmBkTmTSn5lUHWsPh843cBwQC4UC4oo2OS0kBGd4RGBIyVHfttF/oT0udpCClylpWLvlnLELwouAqslU2cjQdjhUGtJmULRpIK//NExB4QkQ6cAChGcJI0s6AhKMTDKiK4aNgWplg0XQtDai2i2MBpnbMKp0PYRXJE5VUBAv/VWL67PnIzMjGFrmg1gzVuZE95DVSIEYUyDZUmCILFUkoVSPKrwPERVzBp//NExC4QoUqMABBGlJkUQrTTsOCVLPSQykNphUOko0ZYtQ6OvrtZPV+XZcgRKQtQGJr8djP7lQlziM6mdZbGjUIxuFUAFtRZtRN152CpErS9y2hTZWBiNFRpjnB554dF//NExD4RAU6AAGhGlF4CXALiiAHxY/W1//1C6xE8oWxK2+cLzjZRMzrcJBBY8zfUyIeJKHFjb2oFRdUeVuCaibgwGVOI8oZXtFtPTaH5SJxhA0A2rQWVAkTfXY8+0yjd//NExE0Q0Wp8AFBGlOeejfXo1CFR1acyRB2q4i9rJ3oR1VGEcdY8ZVzm4DgBxeJHjIub00jt/2dLZvz+/3Pm2/o88HWX+srbfVsJvLQByrcvaaYlG08OeWnYNGDFAJuw//NExFwSmTqMAUcQAQCxOuGFCu+WbAZs67gNFwQAAtgAs+C1YITZMmxmYg2IFmiUyLgNHANoAEBBHhiXloMbFIxJ0ulw3Ljm7HEDqDpF51rXNy+xFyTMEkzKbpIJJN0X//NExGQhqfKQAZqgAPovUk9Fe9q601m/qWzHkyDlnQCBl82TY/OB1B42VGeVt/yd5qmmp8mzfqSXdAqp1f3AIMRKC60xmVRDxLv2cVDS7xBC0RYY4FRhtJNnEQ4sgZPq//NExDAR4TKoAdmYAJYJ/y+n0PV6K+dMELTY0y//KP8hXt8khcf/T0oCMc7MdBkW3w3caKRXnrFe2cePllleFHixLNJLxQIcgtGxUH8CYUjRaiOUrRP9T+ZIdRu/LJur//NExDsQ0S6wAMYgcCick93l8OV6FVdQFKV0VHBPAO/OZNlCgUIpL0AjmLXYfjFOk+FhYGnLdCWDSySZgagVAAsb5cTOD0aIZipetO+kadE4aNWUDdnWYmjpqr6d2+RV//NExEoSUTawAI5gcGXWUgjYiDOcHcC67eGdkZJSAmJi2IhT6aZJL6FfINQDE6a9peIKFFvQNx1CFgD3k+pExGNHYjmJOej6jPWpIqaRSJkrukKn5TL2E5EMeXb+pbGt//NExFMUIS6sAJ5mcOoJMmFVtjs0lKYA0bz02MGtyIjdnOCMWdE+RIM5bHkVzShIvhffQIKBhk4YlU3AwECxFWXBPZBTSooC0GKeTBBUOiWmUomBuG+tRonLnkE+9IWr//NExFUW4S6gAM6kcF90i3uR0IWz//HAFiesZ1HhG28/NmAOpkdWQKdmX6EMWa2L0jQLNtX69xLqmr1n0EQC/Un3HE5Aoezuw+73wLzWFPFv/crjc7h9SpT2f7KLMtva//NExEwV8S6oAMZwcA+GZs6lDKPq9LrsVf/W4KUH1b1GxGmBfylAoSNWuTIJeNNd2xnAC8Y1f+pLIetOnC+lrlcQhKJzp2BMoRU1pm07Z2bUWNWtRY6089EFfOrn/usP//NExEcQmSK4AMYYcUs5mYEKQ01HyGEOAcGHLuCIYc1puGdhg0Pcv7hWXegPbW6Ai+zp2TZS1hA2FJ7cwbMWdO115uvTX6iRa1UYMPE//T29voq/+6ALCSizmW7nwyrq//NExFcSYSawAMYYcFtECDcGE54zBb11cvsNOnvwlkPX/9GhqoCsl810mlEBCRCbUAfdkoFc2NopVCLSrCwdO//2Xf9FkOV2VgOou1XkhlIovCwV4mASUkBXVfolojMa//NExGARKRqsAMYScEDKcqN75XRpYDNuPIgtq4lCwm50VCoVPxYVNatiyJOCJpdFNImeDRPV///+pUlPAFlYINDOAxJxpiyM08blKkexq88/rxru9oGehOaI7wr4cyte//NExG4R4Q6QAMvScPz+nnsg7i4jHmu9UABBMVhdZNaNy6erPk3ppV1bLpTSTpU2mLG55TZuf/7jzl8N6T3x0CJXI5SRXYzIoVOTO6ZlMFQKyw7f+y7/wzCN90+fs3pu//NExHkR4U6EAHjGlP5y2v59qP+TyG3XdtWp/NWxtoqj8qSnOC/Ne5Kv/jkRmhPm5ErvqclNXd3qRwSJyvBGRfykGfdo6Oz2iY8+in7P1dnfI/M4Kgqb+7SfR/4/mPf3//NExIQSAUKMADBGcf8senyD0GXV0etfpQsc/WhEMN+Tn4iNkxFtP2c8tmeO2VcU/xzdsa/Ooy5ViSFS8zs09gyl94prFEn+kt83+WMa+j+/73ffH2uV6ntwqvzrS8Pn//NExI8R4RaMAChGcT+X6gN/0s7N35xCEZGOOBm4qULZ34ZEdYMyRzpN59WKUh/fpGCWgMyqQG7Jrtp1sRDJ3qmc9m+83NeZbL/5+D6hrldDjd0Ve1XDPDlKAg3/YP/s//NExJoSaP6QAChMcaFSI1Jm4/nThkUVydQRHEDzFOcy3zO7GUTqVtb6f/5D9oVNjzuup/753wvl5v/V+fX973/edj1ypBuMP15FJYvVAWlGdkZoIu3O7/ZkWcgQZzho//NExKMSYWKMABBGlTRQc06LgGHAACawxZEKxZAQDKAKq/YSuYgRuNF7Oq5iuv5BibnZVIkULSR8XamQnH7yAkhKKaykTHE7rRfJFGwQDgLuVx+iZsTMJIHR2A7xN1U4//NExKwRiP6MADhGcYkguB8q4fhfxjnMhIuCpaTYJY1xk4yPE+j1Gq55KCEJljyYNajzvZewq6j+hdaGM5gUPHtmX7GCNJpmKqhjEEdMQk0ygwgYv1Xcwqkozk7CsDJo//NExLgQQJaYADiETLLILXR6Ysl5AUCXciAkCAqtjL3p5xWG3bYQuqkqNPTBfZw2/eyJuxJqSHJy2gk539XcIHBRvt4rE7ids2qQEkiIJPwYKHMasEAsGkVD6ZBQJ+sW//NExMoUeNaUAMPecG4a2UXWhUnumX6m4wvhCm9EF4NmcqGE8FLrdJCLt6kdbLMRwui4xEkZEpYGAqlouWYumjd9emhj59DCNijf11RZiX3izcTD2S9MujAVRqaOmYNm//NExMsX6PKUAN6wcGzJL1smBMIXSKNAzKoeuikDS7S1lkWuLjVZKmdAwcSja0la5F8Bdy1Lp/dURFoaQtwEBUg6tyHw9injb+vlPj/SMQUgofb0/+eUWSpDRpy5zYbx//NExL4WgYKcANYUlPXQC6wN4ITYbCykOxFrY+2g+FGSmcN9KdVLW0SGa5PR8gjLhCPslT1uUblmRMOdJWCejh5pUYCUqYIgFTjGDRphBW0/6aIeylQSCYdUr/trBIhJ//NExLcXGX6QANYQlELgxo3kbGEQK5ZjVevdgQBFzwAwmAW+TaJixmuMGSCtU0HZYXY5l8rUuptKzqtkOcCz/NQq5qSw/lmvz0wxOEDBlxrKUY0B81X1bW/8f/H+PvVK//NExK0VwWKAANPOlG+wZrVy4TOKp//7////+JZm7RwsDjKMmMyA5MdRYwy1HkzMCDYxwT2GStNooLYnx1z+auONrPcO6+Zq82wlpvNNKn8c35vfZkVjEnqxBiBcAgKw//NExKkZcXJ0AN4elKgpDUbFXd/98T8WlOOYMioBQV///UuHf///h8rVMGC0aC4UCpqmYmvAupsAgAAWSCiCygwiGDXIMRKhkgEnTKpoIGlzWji6ZBaqay1Q3rHAEQSi//NExJYXyVZwAOYQlNlQcScJTczl6gYUwEKE8/peU8OgVEizv///////8TtSL6AgCY8dtwlAqnYAQQ0dMMbCUvGSmYjSSLdm2UCCSQQ2jBGhTY3qNZe9n9pLw9Yr42bf//NExIkVeTZoAOYGcHm0u/SFglDFYmV6fTUwkUS1cI4yKgwzD6yeK92rHf//Xv/L1VMn/T8OeChychZpEF9y1QOMxNpkCYUuHLUtyx3//+JcMw9JWculDv0v+eShQpAr//NExIYViUpsANvGlH6WRFI9FqzCGAEW/6/3f+z9OJSRFQtjuBAxlIpVtvZm9IF9a4htsB+PR8MIYu4jiEKUVWgcGgvCMHA8D6Z/D88PDBwSAoDsRApUJfni4uKEIEYc//NExIIQ4PZoAVgYAAeODQz+vsXLcUIQXlaCMOiBf//8+zDDBd3FDDR7MHZagT////MQXd0Sr/EIx0rPsG8Dk///////+0Snd/hpLs8+BephzhpArvqqnEgLOv5OkvV7//NExJEgwypwAY9AADlmvxqX+w9Sqv997dVUKXfUNqUKhcqvblDMUZFYAz6c/LZ7VZLL3O3WT2Hr9Aw3M2K6YuSCSqXWuCO0smooKEDKNHJy9cKElroycxKGXIgZRz9o//NExGEgGxqgAclIAdtGvpBJiEIrCggGzGYpkwuK3l5QXRyZNsIOXegnS+zqcv+qIJPtd883f//+wJi9nZ2sm66mcgmMDSMWd2b+W7aPUyFIcWFB53tWajoY1WccVUDx//NExDMTCkK4ABCKuZUcaxTKK+u936ikxRoL/8G2VBfaKZUPb8nVjPlw2k66n7aRs1PYYBuKDBiu8dU0zvCc8dXWjJoJkPJrYm/i6Q33D0dOETmEqybz9v//+2fXh831//NExDkTgcaoAEoMlEdsmVJFGPF2CQRjSSahE8VO/0//6t5fVVgOJ6OvqIls2ptGS5rasw2QxDyXxocY6GCNFfwHWPjhFRSVtvs365SYodiRpaFlom1Hrnav0cNmUgCh//NExD4S+TqkAMPMcEpZO2LimNSJEpiapbQ4v83QP2b4EjvdthSSkxI2htoF3IxBQxcp96gG7X4wmY9V3iTfdg3/1R5jVCcSH5zVVE+/83tb09vFy7ctlTEBRGRqvSmy//NExEUSaUaoAMvScI6pwyhFx7/ZSHQnJrlKFRuafpihRSh1SA6QeFNSGsbu06W3/Q6XVzR+HyPIIiz3pB0+yqIkxXMU9zlznWVBI4iodU2x804eR/WyhXfMADciZrcC//NExE4RYS60AMRWcJh8kW3ggsSTxdwBPifqu/kioXH+YJRiFLBpmf9GhW3cQFB4DBghFRcgQUiadNiMVJ7cWYz8mkzRVNun+r7kKkXsbBpAi66ZAAPFLjtoLWEGgxK4//NExFsRiTq4AIPScLk2+tqQeh3j5ut19/hLZ+ILpVY91OOtG33I8XNKZuxwdfOW/X1CopafN7xvYehjTUWly1Wm/9R8HCl1PlNBZCNU+ZCeAiX98rg4Dqj9sOQm0W2Y//NExGcRyUq0AJPelBBRb10ahNs12xSihMQASIjdo3E0po5IafULqW1k5LJXp5Ic+K/x0XatKs6+hIxQxbRyUAen11IEMSbK+V6LGNGn6+XpOx2NRtUaea6UctSNTmkT//NExHISGT64AMPScCEdMGCdzR9NEy7IyyF/Nu7hspKI5NnTA5P/Yz0Lw/c0FgwL9isClOtYLuCicmY/AjhABjNysSieWn6nQ22IjHAe3JohKpqTMsGTxEsQJgkZFhDG//NExHwRgTq8AHvScJLJ1OflH7U41Su9hyzJxqK//011t/uSDUqPBnhaGLShLQBVZbeqqSlVJDDX3Vs234d6VS+MRaaqV2U112ZrwaYMLwJBINgsaTNMuV8WpeUZeUb8//NExIkSWT64AMPScGq6vllulmWbMgDIPLNhC3lhdBTU05NAFp3DDgLE7YD5UMFPqKDAZHLd0bMVFfq6K12z7IoB8AwGpIyVKFsuVluxqvt38zE4bFuAgUz/WtL+3SYW//NExJIRYT60AMYScVnHUkrDxhUTJoRkAFSiRA6E1I4lyZoDLPDmVUKSLGn2alGW0zibiYVCcoiSnWWtVX9qqqf2rz75LalrTEX79PTVyt0obSXVmHCc4wpSNxakhOAO//NExJ8R+UK0AHvScBhtLhxzHMOZCZYKlW1anlnNYl61nrWl61u+swSMxgHF+kYtlNpsxNfX7uqpJQ+86eztH9i7///////IKnEl0oF37/w8jYckA2aiG6bV1tmPNOJJ//NExKoRCUawAMPScN60KJbfHTP1lbblItPVR5e+3e7/L5Vl+qO7nA1XQCQLgbYdHdk0Y0XFdfcN950B9Rp246Wr9bgGsWS0Ancr+Po///4iaFArIgJ8HSOsLUVm7DAY//NExLgTSU6cAMPWlAemdN/jUHgDDSfqBguWUuS79ySpkKxy2ZobGtutl2nnZF5tZrgIYNAT9ymohWFxayR4mVnX6RqZZMDo5gV//W7KJZG/////UpUSEaKEHjpjBUnA//NExL0XeUqEANYQlEiQPsmBuoa68q0tCLAmC9jsIx4jsRTv40veVaPfZ3GO1vrbmJLRBRHBUkpjclM8wgKp7Us6u+l/ad2yZOGX//IHiz3dKleNcoDym9TVWAYIQlCe//NExLIVETp0AN4QcBIQI2wMV/LBwDn19tUsUrhjUre6bupu9j+X5C2NGHdHDLB4WgypkarMNShtCtG1rXw0iUVMYEkh+x//pS9FCwakczs/lgRpe8wELOTFGBtINfJ1//NExLATmTpwAN4ScFiPCEJe+kXLFEjB/RdYrrOt4dTIJF01seLBgQJGjCo5qom5Y1J47jkuoGKg1xNer/uXPzFdSlhYmFhUH/JkwnIjHmIedmQhQVLoIanQNbcrY7eH//NExLQS6TpwAN4QcHo7UGetpfvxomKzfrVN7pxRURG/d5TUINtp84/Z2fuK5EPEf/pXWmoxSVXYw+Pv1SaJQ5k3ACHDIMZGgoi6yEouKUjQWKAPZOxco/3ndjS21tex//NExLsSmTpsANvQcLAB6LHVTWWgSo4PjxWVPa++PnOfF//U0QrMe1EBDw8NMrHOoFPxgwaGBIYIMXEgcHAiTRUhWwtvJQIDIuPMy9SO9u27FwqMDHIAgoDKsc/EhYHc//NExMMRETZoANvMcEj2/3pHNhQkLmmf+Scau0UNNgK8dawAvDUTTWEZIGdTKAohhCqMQMEoHR1LwEi1ACQ/HJi7lVttd6TkBUGpsqsC0iq6ioNRWovVhY5jsoWKVf/h//NExNERuUJgANJMcL5FTVBV3/lQVUVGP+Vz3//9dQUa5isp1sZ7bVMdTLwhI0NKj6JLSSbIuiki2HBodJ1XolxpGrOJehek0YMZGF3YUyNOlQgEDzhc8ZSLjHKNE1IF//NExN0SOT5YANsGcHXv10FXTd2WoFBdPS3vrJJVKoESydPkk9gOgqCJLlqoUKFuNVX1ElWCr4KgqdEQNA0oFQVBUFQWBoGjwKg0DQNA0DIK+3waBp4lBU78rqDviXLA//NExOcUmTpAAMsQcNBUaCvK4s/kYiVMQU1FMy4xMDBVVVVVVVVVVVVVVVVVVVVVVVVVVVVVVVVVVVVVVVVVVVVVVVVVVVVVVVVVVVVVVVVVVVVVVVVVVVVVTEFNRTMu//NExOcUUSH8AHmGcDEwMFVVVVVVVVVVVVVVVVVVVVVVVVVVVVVVVVVVVVVVVVVVVVVVVVVVVVVVVVVVVVVVVVVVVVVVVVVVVVVVVVVVVVVVVVVVVVVVVVVVFzWh8ApA//NExOgS4HnsAGJGSJAWBdkHFzEMJYylvFvFzLmq4CHquRWMlWNnsAYHQOBxhMXQPi8hCN//5CMpGU50IRRAjKc53Q7yNOdDndCEIyhwUnOf//6nPX+hzyEIRlISc5////NExKwAAANIAAAAAP1Od0Od0IQhJKnkECKHBRRMPj2GJCcmmmDh4ezGbB8P4oE0wxwGAwJT9lEjtyt95Y4nok8nf/vOvOn0//J72m65LId6xr//Cp8luTLioSEKYmdf//NExKwAAANIAAAAAP2UrsNGGhEYxQsQHQz6//Jjc0paJzUE0EsmnXki2f///7Dd589Czd6bSAaCGPZDmJDayV////X+ucW7uJ1FkUH/0RifcpMgrUQLLTBglDgM2UqA//NExP8a8wlkAU8oAeNXTwx4YTCQUMFgswAKDSaNMEhZYOjC4HMJgd4IntyJNb5cjFnLip+JqK+LqdjKn4rYxk+9CUDhEAYHYS7YfWN32n3U2bn7z7JysnktdA0JBMNJ//NExOYisyosAZtYAD6BwvA4A8NT7jjGL+99xVdTL9jGmlA+BDIODRR5PG/E4YKKtlDhliShOhWCVYpelgeWMAI5ak2YwRMMcXkcXKf0LC4sP27k2AG89Jg34Hk3n237//NExK4hUgJcAdxYAM5XH/squ2V51O9cjDtNFR3LxQ2EqYh7lHdUPOPEMKCOIwihMEqjTxYaPCgsCkJT7FxypK9dqXGrw8DVPYcUMhVeVtmiauv+v/69iYmuI+onqP6i//NExHsgIupoANrQuOokyZc2hVzRl9gsATAl3NRkkWDz+gYDGJlOY5B7OqqnZVBSfFnEBoNhzwHS3WYLv8TfJr3rFX9d8pzbU7B0IYQB2PCZbYydjKZL32W204WpIjWV//NExE0hMspwAOIWuYwHgyG8ktBDSNB7DQCMkImEs4OM59/9O4qTemWdujzTx55tv7f/3/7OIqEVXzv31t74fFoTCYcJeG1ZdYwZdMWghIpYOxGCywgAowkP2Q/pJrRL//NExBsYoZ6IANtSlKbNUoz9JDouhpLf///kMySr1GycnGAoQRhOs3K80fUjSipY6jXbXQuQIIYbWQBNgmoMHiN7V3Aw0wdW+9zv5dBRrt9qTAeQlbGV6RIYmCWpkYSn//NExAsVOZ6YANoSlJSCdeILDYcF2uDQBSh9crCezpX/+q2iV///1/dpRLiM6DgLAwvNlKPY1u0mInLFCR5VR8U8grScqjk0BYtbCouNVRl6azRoev/Q3zt6LAhCbKgJ//NExAkTkY6kANFYlBiX3Y5ZLAiBJYsRAYVRsrH9UJzK6+1Jn+vft5GEgHDQ6G43A4vVvZUqKO2ytx5dattyf+9cmmZPPQYIyzNX///13/6Cgyrv7wtyEGhwGQq32UXx//NExA0VMS6kANRYcD0AegswSHKQ2iINpKKpPv55tZ0zWNYsmcQlF7zRSLS2yhCMdgiTDN1g6XDkSyosKyVbwcW0K0FmpeEiwAImfodo///u/WlYaqL8M6R+wAIHBCbQ//NExAsVIbacANtQlCYh6X3ZaOgpBZWYgl210g5At/ibjAt0ArAvNnMg6D4Ay0UMcVAal0zQBgbW5BqgwFV/xp/+1f/P8NQgG1/wP1vp///8n+osoaHK53V2CFFTCwi2//NExAkRISKcANQQcLMVHSbEFnAFQCUfbMCiQ431S4LKKzrdCwhS0dxCD4q7jtTa/lG/7YWa+JQo7/o1NOw8FWEB//////qailNKWuyMuOZjbntKIkSQHfdIwEOW2sIv//NExBcPkK58AVswAOxqQ3D1Na53uVamKSNx5kixxIGWRVYSDXHHoaDsRYhd//niwGBocipdpi2nmYQnqXkACHJrYUlYLQvlLVqkM161OzMrse5P7cWBEGv/bICQuIga//NExCscOyZsAZtQAFV9rYFMAuCGFgXgV/7U8GgVCxOIAKQCv/+jdR1hBhTj8cC7EOAx//9z/iIJBUC4EIDWTzydTf//6fb8fk48Y8gJDDiBh+k6EtRn8uHfxYRp70Zv//NExA0TinKwAYgoAHIRRJlb27xKIjBSWlBBo5CRUJ2AfTecYOc7qMEgOIgYHP9Oelch3QQLEhQ5P/0/bx5HdBM6qcXb/fR0zbiJIgoQKt67QIOLHhD/Icz14ew0OYaR//NExBEQeUq0AdgoABTus5Ze/9f38xBnvfRdT/30Q7ooDgcDmKOIUTqyB0zGFpSiIiHgafFxFNvsf+xzf9G7u7bIpU2k3AUVHGMLINbAStgWvD8gma7/5U2WFe9/28Mt//NExCIV0UK0AMZYcE3ZYo/t/pnRsTTl/P4T7CWcjQaGS05ULqto9eoio+6cXy7amsFCUWHCowQh025/ru3f///6Fcv4z8mF+DSiadyGnGDSn+n6ROier12mWvrPhZ3W//NExB0SWTa4AMZScIIs/jvNioY3rv8sU2kYbwquARCKWBQhWtGlD464rmqxc2rMMVrKSR64uhJFCs/idnl9HeI015BG2Obp4JDPUlukUZsVHQiN7dJL+cuRmM0bbPSJ//NExCYRSS68AH4ScHrow8hIw2BgNFDAySyuVQYXZvJsuhfnq7Omg6TDvqRVx7tMlqfMkvIGuwQDmyaupWWeb9/ZsFOe7bwb1uA41ndlct/GXZoX1OXPLY+FMXFRvpuu//NExDMSiS60AMYYcP229kPTt3etXsw54qDTd9re4XWKBP30KpyX2kJg8KWKUCQn9fEgcD3LBRiVQ2Cyq19Foh2cXUNcSsvyoTrzAfogeSFVGwAUfZi+W1Oid9J3uv21//NExDsQsTqkAMPWcNIslI9D//5KjCrmuiFAkov0c8ETlrJCrwBwhMiZmoN5VwGJvdTvZJ6MTyeuNxYshAkcVGCKDA8ID44tF+iXrsyIo1Wr0F7U4nfRtuVVBPBvRlMT//NExEsRCSZwAMPKcOXZksCiYqhLbOUrNsGZixPQDx9oICU6RloTDwYOjDRQQ52MWLqFxUQiUwRzA2LvGbbkadXB/T/b/sl1EACCzhkQxtVC423TzUAPlIkRCzJNyhJw//NExFkQgHpwAHmGSPPA8pBaTiRTJh4LmgfuFmvmRPDAfFwOQE4Hf3ie8ImpTYUqOOKewDlLY96msRUGFQVJr0vd2mkUnKN7WfXveQNhjDQ8uEFmw8aYFzopEQ6bOBJR//NExGoRkQKIAFhGcCUH2AJ5ZiI8QyTw2eA0iWabUOd91FmlyZWmlKXwVjxQkgkMf67GqmReVPhF79OxJq4bPzdlkc2d1kIrlI0kpUiwjkykRtHIz3y59LP8qpflEyGf//NExHYQ6LaMADhGTEPsU2Xe0VMomfXGc1UURFkrPBUB6HdbTsZ/lMEch0Zygsyz/uhFHOCTPTY4XFTLDRYShgCrBsI0VvYhBlxse9iTm9SUehHt18Xe9qTylDBsWTAa//NExIURQd6MADjGmOoJG/5cXX9pI8pRzhEqyT4+Tnm6G9RD/nrn8w9Dm4YSIEwvirjTypcsBilTkiiXRdKxewqjTdrNr0MWKwhuSkKiiQ2v9KfnNzhkiM2Waqx5/u+n//NExJMQEOKQADhGcFCkLoqszKJUPvcq7bjhUUhc4ddipsEtTSTnnWna3KFclKJCFhlMu0XTUlYqXUtUkAg2hgZqAVEc974Qyy3uZvS+7KXH0TxOmpuTHS4D5GUEYR33//NExKUQQUKQADhGcBkNmJ6ERzTBXKCNcELPkGGqzV+aRS1KGgNgoYoMHRkRL0WvVQi0GPqns/9lS8OdvtZTyu/fXeyu+q8JmBU9G1vvohJM2Faeb4rGGngoQaQ8VVYt//NExLcRUTqMADhGcHK0OERFNcQwxkTGqSEJ4OK74mAMsJWLTSyxMAYY11v5saagZw+EVrVZZLbcvpsNaqXNWc6lW3Vq/ruc5hV3Vpdvlet5ar3MO8x3/P3Yx3/4/hzl//NExMQXOv6MAUgYAJyqdy5h/673v6zz5+ta/WNfJJYTO/i7+VUkVOve6/rVfRxmVJhHNBx9+U9TSFwM9fl2RQiCySPzX4EOtGMIFU1uGErBzCcqDJkBahColATsBMmC//NExLohke6UAZrQAMFHJI8DCJAUAFcc8agopmg471pJGxaWiYkmpayXZmPFdSBwgZoyRFiQd0iotJZX1u3fp1MUGW5QLS6084kzsyd1p8w3MzzIon1hc4VZ///+ksqa//NExIYhGhKQAdqgAL1xo5kISbKsM6JjyKohxKy4vXSoPd8BITtEaMgDMYpJBwUwBEz4w1sNJjcUZSAZjMCBybzOgyN37en9h+WcriRBBdKDekLaOaSNdSxUgQMjYMIE//NExFQcQbqcAM5SlOjMq6m/x//3/1/dMVCr39NHMnQ0CAZjKXSczFHJu87VGU28uJLI5VblCjyn3Ul4iOIarP3ONueBPZQspNIhoFItIuEX3XXOppCASm9NemoHsdym//NExDYXUS6sAMYwcWUWOdpbfdat93ytz9/Y/LdL2ixpsbaZIvVXdZXlvTIr+sya429t/yq1376YCnN7b7CWbXKzxjTq8TcFfQZ/UmXdAO78xeJLRMY9b17KPjy0Oy5k//NExCsW6bqoAMZQlUCWET7V6ZZ7F89/KR/edXJI/xgsZEMJ6dQUgoE9SKtVs197V/fxdfU181bQbDpXZYWrlu4SqmN1JkGkhG/qkUMpyWwWYwVeZhboOBc7NIch4965//NExCIUWTqsAMYmcACAs0Sc3LAhMATASQxTLoasKiqysvMTTWUTd1zuuTr0TUnm0TSt9Er1lXlguVElKt0AwkIEdyaAj5EUvmyg6xdusoDNbFqUNND8cr8vY0NDY8mi//NExCMSiSqsAJZecOIjU+D9FzDdgZN8K91SzxK7+Hjj83b5P/Lv6kOx3qne6jXXftqf9FX/DWBXVOIakDgj02nu+VnKVITpy1E7QJSlzNXnrR+i2oYZwS59Kcg90JiU//NExCsRySa0AH4ecF4Vjl7tlfeHGri+5t/31a8O1aQNR4tAiz/++w2q18QRML9SAThYdQyDnjFlJWGsQlWCOBugCoTJOCSFGhSjP86mGGSzIQR6LiAPw6hCBAeTJEtf//NExDYR8Ra4AHvYcK5N+tNN7INp/2rnviIFCf//ov6QgXvgBCFTR+H/JqWVpzq9dlTAACSSd5na5nZlrvtJcJ/oxEaCBYV05BMyASxrHMRh5LRSRPPQV+0OTXYJruza//NExEESeSK0AH4YcAb15rwAdR//05nVCIVur1ui+6TFQ9m230XBXpS86gbQGXgE4sV3WkJ6urGrzfZZRx6MzCVwvjmUB2KgNQSRExDWodmerz3vsWYm1Outf5axlmW5//NExEoSMSKsAMYYcfcAyLe0/EWu8QmW9J2QnKSAbNNbIWw9Ia6KVNnADrT3Xps6U47YMX+GgXFpUIw+WL/dVdbavbL82b2zR7DU4fsJqNf+yZiL/eKqw3WBw9UAoptq//NExFQSmSKoAMYYcHXwmDRIsS0SAAyArmRIAiG96TNCYmDKfUYHK7bUtmVmjg2jfHoknJ2MXDg92lLfDBeXaRsPW168bAugwf//41fHBsaCLdgeE8k+VDUlaARYk7WD//NExFwSOSKoAMPYcA0qsRpcOpmVb+A+87Rd21eO/Wh08yz3lQMobCV0c/OuyTNdb87El66L196rdVv/////4xDDksD6yGNGxtieIYL8vpuD7ZBE0gYr6i7azDxxW9T1//NExGYRuRqkAMYScDeEzjy7eJ1Kk/peNlP0irKwl/XMwm7OpfXd05RmhOuQ9H/u/9H////618qpKIZIcSi5zxQNKjFTFiXbMMETdv+12gxaZuy6OPx+Bcexbv3P5bMp//NExHISOSacAMYScBVsK7ON+ViqyoNEftllmJDyW1HMrjk5SXq0AgqMet39xZrPXSu/9q1////klSY46iBA65Bi44BOc5cFshlELssjM5FBWmYgAchWLZYXF4XMrSzk//NExHwVUSKMAM5YcE4/s0s8tVrjpbyh9DjTmJ7BeL63ioIM5ihEDAkYIKZvp+30N7rMzJ9v4kmREq3fyv//v954VctkzlT5uOv16kqiIWblU0uTDKCTrlaGthjsj6nu//NExHkXQdZ4ANMEmMpsyhQtLfH5r0OCIiKC4hAY1ZVIjQsSAuebIUOGn2tF1va49KANR8Rh9OYu//1Oqeuho6cSBkcpDa1ByXXt+13fyIj3BsyTP+kUCGJMK9u7N6Ic//NExG8UONp4AMJGcFGG8ytZGRYcslgoP2nlkhJ8+dgKPCzyQzyXTO1zXP84fkMY5cfURYUb3DQ4HHsTGDiK0Btip8hVBkjkvr/+tNEaIKmiEIopNGTZNgR/szLD2P70//NExHEVSip8AGDGmI9lUqWvFDA6ssBnzoS5IDBqIkzxE6VixoK6wyd9WdbKirH1LZ5YfdcIlRCdnJbedX+lFsZswUEDDkdIQGgUORW6Md18plelD7I/l/2+uU//ihgY//NExG4RESp8ADBGcDS57tbKTk1kOFKwMNHL72AqZWzqqv3DKkjdcqQYJh1SCU6uvVWZva5+SaqSsK7avOxpNil9gzzASIuF2te0J0RZEsgYOeqdFhY/HvAuLgqlU6Ku//NExHwSKiYcADiGmKSwSWU4+o3PF8K37HNnDZVVEnvaRDRUZeVqw9JC0fF59VIt2OxSey2cjpuMhWUEzNrGsqyr/rj+S14+I75jD7N3ya7//5su5v/D6Mavlz4nfaf9//NExIYQ6NIUAFDGcIUMbRYht/qjZG2XvZfnDIyt81vHIOxAVR7L9JHzpof/v/DO8fb6vgpW/zzI5bUq+Sp1qvf9ja+/e+qmPdy+J/vY3Zu13/oKJMYz/KppzCEKwhMP//NExJURMS4IAAhEcSP1Uox7H6lxwGAoK7+sHQscUT/Oi/i7HxUvTQoa/UL/GeKl+Y5h/8GhQU6X3/iK9E7g2F43Ibl80qpJdWnbMiS6xadmytOmpElSpCdmy1Omp0FS//NExKMQwNYEABBGcaRkZstVpqdHZUjI1darbM6OlYvI1dWrbMielYtO1dWnbMiS6xadmytOmpElSpCdmy0DcO0QAEEYQEDgnBBwnB+D4fuf/Ttz8EAQeCAILBwEC4Ph//NExLMRiNnoABBGcfLg+fKAmfUc/UcjwwKg+D8Th9QIHygIOR/7t3y6ISS4cJOiCm8dp8KddqhnaGaK+3aTrKTi1HpwmpIicROOAzBYIDkAtBBOCyixB5AgmgnF55+a//NExL8SeAHcAAgAAUWNMTII6juJMl851ijyB4aEv3l8taKRGja+vC1JInScxZh5icJY8JSSNKNw56Noj0aojRsXhJzYuK/fP/8/baInGlXCUlmJoJoJqTSRSn94L2oJ//NExMgPqDHkABhEAITzBe5el6dbc+ZzbP+y2P/5tZZxQwYGjkfWaoZH//8xURU6KiKnqiKR2cplVF0VFVP//Rbs5UVexioDUj/////0VUVFQoYGDA1aTEFNTEFNRTMu//NExNwh0x3gAHmMvDEwMKqqqqqqqqqqqqqqqqqqqqqqqqqqqqqqqqqqqqqqqqqqqqqqqqqqqqqqqqqqqqqqqqqqqqqqqqqqqqqqqqqqqqqqqqqqqqqqqqqqTEFNRTMu//NExKcSovmkAGDEuTEwMKqqqqqqqqqqqqqqqqqqqqqqqqqqqqqqqqqqqqqqqqqqqqqqqqqqqqqqqqqqqqqqqqqqqqqqqqqqqqqqqqqqqqqqqqqqqqqqqqqqTEFNRTMu//NExKwAAANIAAAAADEwMKqqqqqqqqqqqqqqqqqqqqqqqqqqqqqqqqqqqqqqqqqqqqqqqqqqqqqqqqqqqqqqqqqqqqqqqqqqqqqqqqqqqqqqqqqqqqqqqqqqTEFNRTMu//NExKwAAANIAAAAADEwMKqqqqqqqqqqqqqqqqqqqqqqqqqqqqqqqqqqqqqqqqqqqqqqqqqqqqqqqqqqqqqqqqqqqqqqqqqqqqqqqqqqqqqqqqqqqqqqqqqqTEFNRTMu//NExKwAAANIAAAAADEwMKqqqqqqqqqqqqqqqqqqqqqqqqqqqqqqqqqqqqqqqqqqqqqqqqqqqqqqqqqqqqqqqqqqqqqqqqqqqqqqqqqqqqqqqqqqqqqqqqqqTEFNRTMu//NExKwAAANIAAAAADEwMKqqqqqqqqqqqqqqqqqqqqqqqqqqqqqqqqqqqqqqqqqqqqqqqqqqqqqqqqqqqqqqqqqqqqqqqqqqqqqqqqqqqqqqqqqqqqqqqqqqTEFNRTMu//NExKwAAANIAAAAADEwMKqqqqqqqqqqqqqqqqqqqqqqqqqqqqqqqqqqqqqqqqqqqqqqqqqqqqqqqqqqqqqqqqqqqqqqqqqqqqqqqqqqqqqqqqqqqqqqqqqqk5FMgeYa//NExKwAAANIAAAAAJBxhMx2mlDCxDpZ//8pmRpZWGGFiHR5WMnR5WEjCxDpZRqS0E4tnqVLi83NiH/Z9y7h2ep3ItnZ6zdi2dnrM3N+5f//+Wz5uXFtKS1JxZRZJQZN//NExKwAAANIAAAAAAuLad2LZ2mlKTju0pBhiaFmbhuBAViUUB3KiVGvgdfYZjcbMQB0ZJGSZG0AZGSaGMBiTXYDILAMyMjZTRLFYjJ7Kf/5kcsuZfyykaX/5TL/N5TK//NExKwAAANIAAAAAOlU0diMvI0DhlHRLLFYYWHimXYSOCUcQ8UjR4rDCw4JRwMYXhHS4E2JyeyHpVDkSxrKua4jNBpO1Q1hq0NWpGrRyP9lqGspeyx1aw/sMmUFDJv5//NExP8aswV8ADDMuWk1z///5b/+rRyNYayGsO5rSZYa5tUNWcm2VDEhgch9I1DA3EtSZxIYELGFBUHEho6OTKGBuMBA0HEhqtVMQU1FMy4xMDBVVVVVVVVVTEFNRTMu//NExOcZMwXsAGBGuTEwMFVVVVVVVVVVVVVVVVVVVVVVVVVVVVVVVVVVVVVVVVVVVVVVVVVVVVVVVVVVVVVVVVVVVVVVVVVVVVVVVVVVVVVVVVVVVVVVVVVVTEFNRTMu//NExNUa2xnAAHjGvTEwMFVVVVVVVVVVVVVVVVVVVVVVVVVVVVVVVVVVVVVVVVVVVVVVVVVVVVVVVVVVVVVVVVVVVVVVVVVVVVVVVVVVVVVVVVVVVVVVVVVVTEFNRTMu//NExKwAAANIAAAAADEwMFVVVVVVVVVVVVVVVVVVVVVVVVVVVVVVVVVVVVVVVVVVVVVVVVVVVVVVVVVVVVVVVVVVVVVVVVVVVVVVVVVVVVVVVVVVVVVVVVVVVVVVVVVV//NExKwAAANIAAAAAFVVVVVVVVVVVVVVVVVVVVVVVVVVVVVVVVVVVVVVVVVVVVVVVVVVVVVVVVVVVVVVVVVVVVVVVVVVVVVVVVVVVVVVVVVVVVVVVVVVVVVVVVVVVVVV//NExKwAAANIAAAAAFVVVVVVVVVVVVVVVVVVVVVVVVVVVVVVVVVVVVVVVVVVVVVVVVVVVVVVVVVVVVVVVVVVVVVVVVVVVVVVVVVVVVVVVVVVVVVVVVVVVVVVVVVVVVVV\" type=\"audio/mpeg\" />\n",
              "                    Your browser does not support the audio element.\n",
              "                </audio>\n",
              "              "
            ]
          },
          "metadata": {},
          "execution_count": 66
        }
      ]
    },
    {
      "cell_type": "markdown",
      "source": [
        "# [3] Learn more on data frame\n"
      ],
      "metadata": {
        "id": "3eSrUoglRh6-"
      }
    },
    {
      "cell_type": "markdown",
      "source": [
        "Prepare a sample dataframe"
      ],
      "metadata": {
        "id": "-RULjdSOK_xz"
      }
    },
    {
      "cell_type": "code",
      "source": [
        "#@markdown Import packages: {pandas} as pd, {numpy} as np, random\n",
        "import pandas as pd\n",
        "import numpy as np\n",
        "import random"
      ],
      "metadata": {
        "cellView": "form",
        "id": "G7g810G_LIvt"
      },
      "execution_count": null,
      "outputs": []
    },
    {
      "cell_type": "markdown",
      "source": [
        "Popular baby names in 2022 USA: [weblink]()\n",
        "\n",
        "|Girl|Boy|\n",
        "|--|--|\n",
        "|Liam\t|Olivia|\t\n",
        "|Noah\t|Emma|\t\n",
        "|Oliver|\tCharlotte| \n",
        "|Elijah|\tAmelia |\n",
        "|James|\tAva| \n",
        "|William|\tSophia |\n",
        "|Benjamin\t|Isabella |\n",
        "|Lucas|\tMia \t|\n",
        "|Henry|\tEvelyn \t|\n",
        "|Theodore\t|Harper|"
      ],
      "metadata": {
        "id": "pu7jfiUYLneV"
      }
    },
    {
      "cell_type": "markdown",
      "source": [
        "To copy:  \n",
        "Liam,\tOlivia, Noah,\tEmma, Oliver,\tCharlotte, Elijah,\tAmelia, James,\tAva, William,\tSophia, Benjamin,\tIsabella, Lucas,\tMia, Henry,\tEvelyn, Theodore,\tHarper"
      ],
      "metadata": {
        "id": "goCgVPcMh8x5"
      }
    },
    {
      "cell_type": "code",
      "source": [
        "#@markdown 🎧 Pronouncing the names: \n",
        "text = input(\"Paste the names: \")\n",
        "\n",
        "intro = \"Here are 20 popular baby names in the order: \"\n",
        "outro = \".\"\n",
        "n = len(text)\n",
        "mytext = intro + text[:n-6] + \"and\" + text[-6:] + outro\n",
        "etts(mytext)\n",
        "Audio(\"E-audio.mp3\")"
      ],
      "metadata": {
        "cellView": "form",
        "id": "N92R7ju8k2YA",
        "outputId": "1fd66bc4-b3d4-44f9-ed3e-13d7e6ce49f3",
        "colab": {
          "base_uri": "https://localhost:8080/",
          "height": 93
        }
      },
      "execution_count": null,
      "outputs": [
        {
          "name": "stdout",
          "output_type": "stream",
          "text": [
            "Names: Liam, Olivia, Noah, Emma, Oliver, Charlotte, Elijah, Amelia, James, Ava, William, Sophia, Benjamin, Isabella, Lucas, Mia, Henry, Evelyn, Theodore, Harper\n"
          ]
        },
        {
          "output_type": "execute_result",
          "data": {
            "text/plain": [
              "<IPython.lib.display.Audio object>"
            ],
            "text/html": [
              "\n",
              "                <audio  controls=\"controls\" >\n",
              "                    <source src=\"data:audio/mpeg;base64,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\" type=\"audio/mpeg\" />\n",
              "                    Your browser does not support the audio element.\n",
              "                </audio>\n",
              "              "
            ]
          },
          "metadata": {},
          "execution_count": 103
        }
      ]
    },
    {
      "cell_type": "markdown",
      "source": [
        "## Create a dataframe with two columns \"Names, Gender\""
      ],
      "metadata": {
        "id": "53ZcUvv9m9pv"
      }
    },
    {
      "cell_type": "code",
      "source": [
        "nam = input(\"Paste names from the above: \")\n",
        "\n",
        "nam1 = nam.split(\", \")\n",
        "\n",
        "gen1 = [\"F\"]\n",
        "gen2 = [\"M\"]\n",
        "\n",
        "names = nam1; print(\"Total names: %d\"%len(names))\n",
        "\n",
        "df = pd.DataFrame()\n",
        "df[\"Names\"] = names\n",
        "df[\"Gender\"] = gen1*10 + gen2*10\n",
        "\n",
        "df"
      ],
      "metadata": {
        "colab": {
          "base_uri": "https://localhost:8080/",
          "height": 714
        },
        "id": "0VSaVkoOLclL",
        "outputId": "92018ef4-fd00-4743-8dab-4bd3ba736ae6"
      },
      "execution_count": null,
      "outputs": [
        {
          "output_type": "stream",
          "name": "stdout",
          "text": [
            "Paste names from the above: Liam, Olivia, Noah, Emma, Oliver, Charlotte, Elijah, Amelia, James, Ava, William, Sophia, Benjamin, Isabella, Lucas, Mia, Henry, Evelyn, Theodore, Harper\n",
            "Total names: 20\n"
          ]
        },
        {
          "output_type": "execute_result",
          "data": {
            "text/plain": [
              "        Names Gender\n",
              "0        Liam      F\n",
              "1      Olivia      F\n",
              "2        Noah      F\n",
              "3        Emma      F\n",
              "4      Oliver      F\n",
              "5   Charlotte      F\n",
              "6      Elijah      F\n",
              "7      Amelia      F\n",
              "8       James      F\n",
              "9         Ava      F\n",
              "10    William      M\n",
              "11     Sophia      M\n",
              "12   Benjamin      M\n",
              "13   Isabella      M\n",
              "14      Lucas      M\n",
              "15        Mia      M\n",
              "16      Henry      M\n",
              "17     Evelyn      M\n",
              "18   Theodore      M\n",
              "19     Harper      M"
            ],
            "text/html": [
              "\n",
              "  <div id=\"df-9f921e5e-8937-430e-b8b9-d16e56365044\">\n",
              "    <div class=\"colab-df-container\">\n",
              "      <div>\n",
              "<style scoped>\n",
              "    .dataframe tbody tr th:only-of-type {\n",
              "        vertical-align: middle;\n",
              "    }\n",
              "\n",
              "    .dataframe tbody tr th {\n",
              "        vertical-align: top;\n",
              "    }\n",
              "\n",
              "    .dataframe thead th {\n",
              "        text-align: right;\n",
              "    }\n",
              "</style>\n",
              "<table border=\"1\" class=\"dataframe\">\n",
              "  <thead>\n",
              "    <tr style=\"text-align: right;\">\n",
              "      <th></th>\n",
              "      <th>Names</th>\n",
              "      <th>Gender</th>\n",
              "    </tr>\n",
              "  </thead>\n",
              "  <tbody>\n",
              "    <tr>\n",
              "      <th>0</th>\n",
              "      <td>Liam</td>\n",
              "      <td>F</td>\n",
              "    </tr>\n",
              "    <tr>\n",
              "      <th>1</th>\n",
              "      <td>Olivia</td>\n",
              "      <td>F</td>\n",
              "    </tr>\n",
              "    <tr>\n",
              "      <th>2</th>\n",
              "      <td>Noah</td>\n",
              "      <td>F</td>\n",
              "    </tr>\n",
              "    <tr>\n",
              "      <th>3</th>\n",
              "      <td>Emma</td>\n",
              "      <td>F</td>\n",
              "    </tr>\n",
              "    <tr>\n",
              "      <th>4</th>\n",
              "      <td>Oliver</td>\n",
              "      <td>F</td>\n",
              "    </tr>\n",
              "    <tr>\n",
              "      <th>5</th>\n",
              "      <td>Charlotte</td>\n",
              "      <td>F</td>\n",
              "    </tr>\n",
              "    <tr>\n",
              "      <th>6</th>\n",
              "      <td>Elijah</td>\n",
              "      <td>F</td>\n",
              "    </tr>\n",
              "    <tr>\n",
              "      <th>7</th>\n",
              "      <td>Amelia</td>\n",
              "      <td>F</td>\n",
              "    </tr>\n",
              "    <tr>\n",
              "      <th>8</th>\n",
              "      <td>James</td>\n",
              "      <td>F</td>\n",
              "    </tr>\n",
              "    <tr>\n",
              "      <th>9</th>\n",
              "      <td>Ava</td>\n",
              "      <td>F</td>\n",
              "    </tr>\n",
              "    <tr>\n",
              "      <th>10</th>\n",
              "      <td>William</td>\n",
              "      <td>M</td>\n",
              "    </tr>\n",
              "    <tr>\n",
              "      <th>11</th>\n",
              "      <td>Sophia</td>\n",
              "      <td>M</td>\n",
              "    </tr>\n",
              "    <tr>\n",
              "      <th>12</th>\n",
              "      <td>Benjamin</td>\n",
              "      <td>M</td>\n",
              "    </tr>\n",
              "    <tr>\n",
              "      <th>13</th>\n",
              "      <td>Isabella</td>\n",
              "      <td>M</td>\n",
              "    </tr>\n",
              "    <tr>\n",
              "      <th>14</th>\n",
              "      <td>Lucas</td>\n",
              "      <td>M</td>\n",
              "    </tr>\n",
              "    <tr>\n",
              "      <th>15</th>\n",
              "      <td>Mia</td>\n",
              "      <td>M</td>\n",
              "    </tr>\n",
              "    <tr>\n",
              "      <th>16</th>\n",
              "      <td>Henry</td>\n",
              "      <td>M</td>\n",
              "    </tr>\n",
              "    <tr>\n",
              "      <th>17</th>\n",
              "      <td>Evelyn</td>\n",
              "      <td>M</td>\n",
              "    </tr>\n",
              "    <tr>\n",
              "      <th>18</th>\n",
              "      <td>Theodore</td>\n",
              "      <td>M</td>\n",
              "    </tr>\n",
              "    <tr>\n",
              "      <th>19</th>\n",
              "      <td>Harper</td>\n",
              "      <td>M</td>\n",
              "    </tr>\n",
              "  </tbody>\n",
              "</table>\n",
              "</div>\n",
              "      <button class=\"colab-df-convert\" onclick=\"convertToInteractive('df-9f921e5e-8937-430e-b8b9-d16e56365044')\"\n",
              "              title=\"Convert this dataframe to an interactive table.\"\n",
              "              style=\"display:none;\">\n",
              "        \n",
              "  <svg xmlns=\"http://www.w3.org/2000/svg\" height=\"24px\"viewBox=\"0 0 24 24\"\n",
              "       width=\"24px\">\n",
              "    <path d=\"M0 0h24v24H0V0z\" fill=\"none\"/>\n",
              "    <path d=\"M18.56 5.44l.94 2.06.94-2.06 2.06-.94-2.06-.94-.94-2.06-.94 2.06-2.06.94zm-11 1L8.5 8.5l.94-2.06 2.06-.94-2.06-.94L8.5 2.5l-.94 2.06-2.06.94zm10 10l.94 2.06.94-2.06 2.06-.94-2.06-.94-.94-2.06-.94 2.06-2.06.94z\"/><path d=\"M17.41 7.96l-1.37-1.37c-.4-.4-.92-.59-1.43-.59-.52 0-1.04.2-1.43.59L10.3 9.45l-7.72 7.72c-.78.78-.78 2.05 0 2.83L4 21.41c.39.39.9.59 1.41.59.51 0 1.02-.2 1.41-.59l7.78-7.78 2.81-2.81c.8-.78.8-2.07 0-2.86zM5.41 20L4 18.59l7.72-7.72 1.47 1.35L5.41 20z\"/>\n",
              "  </svg>\n",
              "      </button>\n",
              "      \n",
              "  <style>\n",
              "    .colab-df-container {\n",
              "      display:flex;\n",
              "      flex-wrap:wrap;\n",
              "      gap: 12px;\n",
              "    }\n",
              "\n",
              "    .colab-df-convert {\n",
              "      background-color: #E8F0FE;\n",
              "      border: none;\n",
              "      border-radius: 50%;\n",
              "      cursor: pointer;\n",
              "      display: none;\n",
              "      fill: #1967D2;\n",
              "      height: 32px;\n",
              "      padding: 0 0 0 0;\n",
              "      width: 32px;\n",
              "    }\n",
              "\n",
              "    .colab-df-convert:hover {\n",
              "      background-color: #E2EBFA;\n",
              "      box-shadow: 0px 1px 2px rgba(60, 64, 67, 0.3), 0px 1px 3px 1px rgba(60, 64, 67, 0.15);\n",
              "      fill: #174EA6;\n",
              "    }\n",
              "\n",
              "    [theme=dark] .colab-df-convert {\n",
              "      background-color: #3B4455;\n",
              "      fill: #D2E3FC;\n",
              "    }\n",
              "\n",
              "    [theme=dark] .colab-df-convert:hover {\n",
              "      background-color: #434B5C;\n",
              "      box-shadow: 0px 1px 3px 1px rgba(0, 0, 0, 0.15);\n",
              "      filter: drop-shadow(0px 1px 2px rgba(0, 0, 0, 0.3));\n",
              "      fill: #FFFFFF;\n",
              "    }\n",
              "  </style>\n",
              "\n",
              "      <script>\n",
              "        const buttonEl =\n",
              "          document.querySelector('#df-9f921e5e-8937-430e-b8b9-d16e56365044 button.colab-df-convert');\n",
              "        buttonEl.style.display =\n",
              "          google.colab.kernel.accessAllowed ? 'block' : 'none';\n",
              "\n",
              "        async function convertToInteractive(key) {\n",
              "          const element = document.querySelector('#df-9f921e5e-8937-430e-b8b9-d16e56365044');\n",
              "          const dataTable =\n",
              "            await google.colab.kernel.invokeFunction('convertToInteractive',\n",
              "                                                     [key], {});\n",
              "          if (!dataTable) return;\n",
              "\n",
              "          const docLinkHtml = 'Like what you see? Visit the ' +\n",
              "            '<a target=\"_blank\" href=https://colab.research.google.com/notebooks/data_table.ipynb>data table notebook</a>'\n",
              "            + ' to learn more about interactive tables.';\n",
              "          element.innerHTML = '';\n",
              "          dataTable['output_type'] = 'display_data';\n",
              "          await google.colab.output.renderOutput(dataTable, element);\n",
              "          const docLink = document.createElement('div');\n",
              "          docLink.innerHTML = docLinkHtml;\n",
              "          element.appendChild(docLink);\n",
              "        }\n",
              "      </script>\n",
              "    </div>\n",
              "  </div>\n",
              "  "
            ]
          },
          "metadata": {},
          "execution_count": 104
        }
      ]
    },
    {
      "cell_type": "markdown",
      "source": [
        "## B. Create random grades: Korean, English, Math"
      ],
      "metadata": {
        "id": "zt5KC6aGnGmE"
      }
    },
    {
      "cell_type": "code",
      "source": [
        "m = input(\"Mean: \")\n",
        "s = input(\"Standard Deviation: \")\n",
        "sn = input(\"How many items: \")\n",
        "sn = int(sn)\n",
        "mean = float(m)\n",
        "stdd = float(s)\n",
        "\n",
        "# mean, stdd, samples = 56, 12, 10\n",
        "sample = np.random.normal(mean, stdd, sn+20)\n",
        "sample_range = (sample >= 0) & (sample <= 100)\n",
        "sample = sample[sample_range]\n",
        "sample = np.random.choice(sample, sn)\n",
        "\n",
        "sample = [round(sam,1) for sam in sample]\n",
        "print(sample)\n",
        "len(sample)"
      ],
      "metadata": {
        "id": "LIw7SsVhiXQ0",
        "outputId": "4cd219cd-e066-401b-a28a-fce47f50e483",
        "colab": {
          "base_uri": "https://localhost:8080/"
        }
      },
      "execution_count": null,
      "outputs": [
        {
          "output_type": "stream",
          "name": "stdout",
          "text": [
            "Mean: 54.5\n",
            "Standard Deviation: 22\n",
            "How many items: 20\n",
            "[97.6, 51.1, 48.8, 30.0, 82.0, 78.6, 62.1, 50.2, 91.5, 96.4, 30.9, 65.3, 69.2, 65.3, 28.9, 62.1, 65.1, 67.7, 46.9, 69.5]\n"
          ]
        },
        {
          "output_type": "execute_result",
          "data": {
            "text/plain": [
              "20"
            ]
          },
          "metadata": {},
          "execution_count": 89
        }
      ]
    },
    {
      "cell_type": "markdown",
      "source": [
        "Add a column with the generated sample"
      ],
      "metadata": {
        "id": "0CvCBHe1nPme"
      }
    },
    {
      "cell_type": "code",
      "source": [
        "# df['Math'] = sample\n",
        "df"
      ],
      "metadata": {
        "colab": {
          "base_uri": "https://localhost:8080/",
          "height": 677
        },
        "id": "W3xEOsjpOVNY",
        "outputId": "8ce03ecb-ecc5-40a1-97a3-70713a8e169e"
      },
      "execution_count": null,
      "outputs": [
        {
          "output_type": "execute_result",
          "data": {
            "text/plain": [
              "        Names Gender  Korean  English  Math\n",
              "0        Liam      F    78.1     56.4  97.6\n",
              "1      Olivia      F    80.2     67.2  51.1\n",
              "2        Noah      F    55.6     58.1  48.8\n",
              "3        Emma      F    75.2     52.9  30.0\n",
              "4      Oliver      F    83.2     40.0  82.0\n",
              "5   Charlotte      F    77.4     24.8  78.6\n",
              "6      Elijah      F    83.2     57.2  62.1\n",
              "7      Amelia      F    68.5     95.0  50.2\n",
              "8       James      F    63.2     74.5  91.5\n",
              "9         Ava      F    75.5     58.1  96.4\n",
              "10    William      M    63.7     62.1  30.9\n",
              "11     Sophia      M    58.2     40.0  65.3\n",
              "12   Benjamin      M    82.4     67.2  69.2\n",
              "13   Isabella      M    55.6     33.4  65.3\n",
              "14      Lucas      M    90.2     95.0  28.9\n",
              "15        Mia      M    75.2     41.1  62.1\n",
              "16      Henry      M    80.2     43.5  65.1\n",
              "17     Evelyn      M    81.0     80.8  67.7\n",
              "18   Theodore      M    54.8     79.8  46.9\n",
              "19     Harper      M    77.4     60.0  69.5"
            ],
            "text/html": [
              "\n",
              "  <div id=\"df-b5e0cb54-f879-4f4c-bfaa-4e6d2ae21c4c\">\n",
              "    <div class=\"colab-df-container\">\n",
              "      <div>\n",
              "<style scoped>\n",
              "    .dataframe tbody tr th:only-of-type {\n",
              "        vertical-align: middle;\n",
              "    }\n",
              "\n",
              "    .dataframe tbody tr th {\n",
              "        vertical-align: top;\n",
              "    }\n",
              "\n",
              "    .dataframe thead th {\n",
              "        text-align: right;\n",
              "    }\n",
              "</style>\n",
              "<table border=\"1\" class=\"dataframe\">\n",
              "  <thead>\n",
              "    <tr style=\"text-align: right;\">\n",
              "      <th></th>\n",
              "      <th>Names</th>\n",
              "      <th>Gender</th>\n",
              "      <th>Korean</th>\n",
              "      <th>English</th>\n",
              "      <th>Math</th>\n",
              "    </tr>\n",
              "  </thead>\n",
              "  <tbody>\n",
              "    <tr>\n",
              "      <th>0</th>\n",
              "      <td>Liam</td>\n",
              "      <td>F</td>\n",
              "      <td>78.1</td>\n",
              "      <td>56.4</td>\n",
              "      <td>97.6</td>\n",
              "    </tr>\n",
              "    <tr>\n",
              "      <th>1</th>\n",
              "      <td>Olivia</td>\n",
              "      <td>F</td>\n",
              "      <td>80.2</td>\n",
              "      <td>67.2</td>\n",
              "      <td>51.1</td>\n",
              "    </tr>\n",
              "    <tr>\n",
              "      <th>2</th>\n",
              "      <td>Noah</td>\n",
              "      <td>F</td>\n",
              "      <td>55.6</td>\n",
              "      <td>58.1</td>\n",
              "      <td>48.8</td>\n",
              "    </tr>\n",
              "    <tr>\n",
              "      <th>3</th>\n",
              "      <td>Emma</td>\n",
              "      <td>F</td>\n",
              "      <td>75.2</td>\n",
              "      <td>52.9</td>\n",
              "      <td>30.0</td>\n",
              "    </tr>\n",
              "    <tr>\n",
              "      <th>4</th>\n",
              "      <td>Oliver</td>\n",
              "      <td>F</td>\n",
              "      <td>83.2</td>\n",
              "      <td>40.0</td>\n",
              "      <td>82.0</td>\n",
              "    </tr>\n",
              "    <tr>\n",
              "      <th>5</th>\n",
              "      <td>Charlotte</td>\n",
              "      <td>F</td>\n",
              "      <td>77.4</td>\n",
              "      <td>24.8</td>\n",
              "      <td>78.6</td>\n",
              "    </tr>\n",
              "    <tr>\n",
              "      <th>6</th>\n",
              "      <td>Elijah</td>\n",
              "      <td>F</td>\n",
              "      <td>83.2</td>\n",
              "      <td>57.2</td>\n",
              "      <td>62.1</td>\n",
              "    </tr>\n",
              "    <tr>\n",
              "      <th>7</th>\n",
              "      <td>Amelia</td>\n",
              "      <td>F</td>\n",
              "      <td>68.5</td>\n",
              "      <td>95.0</td>\n",
              "      <td>50.2</td>\n",
              "    </tr>\n",
              "    <tr>\n",
              "      <th>8</th>\n",
              "      <td>James</td>\n",
              "      <td>F</td>\n",
              "      <td>63.2</td>\n",
              "      <td>74.5</td>\n",
              "      <td>91.5</td>\n",
              "    </tr>\n",
              "    <tr>\n",
              "      <th>9</th>\n",
              "      <td>Ava</td>\n",
              "      <td>F</td>\n",
              "      <td>75.5</td>\n",
              "      <td>58.1</td>\n",
              "      <td>96.4</td>\n",
              "    </tr>\n",
              "    <tr>\n",
              "      <th>10</th>\n",
              "      <td>William</td>\n",
              "      <td>M</td>\n",
              "      <td>63.7</td>\n",
              "      <td>62.1</td>\n",
              "      <td>30.9</td>\n",
              "    </tr>\n",
              "    <tr>\n",
              "      <th>11</th>\n",
              "      <td>Sophia</td>\n",
              "      <td>M</td>\n",
              "      <td>58.2</td>\n",
              "      <td>40.0</td>\n",
              "      <td>65.3</td>\n",
              "    </tr>\n",
              "    <tr>\n",
              "      <th>12</th>\n",
              "      <td>Benjamin</td>\n",
              "      <td>M</td>\n",
              "      <td>82.4</td>\n",
              "      <td>67.2</td>\n",
              "      <td>69.2</td>\n",
              "    </tr>\n",
              "    <tr>\n",
              "      <th>13</th>\n",
              "      <td>Isabella</td>\n",
              "      <td>M</td>\n",
              "      <td>55.6</td>\n",
              "      <td>33.4</td>\n",
              "      <td>65.3</td>\n",
              "    </tr>\n",
              "    <tr>\n",
              "      <th>14</th>\n",
              "      <td>Lucas</td>\n",
              "      <td>M</td>\n",
              "      <td>90.2</td>\n",
              "      <td>95.0</td>\n",
              "      <td>28.9</td>\n",
              "    </tr>\n",
              "    <tr>\n",
              "      <th>15</th>\n",
              "      <td>Mia</td>\n",
              "      <td>M</td>\n",
              "      <td>75.2</td>\n",
              "      <td>41.1</td>\n",
              "      <td>62.1</td>\n",
              "    </tr>\n",
              "    <tr>\n",
              "      <th>16</th>\n",
              "      <td>Henry</td>\n",
              "      <td>M</td>\n",
              "      <td>80.2</td>\n",
              "      <td>43.5</td>\n",
              "      <td>65.1</td>\n",
              "    </tr>\n",
              "    <tr>\n",
              "      <th>17</th>\n",
              "      <td>Evelyn</td>\n",
              "      <td>M</td>\n",
              "      <td>81.0</td>\n",
              "      <td>80.8</td>\n",
              "      <td>67.7</td>\n",
              "    </tr>\n",
              "    <tr>\n",
              "      <th>18</th>\n",
              "      <td>Theodore</td>\n",
              "      <td>M</td>\n",
              "      <td>54.8</td>\n",
              "      <td>79.8</td>\n",
              "      <td>46.9</td>\n",
              "    </tr>\n",
              "    <tr>\n",
              "      <th>19</th>\n",
              "      <td>Harper</td>\n",
              "      <td>M</td>\n",
              "      <td>77.4</td>\n",
              "      <td>60.0</td>\n",
              "      <td>69.5</td>\n",
              "    </tr>\n",
              "  </tbody>\n",
              "</table>\n",
              "</div>\n",
              "      <button class=\"colab-df-convert\" onclick=\"convertToInteractive('df-b5e0cb54-f879-4f4c-bfaa-4e6d2ae21c4c')\"\n",
              "              title=\"Convert this dataframe to an interactive table.\"\n",
              "              style=\"display:none;\">\n",
              "        \n",
              "  <svg xmlns=\"http://www.w3.org/2000/svg\" height=\"24px\"viewBox=\"0 0 24 24\"\n",
              "       width=\"24px\">\n",
              "    <path d=\"M0 0h24v24H0V0z\" fill=\"none\"/>\n",
              "    <path d=\"M18.56 5.44l.94 2.06.94-2.06 2.06-.94-2.06-.94-.94-2.06-.94 2.06-2.06.94zm-11 1L8.5 8.5l.94-2.06 2.06-.94-2.06-.94L8.5 2.5l-.94 2.06-2.06.94zm10 10l.94 2.06.94-2.06 2.06-.94-2.06-.94-.94-2.06-.94 2.06-2.06.94z\"/><path d=\"M17.41 7.96l-1.37-1.37c-.4-.4-.92-.59-1.43-.59-.52 0-1.04.2-1.43.59L10.3 9.45l-7.72 7.72c-.78.78-.78 2.05 0 2.83L4 21.41c.39.39.9.59 1.41.59.51 0 1.02-.2 1.41-.59l7.78-7.78 2.81-2.81c.8-.78.8-2.07 0-2.86zM5.41 20L4 18.59l7.72-7.72 1.47 1.35L5.41 20z\"/>\n",
              "  </svg>\n",
              "      </button>\n",
              "      \n",
              "  <style>\n",
              "    .colab-df-container {\n",
              "      display:flex;\n",
              "      flex-wrap:wrap;\n",
              "      gap: 12px;\n",
              "    }\n",
              "\n",
              "    .colab-df-convert {\n",
              "      background-color: #E8F0FE;\n",
              "      border: none;\n",
              "      border-radius: 50%;\n",
              "      cursor: pointer;\n",
              "      display: none;\n",
              "      fill: #1967D2;\n",
              "      height: 32px;\n",
              "      padding: 0 0 0 0;\n",
              "      width: 32px;\n",
              "    }\n",
              "\n",
              "    .colab-df-convert:hover {\n",
              "      background-color: #E2EBFA;\n",
              "      box-shadow: 0px 1px 2px rgba(60, 64, 67, 0.3), 0px 1px 3px 1px rgba(60, 64, 67, 0.15);\n",
              "      fill: #174EA6;\n",
              "    }\n",
              "\n",
              "    [theme=dark] .colab-df-convert {\n",
              "      background-color: #3B4455;\n",
              "      fill: #D2E3FC;\n",
              "    }\n",
              "\n",
              "    [theme=dark] .colab-df-convert:hover {\n",
              "      background-color: #434B5C;\n",
              "      box-shadow: 0px 1px 3px 1px rgba(0, 0, 0, 0.15);\n",
              "      filter: drop-shadow(0px 1px 2px rgba(0, 0, 0, 0.3));\n",
              "      fill: #FFFFFF;\n",
              "    }\n",
              "  </style>\n",
              "\n",
              "      <script>\n",
              "        const buttonEl =\n",
              "          document.querySelector('#df-b5e0cb54-f879-4f4c-bfaa-4e6d2ae21c4c button.colab-df-convert');\n",
              "        buttonEl.style.display =\n",
              "          google.colab.kernel.accessAllowed ? 'block' : 'none';\n",
              "\n",
              "        async function convertToInteractive(key) {\n",
              "          const element = document.querySelector('#df-b5e0cb54-f879-4f4c-bfaa-4e6d2ae21c4c');\n",
              "          const dataTable =\n",
              "            await google.colab.kernel.invokeFunction('convertToInteractive',\n",
              "                                                     [key], {});\n",
              "          if (!dataTable) return;\n",
              "\n",
              "          const docLinkHtml = 'Like what you see? Visit the ' +\n",
              "            '<a target=\"_blank\" href=https://colab.research.google.com/notebooks/data_table.ipynb>data table notebook</a>'\n",
              "            + ' to learn more about interactive tables.';\n",
              "          element.innerHTML = '';\n",
              "          dataTable['output_type'] = 'display_data';\n",
              "          await google.colab.output.renderOutput(dataTable, element);\n",
              "          const docLink = document.createElement('div');\n",
              "          docLink.innerHTML = docLinkHtml;\n",
              "          element.appendChild(docLink);\n",
              "        }\n",
              "      </script>\n",
              "    </div>\n",
              "  </div>\n",
              "  "
            ]
          },
          "metadata": {},
          "execution_count": 91
        }
      ]
    },
    {
      "cell_type": "markdown",
      "source": [
        "Extract values based on conditions"
      ],
      "metadata": {
        "id": "UT6NtE3MnVOd"
      }
    },
    {
      "cell_type": "code",
      "source": [
        "# English >= 80\n",
        "# Math >= 50\n",
        "\n",
        "df[(df['English'] >= 80) & (df['Math'] >=50)]"
      ],
      "metadata": {
        "id": "TOdIkyS7jd7H",
        "outputId": "b924a9a0-757a-4271-f4ef-2fda5b25eb67",
        "colab": {
          "base_uri": "https://localhost:8080/",
          "height": 112
        }
      },
      "execution_count": null,
      "outputs": [
        {
          "output_type": "execute_result",
          "data": {
            "text/plain": [
              "     Names Gender  Korean  English  Math\n",
              "7   Amelia      F    68.5     95.0  50.2\n",
              "17  Evelyn      M    81.0     80.8  67.7"
            ],
            "text/html": [
              "\n",
              "  <div id=\"df-137f9b23-da84-4449-a6bc-e00543ae9263\">\n",
              "    <div class=\"colab-df-container\">\n",
              "      <div>\n",
              "<style scoped>\n",
              "    .dataframe tbody tr th:only-of-type {\n",
              "        vertical-align: middle;\n",
              "    }\n",
              "\n",
              "    .dataframe tbody tr th {\n",
              "        vertical-align: top;\n",
              "    }\n",
              "\n",
              "    .dataframe thead th {\n",
              "        text-align: right;\n",
              "    }\n",
              "</style>\n",
              "<table border=\"1\" class=\"dataframe\">\n",
              "  <thead>\n",
              "    <tr style=\"text-align: right;\">\n",
              "      <th></th>\n",
              "      <th>Names</th>\n",
              "      <th>Gender</th>\n",
              "      <th>Korean</th>\n",
              "      <th>English</th>\n",
              "      <th>Math</th>\n",
              "    </tr>\n",
              "  </thead>\n",
              "  <tbody>\n",
              "    <tr>\n",
              "      <th>7</th>\n",
              "      <td>Amelia</td>\n",
              "      <td>F</td>\n",
              "      <td>68.5</td>\n",
              "      <td>95.0</td>\n",
              "      <td>50.2</td>\n",
              "    </tr>\n",
              "    <tr>\n",
              "      <th>17</th>\n",
              "      <td>Evelyn</td>\n",
              "      <td>M</td>\n",
              "      <td>81.0</td>\n",
              "      <td>80.8</td>\n",
              "      <td>67.7</td>\n",
              "    </tr>\n",
              "  </tbody>\n",
              "</table>\n",
              "</div>\n",
              "      <button class=\"colab-df-convert\" onclick=\"convertToInteractive('df-137f9b23-da84-4449-a6bc-e00543ae9263')\"\n",
              "              title=\"Convert this dataframe to an interactive table.\"\n",
              "              style=\"display:none;\">\n",
              "        \n",
              "  <svg xmlns=\"http://www.w3.org/2000/svg\" height=\"24px\"viewBox=\"0 0 24 24\"\n",
              "       width=\"24px\">\n",
              "    <path d=\"M0 0h24v24H0V0z\" fill=\"none\"/>\n",
              "    <path d=\"M18.56 5.44l.94 2.06.94-2.06 2.06-.94-2.06-.94-.94-2.06-.94 2.06-2.06.94zm-11 1L8.5 8.5l.94-2.06 2.06-.94-2.06-.94L8.5 2.5l-.94 2.06-2.06.94zm10 10l.94 2.06.94-2.06 2.06-.94-2.06-.94-.94-2.06-.94 2.06-2.06.94z\"/><path d=\"M17.41 7.96l-1.37-1.37c-.4-.4-.92-.59-1.43-.59-.52 0-1.04.2-1.43.59L10.3 9.45l-7.72 7.72c-.78.78-.78 2.05 0 2.83L4 21.41c.39.39.9.59 1.41.59.51 0 1.02-.2 1.41-.59l7.78-7.78 2.81-2.81c.8-.78.8-2.07 0-2.86zM5.41 20L4 18.59l7.72-7.72 1.47 1.35L5.41 20z\"/>\n",
              "  </svg>\n",
              "      </button>\n",
              "      \n",
              "  <style>\n",
              "    .colab-df-container {\n",
              "      display:flex;\n",
              "      flex-wrap:wrap;\n",
              "      gap: 12px;\n",
              "    }\n",
              "\n",
              "    .colab-df-convert {\n",
              "      background-color: #E8F0FE;\n",
              "      border: none;\n",
              "      border-radius: 50%;\n",
              "      cursor: pointer;\n",
              "      display: none;\n",
              "      fill: #1967D2;\n",
              "      height: 32px;\n",
              "      padding: 0 0 0 0;\n",
              "      width: 32px;\n",
              "    }\n",
              "\n",
              "    .colab-df-convert:hover {\n",
              "      background-color: #E2EBFA;\n",
              "      box-shadow: 0px 1px 2px rgba(60, 64, 67, 0.3), 0px 1px 3px 1px rgba(60, 64, 67, 0.15);\n",
              "      fill: #174EA6;\n",
              "    }\n",
              "\n",
              "    [theme=dark] .colab-df-convert {\n",
              "      background-color: #3B4455;\n",
              "      fill: #D2E3FC;\n",
              "    }\n",
              "\n",
              "    [theme=dark] .colab-df-convert:hover {\n",
              "      background-color: #434B5C;\n",
              "      box-shadow: 0px 1px 3px 1px rgba(0, 0, 0, 0.15);\n",
              "      filter: drop-shadow(0px 1px 2px rgba(0, 0, 0, 0.3));\n",
              "      fill: #FFFFFF;\n",
              "    }\n",
              "  </style>\n",
              "\n",
              "      <script>\n",
              "        const buttonEl =\n",
              "          document.querySelector('#df-137f9b23-da84-4449-a6bc-e00543ae9263 button.colab-df-convert');\n",
              "        buttonEl.style.display =\n",
              "          google.colab.kernel.accessAllowed ? 'block' : 'none';\n",
              "\n",
              "        async function convertToInteractive(key) {\n",
              "          const element = document.querySelector('#df-137f9b23-da84-4449-a6bc-e00543ae9263');\n",
              "          const dataTable =\n",
              "            await google.colab.kernel.invokeFunction('convertToInteractive',\n",
              "                                                     [key], {});\n",
              "          if (!dataTable) return;\n",
              "\n",
              "          const docLinkHtml = 'Like what you see? Visit the ' +\n",
              "            '<a target=\"_blank\" href=https://colab.research.google.com/notebooks/data_table.ipynb>data table notebook</a>'\n",
              "            + ' to learn more about interactive tables.';\n",
              "          element.innerHTML = '';\n",
              "          dataTable['output_type'] = 'display_data';\n",
              "          await google.colab.output.renderOutput(dataTable, element);\n",
              "          const docLink = document.createElement('div');\n",
              "          docLink.innerHTML = docLinkHtml;\n",
              "          element.appendChild(docLink);\n",
              "        }\n",
              "      </script>\n",
              "    </div>\n",
              "  </div>\n",
              "  "
            ]
          },
          "metadata": {},
          "execution_count": 100
        }
      ]
    },
    {
      "cell_type": "markdown",
      "source": [
        "# 🔎Application"
      ],
      "metadata": {
        "id": "3ADaJZQJ5MuH"
      }
    },
    {
      "cell_type": "markdown",
      "source": [
        "## Lesson objectives:\n",
        "\n",
        "1. Students will be able to understand and use vocabulary related to time (e.g. hour, minute, second, a.m./p.m., morning, afternoon, etc.).\n",
        "2. Students will be able to ask and answer questions about the time using basic time expressions (e.g. \"What time is it?\", \"It's [time] in [location]\")."
      ],
      "metadata": {
        "id": "uPeYJVZQ59Cv"
      }
    },
    {
      "cell_type": "markdown",
      "source": [
        "Let's watch a short video!"
      ],
      "metadata": {
        "id": "VT8NHJZM-TjO"
      }
    },
    {
      "cell_type": "code",
      "source": [
        "#@markdown **Title: Why do we have different time zone?** Video (1m 19s)\n",
        "from IPython.display import YouTubeVideo, display\n",
        "video = YouTubeVideo(\"AgINA9_IFiI\", width=600)\n",
        "display(video)"
      ],
      "metadata": {
        "cellView": "form",
        "id": "r4bGc9Zc-Suu",
        "outputId": "38be61f0-2493-4bb9-b133-7cae282f765c",
        "colab": {
          "base_uri": "https://localhost:8080/",
          "height": 321
        }
      },
      "execution_count": null,
      "outputs": [
        {
          "output_type": "display_data",
          "data": {
            "text/plain": [
              "<IPython.lib.display.YouTubeVideo at 0x7f0928f4fa30>"
            ],
            "text/html": [
              "\n",
              "        <iframe\n",
              "            width=\"600\"\n",
              "            height=\"300\"\n",
              "            src=\"https://www.youtube.com/embed/AgINA9_IFiI\"\n",
              "            frameborder=\"0\"\n",
              "            allowfullscreen\n",
              "        ></iframe>\n",
              "        "
            ],
            "image/jpeg": "[encoded data removed]"
          },
          "metadata": {}
        }
      ]
    },
    {
      "cell_type": "code",
      "source": [
        "#@markdown 💠 Map of the world time zone (#1~2)\n",
        "from IPython.display import Image\n",
        "\n",
        "pages = \"2\" #@param = [\"1\", \"2\", \"3\", \"4\", \"5\",\"6\",\"7\"]\n",
        "adds = ['https://github.com/MK316/Spring2023/raw/main/DL/data/worldmappng.png',\n",
        "        'https://github.com/MK316/Spring2023/raw/main/DL/data/worldtimezone.png']\n",
        "\n",
        "if pages == \"1\":\n",
        "  add = adds[0]\n",
        "elif pages == \"2\":\n",
        "  add = adds[1]\n",
        "\n",
        "Image(url=add, width=900, height=600)"
      ],
      "metadata": {
        "cellView": "form",
        "id": "NbPqRcZ_5O9H",
        "outputId": "37a94f3b-0474-49c5-9f36-effbdbc10043",
        "colab": {
          "base_uri": "https://localhost:8080/",
          "height": 621
        }
      },
      "execution_count": null,
      "outputs": [
        {
          "output_type": "execute_result",
          "data": {
            "text/html": [
              "<img src=\"https://github.com/MK316/Spring2023/raw/main/DL/data/worldtimezone.png\" width=\"900\" height=\"600\"/>"
            ],
            "text/plain": [
              "<IPython.core.display.Image object>"
            ]
          },
          "metadata": {},
          "execution_count": 5
        }
      ]
    },
    {
      "cell_type": "markdown",
      "source": [
        "## Q: Current time in Seoul is 5 pm. What time is it in London now?\n",
        "\n",
        "Note: [pytz timezone list](https://gist.github.com/heyalexej/8bf688fd67d7199be4a1682b3eec7568), [gTTS language options](https://gtts.readthedocs.io/en/latest/module.html)"
      ],
      "metadata": {
        "id": "m4CykqtlCm2E"
      }
    },
    {
      "cell_type": "code",
      "source": [
        "#@markdown 📌 Install packages\n",
        "%%capture\n",
        "!pip install gtts\n",
        "from gtts import gTTS"
      ],
      "metadata": {
        "cellView": "form",
        "id": "XzrqYy4DEgxO"
      },
      "execution_count": null,
      "outputs": []
    },
    {
      "cell_type": "code",
      "source": [
        "from datetime import datetime\n",
        "import pytz\n",
        "\n",
        "#@markdown **🌲 Step [1] Location to choose:**\n",
        "# Get the timezone object for New York\n",
        "\n",
        "location = 'Asia/Seoul' #@param = ['Asia/Seoul','Asia/Shanghai','Asia/Dubai','Australia/Sydney','America/New_York', 'Canada/Montreal','Europe/London', 'Europe/Barcelona','Africa/Cairo']\n",
        "loc = location.split(\"/\")\n",
        "locq = loc[1]\n",
        "\n",
        "tz_loc = pytz.timezone(location) \n",
        "datetime = datetime.now(tz_loc)\n",
        "current_time1 = datetime.strftime(\"%H:%M\")\n",
        "current_time2 = datetime.strftime(\"%I:%M %p\")\n",
        "\n",
        "# Get the current time in New York\n",
        "print(\"Current Time in %s is\"%locq, current_time2)"
      ],
      "metadata": {
        "colab": {
          "base_uri": "https://localhost:8080/"
        },
        "cellView": "form",
        "id": "N5rVEfZAP9k7",
        "outputId": "c7a2187d-0f37-4af4-990c-a36b02629487"
      },
      "execution_count": null,
      "outputs": [
        {
          "output_type": "stream",
          "name": "stdout",
          "text": [
            "Current Time in Seoul is 10:35 PM\n"
          ]
        }
      ]
    },
    {
      "cell_type": "code",
      "source": [
        "#@markdown **🌲 Step [2] Language to choose:**\n",
        "# language and dialect selection\n",
        "language_select = \"en/ca/English(Canada)\" #@param = [\"en/us/English(US)\",\"en/co.uk/English(UK)\",\"en/com.au/English(Australia)\",\"en/ca/English(Canada)\",\"en/co.in/English(India)\",\"en/ie/English(Ireland)\",\"fr/fr/French\",\"es/es/Spanish(Spain)/\",\"ko/ko/Korean\",\"zh-CN/any/Chinese(Main Land)\"]\n",
        "langsel = language_select.split(\"/\")\n",
        "lg = langsel[0]\n",
        "dialect = langsel[1]\n",
        "\n",
        "# text input\n",
        "txt = input(\"Type texts to say: \")\n",
        "\n",
        "import random\n",
        "citylist = [\"London\",\"Paris\",\"New York\",\"Dubai\",\"Jinju\",\"Barcelona\",\"Shanghai\",\"Montreal\",\"Sydney\"]\n",
        "city = random.choice(citylist)\n",
        "mytext = txt + \"... \" + \"What time is it in %s now?\"%city\n",
        "# function\n",
        "if lg == \"ko\":\n",
        "  tts = gTTS(mytext, lang = lg, slow = False)\n",
        "elif lg == \"zh-CN\":\n",
        "  tts = gTTS(mytext, lang = lg, slow = False)\n",
        "else:\n",
        "  tts = gTTS(mytext, lang = lg, tld = dialect, slow = False)\n",
        "\n",
        "tts.save('myaudio.mp3')\n",
        "  \n",
        "# Save as a file for reading\n",
        "\n",
        "# Play audio\n",
        "from IPython.display import Audio, display\n",
        "Audio('myaudio.mp3')"
      ],
      "metadata": {
        "cellView": "form",
        "id": "aq7aCYfgHAnc",
        "outputId": "d91a89e3-632a-4abb-9e7b-857976ac8973",
        "colab": {
          "base_uri": "https://localhost:8080/",
          "height": 93
        }
      },
      "execution_count": null,
      "outputs": [
        {
          "name": "stdout",
          "output_type": "stream",
          "text": [
            "Type texts to say: Current Time in Seoul is 10:35 PM\n"
          ]
        },
        {
          "output_type": "execute_result",
          "data": {
            "text/plain": [
              "<IPython.lib.display.Audio object>"
            ],
            "text/html": [
              "\n",
              "                <audio  controls=\"controls\" >\n",
              "                    <source src=\"data:audio/mpeg;base64,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\" type=\"audio/mpeg\" />\n",
              "                    Your browser does not support the audio element.\n",
              "                </audio>\n",
              "              "
            ]
          },
          "metadata": {},
          "execution_count": 48
        }
      ]
    },
    {
      "cell_type": "markdown",
      "source": [
        "#[4] File handling\n",
        "\n",
        "+ Direct uploading from your computer\n",
        "+ Files from Github\n",
        "+ Files from Google Drive\n",
        "\n",
        "More online resources on file handling [weblink 1](https://neptune.ai/blog/google-colab-dealing-with-files), [weblink 2](https://towardsdatascience.com/7-ways-to-load-external-data-into-google-colab-7ba73e7d5fc7)"
      ],
      "metadata": {
        "id": "nVEDIdCxpTgy"
      }
    },
    {
      "cell_type": "markdown",
      "source": [
        "## A. Direct uploading from your computer"
      ],
      "metadata": {
        "id": "h6ev9jgDpegO"
      }
    },
    {
      "cell_type": "markdown",
      "source": [
        "[sample file](https://github.com/MK316/my/blob/main/ksat_sample.csv)"
      ],
      "metadata": {
        "id": "Z3ydmXc9raaf"
      }
    },
    {
      "cell_type": "code",
      "source": [
        "from google.colab import files\n",
        "\n",
        "uploaded = files.upload()\n",
        "\n",
        "for fn in uploaded.keys():\n",
        "  print('Uploaded file \"{name}\" with length {length} bytes'.format(\n",
        "      name=fn, length=len(uploaded[fn])))"
      ],
      "metadata": {
        "id": "yrtQW3elpjVo",
        "outputId": "d3b57b58-76bd-4318-9154-0859fa7cbf42",
        "colab": {
          "base_uri": "https://localhost:8080/",
          "height": 95
        }
      },
      "execution_count": null,
      "outputs": [
        {
          "output_type": "display_data",
          "data": {
            "text/plain": [
              "<IPython.core.display.HTML object>"
            ],
            "text/html": [
              "\n",
              "     <input type=\"file\" id=\"files-cdd0e46c-e25a-44af-8e33-e4eace3e4b06\" name=\"files[]\" multiple disabled\n",
              "        style=\"border:none\" />\n",
              "     <output id=\"result-cdd0e46c-e25a-44af-8e33-e4eace3e4b06\">\n",
              "      Upload widget is only available when the cell has been executed in the\n",
              "      current browser session. Please rerun this cell to enable.\n",
              "      </output>\n",
              "      <script>// Copyright 2017 Google LLC\n",
              "//\n",
              "// Licensed under the Apache License, Version 2.0 (the \"License\");\n",
              "// you may not use this file except in compliance with the License.\n",
              "// You may obtain a copy of the License at\n",
              "//\n",
              "//      http://www.apache.org/licenses/LICENSE-2.0\n",
              "//\n",
              "// Unless required by applicable law or agreed to in writing, software\n",
              "// distributed under the License is distributed on an \"AS IS\" BASIS,\n",
              "// WITHOUT WARRANTIES OR CONDITIONS OF ANY KIND, either express or implied.\n",
              "// See the License for the specific language governing permissions and\n",
              "// limitations under the License.\n",
              "\n",
              "/**\n",
              " * @fileoverview Helpers for google.colab Python module.\n",
              " */\n",
              "(function(scope) {\n",
              "function span(text, styleAttributes = {}) {\n",
              "  const element = document.createElement('span');\n",
              "  element.textContent = text;\n",
              "  for (const key of Object.keys(styleAttributes)) {\n",
              "    element.style[key] = styleAttributes[key];\n",
              "  }\n",
              "  return element;\n",
              "}\n",
              "\n",
              "// Max number of bytes which will be uploaded at a time.\n",
              "const MAX_PAYLOAD_SIZE = 100 * 1024;\n",
              "\n",
              "function _uploadFiles(inputId, outputId) {\n",
              "  const steps = uploadFilesStep(inputId, outputId);\n",
              "  const outputElement = document.getElementById(outputId);\n",
              "  // Cache steps on the outputElement to make it available for the next call\n",
              "  // to uploadFilesContinue from Python.\n",
              "  outputElement.steps = steps;\n",
              "\n",
              "  return _uploadFilesContinue(outputId);\n",
              "}\n",
              "\n",
              "// This is roughly an async generator (not supported in the browser yet),\n",
              "// where there are multiple asynchronous steps and the Python side is going\n",
              "// to poll for completion of each step.\n",
              "// This uses a Promise to block the python side on completion of each step,\n",
              "// then passes the result of the previous step as the input to the next step.\n",
              "function _uploadFilesContinue(outputId) {\n",
              "  const outputElement = document.getElementById(outputId);\n",
              "  const steps = outputElement.steps;\n",
              "\n",
              "  const next = steps.next(outputElement.lastPromiseValue);\n",
              "  return Promise.resolve(next.value.promise).then((value) => {\n",
              "    // Cache the last promise value to make it available to the next\n",
              "    // step of the generator.\n",
              "    outputElement.lastPromiseValue = value;\n",
              "    return next.value.response;\n",
              "  });\n",
              "}\n",
              "\n",
              "/**\n",
              " * Generator function which is called between each async step of the upload\n",
              " * process.\n",
              " * @param {string} inputId Element ID of the input file picker element.\n",
              " * @param {string} outputId Element ID of the output display.\n",
              " * @return {!Iterable<!Object>} Iterable of next steps.\n",
              " */\n",
              "function* uploadFilesStep(inputId, outputId) {\n",
              "  const inputElement = document.getElementById(inputId);\n",
              "  inputElement.disabled = false;\n",
              "\n",
              "  const outputElement = document.getElementById(outputId);\n",
              "  outputElement.innerHTML = '';\n",
              "\n",
              "  const pickedPromise = new Promise((resolve) => {\n",
              "    inputElement.addEventListener('change', (e) => {\n",
              "      resolve(e.target.files);\n",
              "    });\n",
              "  });\n",
              "\n",
              "  const cancel = document.createElement('button');\n",
              "  inputElement.parentElement.appendChild(cancel);\n",
              "  cancel.textContent = 'Cancel upload';\n",
              "  const cancelPromise = new Promise((resolve) => {\n",
              "    cancel.onclick = () => {\n",
              "      resolve(null);\n",
              "    };\n",
              "  });\n",
              "\n",
              "  // Wait for the user to pick the files.\n",
              "  const files = yield {\n",
              "    promise: Promise.race([pickedPromise, cancelPromise]),\n",
              "    response: {\n",
              "      action: 'starting',\n",
              "    }\n",
              "  };\n",
              "\n",
              "  cancel.remove();\n",
              "\n",
              "  // Disable the input element since further picks are not allowed.\n",
              "  inputElement.disabled = true;\n",
              "\n",
              "  if (!files) {\n",
              "    return {\n",
              "      response: {\n",
              "        action: 'complete',\n",
              "      }\n",
              "    };\n",
              "  }\n",
              "\n",
              "  for (const file of files) {\n",
              "    const li = document.createElement('li');\n",
              "    li.append(span(file.name, {fontWeight: 'bold'}));\n",
              "    li.append(span(\n",
              "        `(${file.type || 'n/a'}) - ${file.size} bytes, ` +\n",
              "        `last modified: ${\n",
              "            file.lastModifiedDate ? file.lastModifiedDate.toLocaleDateString() :\n",
              "                                    'n/a'} - `));\n",
              "    const percent = span('0% done');\n",
              "    li.appendChild(percent);\n",
              "\n",
              "    outputElement.appendChild(li);\n",
              "\n",
              "    const fileDataPromise = new Promise((resolve) => {\n",
              "      const reader = new FileReader();\n",
              "      reader.onload = (e) => {\n",
              "        resolve(e.target.result);\n",
              "      };\n",
              "      reader.readAsArrayBuffer(file);\n",
              "    });\n",
              "    // Wait for the data to be ready.\n",
              "    let fileData = yield {\n",
              "      promise: fileDataPromise,\n",
              "      response: {\n",
              "        action: 'continue',\n",
              "      }\n",
              "    };\n",
              "\n",
              "    // Use a chunked sending to avoid message size limits. See b/62115660.\n",
              "    let position = 0;\n",
              "    do {\n",
              "      const length = Math.min(fileData.byteLength - position, MAX_PAYLOAD_SIZE);\n",
              "      const chunk = new Uint8Array(fileData, position, length);\n",
              "      position += length;\n",
              "\n",
              "      const base64 = btoa(String.fromCharCode.apply(null, chunk));\n",
              "      yield {\n",
              "        response: {\n",
              "          action: 'append',\n",
              "          file: file.name,\n",
              "          data: base64,\n",
              "        },\n",
              "      };\n",
              "\n",
              "      let percentDone = fileData.byteLength === 0 ?\n",
              "          100 :\n",
              "          Math.round((position / fileData.byteLength) * 100);\n",
              "      percent.textContent = `${percentDone}% done`;\n",
              "\n",
              "    } while (position < fileData.byteLength);\n",
              "  }\n",
              "\n",
              "  // All done.\n",
              "  yield {\n",
              "    response: {\n",
              "      action: 'complete',\n",
              "    }\n",
              "  };\n",
              "}\n",
              "\n",
              "scope.google = scope.google || {};\n",
              "scope.google.colab = scope.google.colab || {};\n",
              "scope.google.colab._files = {\n",
              "  _uploadFiles,\n",
              "  _uploadFilesContinue,\n",
              "};\n",
              "})(self);\n",
              "</script> "
            ]
          },
          "metadata": {}
        },
        {
          "output_type": "stream",
          "name": "stdout",
          "text": [
            "Saving ksat_sample.csv to ksat_sample (1).csv\n",
            "Uploaded file \"ksat_sample.csv\" with length 473124 bytes\n"
          ]
        }
      ]
    },
    {
      "cell_type": "code",
      "source": [
        "import pandas as pd\n",
        "import io\n",
        "\n",
        "df1 = pd.read_csv(io.StringIO(uploaded['ksat_sample.csv'].decode('utf-8')))\n",
        "df1.head()"
      ],
      "metadata": {
        "id": "mlSOawbysIx-"
      },
      "execution_count": null,
      "outputs": []
    },
    {
      "cell_type": "markdown",
      "source": [
        "##B. Files from Github"
      ],
      "metadata": {
        "id": "d_NuEBkKti7V"
      }
    },
    {
      "cell_type": "markdown",
      "source": [
        "1) For text file (.txt)\n",
        "1. Follow this link:  \n",
        "2. [sample txt file](https://github.com/MK316/my/blob/main/ksat_sample.csv)\n",
        "\n",
        "3. save it on your computer, and upload it on colab"
      ],
      "metadata": {
        "id": "Xt-XL13yto3t"
      }
    },
    {
      "cell_type": "code",
      "source": [
        "from google.colab import files\n",
        "\n",
        "uploaded = files.upload()\n",
        "\n",
        "for fn in uploaded.keys():\n",
        "  print('Uploaded file \"{name}\" with length {length} bytes'.format(\n",
        "      name=fn, length=len(uploaded[fn])))\n",
        "  "
      ],
      "metadata": {
        "id": "rhgERu94H-T6",
        "outputId": "0ac5227d-f3a3-4de3-fb57-a6480828d2fa",
        "colab": {
          "base_uri": "https://localhost:8080/",
          "height": 95
        }
      },
      "execution_count": null,
      "outputs": [
        {
          "output_type": "display_data",
          "data": {
            "text/plain": [
              "<IPython.core.display.HTML object>"
            ],
            "text/html": [
              "\n",
              "     <input type=\"file\" id=\"files-33de248e-f40c-467c-8a6f-040d2bb74640\" name=\"files[]\" multiple disabled\n",
              "        style=\"border:none\" />\n",
              "     <output id=\"result-33de248e-f40c-467c-8a6f-040d2bb74640\">\n",
              "      Upload widget is only available when the cell has been executed in the\n",
              "      current browser session. Please rerun this cell to enable.\n",
              "      </output>\n",
              "      <script>// Copyright 2017 Google LLC\n",
              "//\n",
              "// Licensed under the Apache License, Version 2.0 (the \"License\");\n",
              "// you may not use this file except in compliance with the License.\n",
              "// You may obtain a copy of the License at\n",
              "//\n",
              "//      http://www.apache.org/licenses/LICENSE-2.0\n",
              "//\n",
              "// Unless required by applicable law or agreed to in writing, software\n",
              "// distributed under the License is distributed on an \"AS IS\" BASIS,\n",
              "// WITHOUT WARRANTIES OR CONDITIONS OF ANY KIND, either express or implied.\n",
              "// See the License for the specific language governing permissions and\n",
              "// limitations under the License.\n",
              "\n",
              "/**\n",
              " * @fileoverview Helpers for google.colab Python module.\n",
              " */\n",
              "(function(scope) {\n",
              "function span(text, styleAttributes = {}) {\n",
              "  const element = document.createElement('span');\n",
              "  element.textContent = text;\n",
              "  for (const key of Object.keys(styleAttributes)) {\n",
              "    element.style[key] = styleAttributes[key];\n",
              "  }\n",
              "  return element;\n",
              "}\n",
              "\n",
              "// Max number of bytes which will be uploaded at a time.\n",
              "const MAX_PAYLOAD_SIZE = 100 * 1024;\n",
              "\n",
              "function _uploadFiles(inputId, outputId) {\n",
              "  const steps = uploadFilesStep(inputId, outputId);\n",
              "  const outputElement = document.getElementById(outputId);\n",
              "  // Cache steps on the outputElement to make it available for the next call\n",
              "  // to uploadFilesContinue from Python.\n",
              "  outputElement.steps = steps;\n",
              "\n",
              "  return _uploadFilesContinue(outputId);\n",
              "}\n",
              "\n",
              "// This is roughly an async generator (not supported in the browser yet),\n",
              "// where there are multiple asynchronous steps and the Python side is going\n",
              "// to poll for completion of each step.\n",
              "// This uses a Promise to block the python side on completion of each step,\n",
              "// then passes the result of the previous step as the input to the next step.\n",
              "function _uploadFilesContinue(outputId) {\n",
              "  const outputElement = document.getElementById(outputId);\n",
              "  const steps = outputElement.steps;\n",
              "\n",
              "  const next = steps.next(outputElement.lastPromiseValue);\n",
              "  return Promise.resolve(next.value.promise).then((value) => {\n",
              "    // Cache the last promise value to make it available to the next\n",
              "    // step of the generator.\n",
              "    outputElement.lastPromiseValue = value;\n",
              "    return next.value.response;\n",
              "  });\n",
              "}\n",
              "\n",
              "/**\n",
              " * Generator function which is called between each async step of the upload\n",
              " * process.\n",
              " * @param {string} inputId Element ID of the input file picker element.\n",
              " * @param {string} outputId Element ID of the output display.\n",
              " * @return {!Iterable<!Object>} Iterable of next steps.\n",
              " */\n",
              "function* uploadFilesStep(inputId, outputId) {\n",
              "  const inputElement = document.getElementById(inputId);\n",
              "  inputElement.disabled = false;\n",
              "\n",
              "  const outputElement = document.getElementById(outputId);\n",
              "  outputElement.innerHTML = '';\n",
              "\n",
              "  const pickedPromise = new Promise((resolve) => {\n",
              "    inputElement.addEventListener('change', (e) => {\n",
              "      resolve(e.target.files);\n",
              "    });\n",
              "  });\n",
              "\n",
              "  const cancel = document.createElement('button');\n",
              "  inputElement.parentElement.appendChild(cancel);\n",
              "  cancel.textContent = 'Cancel upload';\n",
              "  const cancelPromise = new Promise((resolve) => {\n",
              "    cancel.onclick = () => {\n",
              "      resolve(null);\n",
              "    };\n",
              "  });\n",
              "\n",
              "  // Wait for the user to pick the files.\n",
              "  const files = yield {\n",
              "    promise: Promise.race([pickedPromise, cancelPromise]),\n",
              "    response: {\n",
              "      action: 'starting',\n",
              "    }\n",
              "  };\n",
              "\n",
              "  cancel.remove();\n",
              "\n",
              "  // Disable the input element since further picks are not allowed.\n",
              "  inputElement.disabled = true;\n",
              "\n",
              "  if (!files) {\n",
              "    return {\n",
              "      response: {\n",
              "        action: 'complete',\n",
              "      }\n",
              "    };\n",
              "  }\n",
              "\n",
              "  for (const file of files) {\n",
              "    const li = document.createElement('li');\n",
              "    li.append(span(file.name, {fontWeight: 'bold'}));\n",
              "    li.append(span(\n",
              "        `(${file.type || 'n/a'}) - ${file.size} bytes, ` +\n",
              "        `last modified: ${\n",
              "            file.lastModifiedDate ? file.lastModifiedDate.toLocaleDateString() :\n",
              "                                    'n/a'} - `));\n",
              "    const percent = span('0% done');\n",
              "    li.appendChild(percent);\n",
              "\n",
              "    outputElement.appendChild(li);\n",
              "\n",
              "    const fileDataPromise = new Promise((resolve) => {\n",
              "      const reader = new FileReader();\n",
              "      reader.onload = (e) => {\n",
              "        resolve(e.target.result);\n",
              "      };\n",
              "      reader.readAsArrayBuffer(file);\n",
              "    });\n",
              "    // Wait for the data to be ready.\n",
              "    let fileData = yield {\n",
              "      promise: fileDataPromise,\n",
              "      response: {\n",
              "        action: 'continue',\n",
              "      }\n",
              "    };\n",
              "\n",
              "    // Use a chunked sending to avoid message size limits. See b/62115660.\n",
              "    let position = 0;\n",
              "    do {\n",
              "      const length = Math.min(fileData.byteLength - position, MAX_PAYLOAD_SIZE);\n",
              "      const chunk = new Uint8Array(fileData, position, length);\n",
              "      position += length;\n",
              "\n",
              "      const base64 = btoa(String.fromCharCode.apply(null, chunk));\n",
              "      yield {\n",
              "        response: {\n",
              "          action: 'append',\n",
              "          file: file.name,\n",
              "          data: base64,\n",
              "        },\n",
              "      };\n",
              "\n",
              "      let percentDone = fileData.byteLength === 0 ?\n",
              "          100 :\n",
              "          Math.round((position / fileData.byteLength) * 100);\n",
              "      percent.textContent = `${percentDone}% done`;\n",
              "\n",
              "    } while (position < fileData.byteLength);\n",
              "  }\n",
              "\n",
              "  // All done.\n",
              "  yield {\n",
              "    response: {\n",
              "      action: 'complete',\n",
              "    }\n",
              "  };\n",
              "}\n",
              "\n",
              "scope.google = scope.google || {};\n",
              "scope.google.colab = scope.google.colab || {};\n",
              "scope.google.colab._files = {\n",
              "  _uploadFiles,\n",
              "  _uploadFilesContinue,\n",
              "};\n",
              "})(self);\n",
              "</script> "
            ]
          },
          "metadata": {}
        },
        {
          "output_type": "stream",
          "name": "stdout",
          "text": [
            "Saving ksat_sample.txt to ksat_sample.txt\n",
            "Uploaded file \"ksat_sample.txt\" with length 1069 bytes\n"
          ]
        }
      ]
    },
    {
      "cell_type": "code",
      "source": [
        "mf = \"/content/ksat_sample.txt\"\n",
        "df2 = open(mf,\"r\")\n",
        "df2.read()"
      ],
      "metadata": {
        "id": "d7CMMJ_btrOS",
        "outputId": "85d2e4f0-630a-4554-cdf1-28d70f7cfe11",
        "colab": {
          "base_uri": "https://localhost:8080/",
          "height": 110
        }
      },
      "execution_count": null,
      "outputs": [
        {
          "output_type": "execute_result",
          "data": {
            "text/plain": [
              "'Philip Kitcher and Wesley Salmon have suggested that there are two possible alternatives among philosophical theories of explanation. One is the view that scientific explanation consists in the unification of broad bodies of phenomena under a minimal number of generalizations. According to this view, the (or perhaps, a) goal of science is to construct an economical framework of laws or generalizations that are capable of subsuming all observable phenomena. Scientific explanations organize and systematize our knowledge of the empirical world; the more economical the systematization, the deeper our understanding of what is explained. The other view is the causal/mechanical approach. According to it, a scientific explanation of a phenomenon consists of uncovering the mechanisms that produced the phenomenon of interest. This view sees the explanation of individual events as primary, with the explanation of generalizations flowing from them. That is, the explanation of scientific generalizations comes from the causal mechanisms that produce the regularities.'"
            ],
            "application/vnd.google.colaboratory.intrinsic+json": {
              "type": "string"
            }
          },
          "metadata": {},
          "execution_count": 29
        }
      ]
    },
    {
      "cell_type": "code",
      "source": [
        "# This is a better way: open file and close it.\n",
        "mf = \"/content/ksat_sample.txt\"\n",
        "with open(mf, \"r\") as f:\n",
        "    mytext = f.read()\n",
        "    print(mytext)"
      ],
      "metadata": {
        "id": "5KWTAwONyZvS",
        "outputId": "40a46834-6432-45f1-8cf9-7b7905313a28",
        "colab": {
          "base_uri": "https://localhost:8080/"
        }
      },
      "execution_count": null,
      "outputs": [
        {
          "output_type": "stream",
          "name": "stdout",
          "text": [
            "Philip Kitcher and Wesley Salmon have suggested that there are two possible alternatives among philosophical theories of explanation. One is the view that scientific explanation consists in the unification of broad bodies of phenomena under a minimal number of generalizations. According to this view, the (or perhaps, a) goal of science is to construct an economical framework of laws or generalizations that are capable of subsuming all observable phenomena. Scientific explanations organize and systematize our knowledge of the empirical world; the more economical the systematization, the deeper our understanding of what is explained. The other view is the causal/mechanical approach. According to it, a scientific explanation of a phenomenon consists of uncovering the mechanisms that produced the phenomenon of interest. This view sees the explanation of individual events as primary, with the explanation of generalizations flowing from them. That is, the explanation of scientific generalizations comes from the causal mechanisms that produce the regularities.\n"
          ]
        }
      ]
    },
    {
      "cell_type": "markdown",
      "source": [
        "2) For csv file:\n",
        "\n",
        "1. Use file link\n",
        "2. Open csv with {pandas} library"
      ],
      "metadata": {
        "id": "mJ4aEvKLJEDe"
      }
    },
    {
      "cell_type": "code",
      "source": [
        "import pandas as pd\n",
        "url = \"https://raw.githubusercontent.com/MK316/my/main/ksat_sample.csv\"\n",
        "\n",
        "df3 = pd.read_csv(url)\n",
        "df3.head()"
      ],
      "metadata": {
        "id": "4c9iPG4WJoZP",
        "outputId": "e3317e4b-557b-4c48-bf69-ceac51a98116",
        "colab": {
          "base_uri": "https://localhost:8080/",
          "height": 206
        }
      },
      "execution_count": null,
      "outputs": [
        {
          "output_type": "execute_result",
          "data": {
            "text/plain": [
              "   Year Category   QN                                            Passage  \\\n",
              "0  2022  Context  Q40  Philip Kitcher and Wesley Salmon have suggeste...   \n",
              "1  2021  Context  Q40  From a cross-cultural perspective the equation...   \n",
              "2  2020  Context  Q40  Biological organisms, including human societie...   \n",
              "3  2019  Context  Q40  Biological organisms, including human societie...   \n",
              "4  2018  Context  Q40  Time spent on on-line interaction with members...   \n",
              "\n",
              "   String                                             Splits  N_Splits  \\\n",
              "0    1069  ['Philip', 'Kitcher', 'and', 'Wesley', 'Salmon...       154   \n",
              "1    1086  ['From', 'a', 'cross-cultural', 'perspective',...       180   \n",
              "2    1052  ['Biological', 'organisms,', 'including', 'hum...       154   \n",
              "3    1052  ['Biological', 'organisms,', 'including', 'hum...       154   \n",
              "4    1171  ['Time', 'spent', 'on', 'on-line', 'interactio...       175   \n",
              "\n",
              "                                               Lemma       TTR        MTLD  \n",
              "0  ['philip', 'kitcher', 'and', 'wesley', 'salmon...  0.519481   39.029817  \n",
              "1  ['from', 'a', 'crosscultural', 'perspective', ...  0.561111   57.070312  \n",
              "2  ['biological', 'organism', 'include', 'human',...  0.681818  106.436537  \n",
              "3  ['biological', 'organism', 'include', 'human',...  0.681818  106.436537  \n",
              "4  ['time', 'spend', 'on', 'online', 'interaction...  0.685714   98.199129  "
            ],
            "text/html": [
              "\n",
              "  <div id=\"df-7c514097-ac38-4d09-b6be-be7585baa516\">\n",
              "    <div class=\"colab-df-container\">\n",
              "      <div>\n",
              "<style scoped>\n",
              "    .dataframe tbody tr th:only-of-type {\n",
              "        vertical-align: middle;\n",
              "    }\n",
              "\n",
              "    .dataframe tbody tr th {\n",
              "        vertical-align: top;\n",
              "    }\n",
              "\n",
              "    .dataframe thead th {\n",
              "        text-align: right;\n",
              "    }\n",
              "</style>\n",
              "<table border=\"1\" class=\"dataframe\">\n",
              "  <thead>\n",
              "    <tr style=\"text-align: right;\">\n",
              "      <th></th>\n",
              "      <th>Year</th>\n",
              "      <th>Category</th>\n",
              "      <th>QN</th>\n",
              "      <th>Passage</th>\n",
              "      <th>String</th>\n",
              "      <th>Splits</th>\n",
              "      <th>N_Splits</th>\n",
              "      <th>Lemma</th>\n",
              "      <th>TTR</th>\n",
              "      <th>MTLD</th>\n",
              "    </tr>\n",
              "  </thead>\n",
              "  <tbody>\n",
              "    <tr>\n",
              "      <th>0</th>\n",
              "      <td>2022</td>\n",
              "      <td>Context</td>\n",
              "      <td>Q40</td>\n",
              "      <td>Philip Kitcher and Wesley Salmon have suggeste...</td>\n",
              "      <td>1069</td>\n",
              "      <td>['Philip', 'Kitcher', 'and', 'Wesley', 'Salmon...</td>\n",
              "      <td>154</td>\n",
              "      <td>['philip', 'kitcher', 'and', 'wesley', 'salmon...</td>\n",
              "      <td>0.519481</td>\n",
              "      <td>39.029817</td>\n",
              "    </tr>\n",
              "    <tr>\n",
              "      <th>1</th>\n",
              "      <td>2021</td>\n",
              "      <td>Context</td>\n",
              "      <td>Q40</td>\n",
              "      <td>From a cross-cultural perspective the equation...</td>\n",
              "      <td>1086</td>\n",
              "      <td>['From', 'a', 'cross-cultural', 'perspective',...</td>\n",
              "      <td>180</td>\n",
              "      <td>['from', 'a', 'crosscultural', 'perspective', ...</td>\n",
              "      <td>0.561111</td>\n",
              "      <td>57.070312</td>\n",
              "    </tr>\n",
              "    <tr>\n",
              "      <th>2</th>\n",
              "      <td>2020</td>\n",
              "      <td>Context</td>\n",
              "      <td>Q40</td>\n",
              "      <td>Biological organisms, including human societie...</td>\n",
              "      <td>1052</td>\n",
              "      <td>['Biological', 'organisms,', 'including', 'hum...</td>\n",
              "      <td>154</td>\n",
              "      <td>['biological', 'organism', 'include', 'human',...</td>\n",
              "      <td>0.681818</td>\n",
              "      <td>106.436537</td>\n",
              "    </tr>\n",
              "    <tr>\n",
              "      <th>3</th>\n",
              "      <td>2019</td>\n",
              "      <td>Context</td>\n",
              "      <td>Q40</td>\n",
              "      <td>Biological organisms, including human societie...</td>\n",
              "      <td>1052</td>\n",
              "      <td>['Biological', 'organisms,', 'including', 'hum...</td>\n",
              "      <td>154</td>\n",
              "      <td>['biological', 'organism', 'include', 'human',...</td>\n",
              "      <td>0.681818</td>\n",
              "      <td>106.436537</td>\n",
              "    </tr>\n",
              "    <tr>\n",
              "      <th>4</th>\n",
              "      <td>2018</td>\n",
              "      <td>Context</td>\n",
              "      <td>Q40</td>\n",
              "      <td>Time spent on on-line interaction with members...</td>\n",
              "      <td>1171</td>\n",
              "      <td>['Time', 'spent', 'on', 'on-line', 'interactio...</td>\n",
              "      <td>175</td>\n",
              "      <td>['time', 'spend', 'on', 'online', 'interaction...</td>\n",
              "      <td>0.685714</td>\n",
              "      <td>98.199129</td>\n",
              "    </tr>\n",
              "  </tbody>\n",
              "</table>\n",
              "</div>\n",
              "      <button class=\"colab-df-convert\" onclick=\"convertToInteractive('df-7c514097-ac38-4d09-b6be-be7585baa516')\"\n",
              "              title=\"Convert this dataframe to an interactive table.\"\n",
              "              style=\"display:none;\">\n",
              "        \n",
              "  <svg xmlns=\"http://www.w3.org/2000/svg\" height=\"24px\"viewBox=\"0 0 24 24\"\n",
              "       width=\"24px\">\n",
              "    <path d=\"M0 0h24v24H0V0z\" fill=\"none\"/>\n",
              "    <path d=\"M18.56 5.44l.94 2.06.94-2.06 2.06-.94-2.06-.94-.94-2.06-.94 2.06-2.06.94zm-11 1L8.5 8.5l.94-2.06 2.06-.94-2.06-.94L8.5 2.5l-.94 2.06-2.06.94zm10 10l.94 2.06.94-2.06 2.06-.94-2.06-.94-.94-2.06-.94 2.06-2.06.94z\"/><path d=\"M17.41 7.96l-1.37-1.37c-.4-.4-.92-.59-1.43-.59-.52 0-1.04.2-1.43.59L10.3 9.45l-7.72 7.72c-.78.78-.78 2.05 0 2.83L4 21.41c.39.39.9.59 1.41.59.51 0 1.02-.2 1.41-.59l7.78-7.78 2.81-2.81c.8-.78.8-2.07 0-2.86zM5.41 20L4 18.59l7.72-7.72 1.47 1.35L5.41 20z\"/>\n",
              "  </svg>\n",
              "      </button>\n",
              "      \n",
              "  <style>\n",
              "    .colab-df-container {\n",
              "      display:flex;\n",
              "      flex-wrap:wrap;\n",
              "      gap: 12px;\n",
              "    }\n",
              "\n",
              "    .colab-df-convert {\n",
              "      background-color: #E8F0FE;\n",
              "      border: none;\n",
              "      border-radius: 50%;\n",
              "      cursor: pointer;\n",
              "      display: none;\n",
              "      fill: #1967D2;\n",
              "      height: 32px;\n",
              "      padding: 0 0 0 0;\n",
              "      width: 32px;\n",
              "    }\n",
              "\n",
              "    .colab-df-convert:hover {\n",
              "      background-color: #E2EBFA;\n",
              "      box-shadow: 0px 1px 2px rgba(60, 64, 67, 0.3), 0px 1px 3px 1px rgba(60, 64, 67, 0.15);\n",
              "      fill: #174EA6;\n",
              "    }\n",
              "\n",
              "    [theme=dark] .colab-df-convert {\n",
              "      background-color: #3B4455;\n",
              "      fill: #D2E3FC;\n",
              "    }\n",
              "\n",
              "    [theme=dark] .colab-df-convert:hover {\n",
              "      background-color: #434B5C;\n",
              "      box-shadow: 0px 1px 3px 1px rgba(0, 0, 0, 0.15);\n",
              "      filter: drop-shadow(0px 1px 2px rgba(0, 0, 0, 0.3));\n",
              "      fill: #FFFFFF;\n",
              "    }\n",
              "  </style>\n",
              "\n",
              "      <script>\n",
              "        const buttonEl =\n",
              "          document.querySelector('#df-7c514097-ac38-4d09-b6be-be7585baa516 button.colab-df-convert');\n",
              "        buttonEl.style.display =\n",
              "          google.colab.kernel.accessAllowed ? 'block' : 'none';\n",
              "\n",
              "        async function convertToInteractive(key) {\n",
              "          const element = document.querySelector('#df-7c514097-ac38-4d09-b6be-be7585baa516');\n",
              "          const dataTable =\n",
              "            await google.colab.kernel.invokeFunction('convertToInteractive',\n",
              "                                                     [key], {});\n",
              "          if (!dataTable) return;\n",
              "\n",
              "          const docLinkHtml = 'Like what you see? Visit the ' +\n",
              "            '<a target=\"_blank\" href=https://colab.research.google.com/notebooks/data_table.ipynb>data table notebook</a>'\n",
              "            + ' to learn more about interactive tables.';\n",
              "          element.innerHTML = '';\n",
              "          dataTable['output_type'] = 'display_data';\n",
              "          await google.colab.output.renderOutput(dataTable, element);\n",
              "          const docLink = document.createElement('div');\n",
              "          docLink.innerHTML = docLinkHtml;\n",
              "          element.appendChild(docLink);\n",
              "        }\n",
              "      </script>\n",
              "    </div>\n",
              "  </div>\n",
              "  "
            ]
          },
          "metadata": {},
          "execution_count": 31
        }
      ]
    },
    {
      "cell_type": "markdown",
      "source": [
        "Git clone"
      ],
      "metadata": {
        "id": "k87Jdj7EKHpV"
      }
    },
    {
      "cell_type": "code",
      "source": [
        "!git clone https://github.com/MK316/my.git"
      ],
      "metadata": {
        "id": "vZMFO9U6KJVv",
        "outputId": "7d2e2496-7617-47ad-b905-9cef4410f4f3",
        "colab": {
          "base_uri": "https://localhost:8080/"
        }
      },
      "execution_count": null,
      "outputs": [
        {
          "output_type": "stream",
          "name": "stdout",
          "text": [
            "Cloning into 'my'...\n",
            "remote: Enumerating objects: 12, done.\u001b[K\n",
            "remote: Counting objects: 100% (12/12), done.\u001b[K\n",
            "remote: Compressing objects: 100% (10/10), done.\u001b[K\n",
            "remote: Total 12 (delta 2), reused 0 (delta 0), pack-reused 0\u001b[K\n",
            "Unpacking objects: 100% (12/12), 120.42 KiB | 2.36 MiB/s, done.\n"
          ]
        }
      ]
    },
    {
      "cell_type": "code",
      "source": [
        "# Task 1: Read  'ksat_sample.csv' as df4\n"
      ],
      "metadata": {
        "id": "hCaQTnPTKQgn"
      },
      "execution_count": null,
      "outputs": []
    },
    {
      "cell_type": "code",
      "source": [
        "# Task 2: Read 'ksat_sample.txt' as mytext1\n"
      ],
      "metadata": {
        "id": "_4cjwkESKelZ"
      },
      "execution_count": null,
      "outputs": []
    },
    {
      "cell_type": "markdown",
      "source": [
        "## C. Files from Google drive\n",
        "\n",
        "- You'll be prompt to authorize your account"
      ],
      "metadata": {
        "id": "68NJWtAvJ4e5"
      }
    },
    {
      "cell_type": "code",
      "source": [
        "# Mount Google drive\n",
        "\n",
        "from google.colab import drive\n",
        "drive.mount('/content/drive')"
      ],
      "metadata": {
        "id": "Rnmul0n8J6wJ",
        "outputId": "93284cef-d364-4b4a-f636-0c98407b92a9",
        "colab": {
          "base_uri": "https://localhost:8080/"
        }
      },
      "execution_count": null,
      "outputs": [
        {
          "output_type": "stream",
          "name": "stdout",
          "text": [
            "Drive already mounted at /content/drive; to attempt to forcibly remount, call drive.mount(\"/content/drive\", force_remount=True).\n"
          ]
        }
      ]
    },
    {
      "cell_type": "code",
      "source": [
        "# # Unmount Google drive\n",
        "drive.flush_and_unmount()"
      ],
      "metadata": {
        "id": "2372FskTLYbV"
      },
      "execution_count": null,
      "outputs": []
    },
    {
      "cell_type": "markdown",
      "source": [
        "# ⏰ Todo: "
      ],
      "metadata": {
        "id": "9D7U7633g0S_"
      }
    },
    {
      "cell_type": "markdown",
      "source": [],
      "metadata": {
        "id": "mSpge9tenu6I"
      }
    },
    {
      "cell_type": "markdown",
      "source": [
        "\n",
        "\n",
        "---\n",
        "# The End\n"
      ],
      "metadata": {
        "id": "3cZjH9xIiN4_"
      }
    }
  ]
}