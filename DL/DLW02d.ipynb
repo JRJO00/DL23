{
  "nbformat": 4,
  "nbformat_minor": 0,
  "metadata": {
    "colab": {
      "provenance": [],
      "include_colab_link": true
    },
    "kernelspec": {
      "name": "python3",
      "display_name": "Python 3"
    },
    "language_info": {
      "name": "python"
    }
  },
  "cells": [
    {
      "cell_type": "markdown",
      "metadata": {
        "id": "view-in-github",
        "colab_type": "text"
      },
      "source": [
        "<a href=\"https://colab.research.google.com/github/JRJO00/DL23/blob/main/DL/DLW02d.ipynb\" target=\"_parent\"><img src=\"https://colab.research.google.com/assets/colab-badge.svg\" alt=\"Open In Colab\"/></a>"
      ]
    },
    {
      "cell_type": "markdown",
      "source": [
        "---\n",
        "# 📗 Topic [2]: Coding basic #2\n",
        "---\n",
        "Keywords:\n",
        "\n",
        "+ variables\n",
        "+ **operators**\n",
        "+ **data types: list and dictionary**"
      ],
      "metadata": {
        "id": "k4A5_MYHpcNQ"
      }
    },
    {
      "cell_type": "markdown",
      "source": [
        "Your github IDs [here](https://docs.google.com/spreadsheets/d/17SX51lCqOdtvC7cAGoX5tP9fKwVdGY5sRzMg2pXh9uk/edit#gid=0) - revised 0327"
      ],
      "metadata": {
        "id": "mUVgzk50XMkt"
      }
    },
    {
      "cell_type": "markdown",
      "source": [
        "## [1] Variables"
      ],
      "metadata": {
        "id": "93gQaEo1RX63"
      }
    },
    {
      "cell_type": "markdown",
      "source": [
        "+ **A variable** is a named storage location that holds a value.\n",
        "+ Variables can be used **to store values** such as numbers, strings, lists, or other data types. \n",
        "+ The value of a variable can change throughout the execution of a program. \n",
        "+ To declare a variable in Python, you need to assign a value to it using the **equal (=) sign.**"
      ],
      "metadata": {
        "id": "jJT4hD1teuJr"
      }
    },
    {
      "cell_type": "code",
      "source": [
        "x = 10\n",
        "y = \"Hello, class!\"\n",
        "z = [1, 2, 3]"
      ],
      "metadata": {
        "id": "Xes87bY2X45M"
      },
      "execution_count": null,
      "outputs": []
    },
    {
      "cell_type": "markdown",
      "source": [
        "↗️ In the above example, 'x' is assigned the value of 10, 'y' is assigned the value of \"Hello, World!\", and 'z' is assigned the value of [1, 2, 3]."
      ],
      "metadata": {
        "id": "ulw6QsP5ZiKp"
      }
    },
    {
      "cell_type": "code",
      "source": [
        "# We can assign a link or a function\n",
        "import pandas as pd\n",
        "url = \"https://github.com/MK316/Spring2023/raw/main/data/att_sample.csv\"\n",
        "data = pd.read_csv(url)\n",
        "data"
      ],
      "metadata": {
        "id": "_7bvpJt2aQmg"
      },
      "execution_count": null,
      "outputs": []
    },
    {
      "cell_type": "markdown",
      "source": [
        "## Commenting '#'\n",
        "\n",
        "- In Python, the # symbol is used to indicate comment lines. A comment is a line of text in a code that is ignored by the Python interpreter and is used to provide explanations or notes for the reader of the code.\n",
        "\n",
        "## Uncommenting shortcut: \n",
        "* \"Ctrl + /\" (Place the cursor on the code line and press the Control + / key.)"
      ],
      "metadata": {
        "id": "xZv9R8I8ZWvt"
      }
    },
    {
      "cell_type": "code",
      "source": [
        "# This is a comment in Python\n",
        "x = 10 # this is also a comment"
      ],
      "metadata": {
        "id": "7UJmbmmTaFx9"
      },
      "execution_count": null,
      "outputs": []
    },
    {
      "cell_type": "code",
      "source": [
        "x1 = x * 10\n",
        "x2 = x + 5\n",
        "\n",
        "#print(x1) # Print the value of x1\n",
        "# print(x1, x2) # Print the values of x1 and x2"
      ],
      "metadata": {
        "id": "Ivc72tB0X_TS"
      },
      "execution_count": null,
      "outputs": []
    },
    {
      "cell_type": "code",
      "source": [
        "print(y)\n",
        "y1 = y + \"Welcome to the class.\"\n",
        "z1 = z + [3,2,1]\n",
        " \n",
        "print(y1, z1)"
      ],
      "metadata": {
        "id": "cxePqv-52RU0",
        "outputId": "81912ad4-9579-4363-95d6-fae908870a13",
        "colab": {
          "base_uri": "https://localhost:8080/"
        }
      },
      "execution_count": null,
      "outputs": [
        {
          "output_type": "stream",
          "name": "stdout",
          "text": [
            "Hello, class!\n",
            "Hello, class!Welcome to the class. [1, 2, 3, 3, 2, 1]\n"
          ]
        }
      ]
    },
    {
      "cell_type": "markdown",
      "source": [
        "Input types:\n",
        "\n",
        "* integer: e.g., -3, 1, 0, 234, etc.\n",
        "* float: e.g., -3.0, 1.2, 0, 3.141592653589793238, etc.\n",
        "* string: (characters) \"1\", '0', \"3.29\", \"Mary\", \"euphoria\", 'My name is Jane.'\n",
        "\n",
        "_Note:_ double or single quotation marks denote **string** data. (Open and close should match.)"
      ],
      "metadata": {
        "id": "4zDbyBHbeQsq"
      }
    },
    {
      "cell_type": "code",
      "source": [
        "# DIY\n",
        "x = \"John\"\n",
        "y = \" lives in San Jose\"\n",
        "z = x + y\n",
        "print(z)\n",
        "\n",
        "x1 = \"1\"\n",
        "y1 = \"3\"\n",
        "z1 = x1 + y1\n",
        "print(z1)"
      ],
      "metadata": {
        "colab": {
          "base_uri": "https://localhost:8080/"
        },
        "id": "yzZuC29QfP3T",
        "outputId": "7eea7a58-987a-4a4b-8e33-dbf2706d4459"
      },
      "execution_count": 18,
      "outputs": [
        {
          "output_type": "stream",
          "name": "stdout",
          "text": [
            "John lives in San Jose\n",
            "13\n"
          ]
        }
      ]
    },
    {
      "cell_type": "code",
      "source": [
        "type(z)"
      ],
      "metadata": {
        "colab": {
          "base_uri": "https://localhost:8080/"
        },
        "id": "qwDb8cf5fkKi",
        "outputId": "ca90ff67-f5ef-490c-92e9-e7f5a8a6478e"
      },
      "execution_count": 19,
      "outputs": [
        {
          "output_type": "execute_result",
          "data": {
            "text/plain": [
              "str"
            ]
          },
          "metadata": {},
          "execution_count": 19
        }
      ]
    },
    {
      "cell_type": "code",
      "source": [
        "type(z1)"
      ],
      "metadata": {
        "colab": {
          "base_uri": "https://localhost:8080/"
        },
        "id": "L7sxvSaOfsOt",
        "outputId": "bd3766d6-480f-47f7-a51c-946e7dee8960"
      },
      "execution_count": 22,
      "outputs": [
        {
          "output_type": "execute_result",
          "data": {
            "text/plain": [
              "str"
            ]
          },
          "metadata": {},
          "execution_count": 22
        }
      ]
    },
    {
      "cell_type": "code",
      "source": [
        "print(type(z), type(z1))"
      ],
      "metadata": {
        "colab": {
          "base_uri": "https://localhost:8080/"
        },
        "id": "bbFaL_GWfwMH",
        "outputId": "d9cf4981-ccb7-427d-8575-fb29aef58582"
      },
      "execution_count": 21,
      "outputs": [
        {
          "output_type": "stream",
          "name": "stdout",
          "text": [
            "<class 'str'> <class 'str'>\n"
          ]
        }
      ]
    },
    {
      "cell_type": "markdown",
      "source": [
        "## [2] Operators\n",
        "\n",
        "* Symbols that perform operations on values and variables. \n",
        "* They are used to perform arithmetic and logical operations, and they can also be used to manipulate and compare values. "
      ],
      "metadata": {
        "id": "5JgA2T2dRft5"
      }
    },
    {
      "cell_type": "markdown",
      "source": [
        "1. Arithmetic Operators: +, -, *, /, %, ** (for exponentiation)\n",
        "2. semicolon ';' - separate multiple statements (code lines) on a single line."
      ],
      "metadata": {
        "id": "NJBgu_O4bczL"
      }
    },
    {
      "cell_type": "code",
      "source": [
        "x = 2; y = 5\n",
        "\n",
        "a1 = x + y\n",
        "a2 = x - y\n",
        "a3 = x * y\n",
        "a4 = x / y\n",
        "a5 = x ** y"
      ],
      "metadata": {
        "id": "dXT3pIzobUHU"
      },
      "execution_count": 24,
      "outputs": []
    },
    {
      "cell_type": "code",
      "source": [
        "print(a1, a2, a3, a4, a5)"
      ],
      "metadata": {
        "colab": {
          "base_uri": "https://localhost:8080/"
        },
        "id": "_m3JBsOKd6Uv",
        "outputId": "0655ff2c-eb4e-4490-c7a1-f385155d85bb"
      },
      "execution_count": 25,
      "outputs": [
        {
          "output_type": "stream",
          "name": "stdout",
          "text": [
            "7 -3 10 0.4 32\n"
          ]
        }
      ]
    },
    {
      "cell_type": "code",
      "source": [
        "print(\"The value of a1:\", a1)"
      ],
      "metadata": {
        "colab": {
          "base_uri": "https://localhost:8080/"
        },
        "id": "5kq7I3nMd0Xi",
        "outputId": "178152e6-a0b7-4dbd-93b9-3351ebac49fc"
      },
      "execution_count": 26,
      "outputs": [
        {
          "output_type": "stream",
          "name": "stdout",
          "text": [
            "The value of a1: 7\n"
          ]
        }
      ]
    },
    {
      "cell_type": "markdown",
      "source": [
        "# 🌱 Define a function\n",
        "\n",
        "Demo 🔢 Calculator"
      ],
      "metadata": {
        "id": "Cx1NyWUAybc8"
      }
    },
    {
      "cell_type": "code",
      "source": [
        "# This function adds two numbers\n",
        "def add(x, y):\n",
        "    return x + y\n",
        "\n",
        "# This function subtracts two numbers\n",
        "def subtract(x, y):\n",
        "    return x - y\n",
        "\n",
        "# This function multiplies two numbers\n",
        "def multiply(x, y):\n",
        "    return x * y\n",
        "\n",
        "# This function divides two numbers\n",
        "def divide(x, y):\n",
        "    return x / y\n"
      ],
      "metadata": {
        "id": "Dod3_zgYdsWe"
      },
      "execution_count": 28,
      "outputs": []
    },
    {
      "cell_type": "code",
      "source": [
        "# DIY: define a function names switch(x, y), where the input x, y changes its position in the output.\n",
        "\n",
        "def switch(x, y):\n",
        "  return print(y, x)"
      ],
      "metadata": {
        "id": "W9CuAaqXgwb5"
      },
      "execution_count": 32,
      "outputs": []
    },
    {
      "cell_type": "code",
      "source": [
        "switch(\"It\", \"is\")"
      ],
      "metadata": {
        "id": "8Oh4ctpXaIIE",
        "outputId": "ca3f75b3-8f2c-451a-9db2-466a9b11cfe2",
        "colab": {
          "base_uri": "https://localhost:8080/"
        }
      },
      "execution_count": 33,
      "outputs": [
        {
          "output_type": "stream",
          "name": "stdout",
          "text": [
            "is It\n"
          ]
        }
      ]
    },
    {
      "cell_type": "code",
      "source": [
        "add(1200,34)"
      ],
      "metadata": {
        "id": "br8NXBwtMpMI",
        "outputId": "351d976c-5811-4705-aa2a-5e0ff510c1c5",
        "colab": {
          "base_uri": "https://localhost:8080/"
        }
      },
      "execution_count": 30,
      "outputs": [
        {
          "output_type": "execute_result",
          "data": {
            "text/plain": [
              "1234"
            ]
          },
          "metadata": {},
          "execution_count": 30
        }
      ]
    },
    {
      "cell_type": "code",
      "source": [
        "# Test\n",
        "\n",
        "add(2,3)\n",
        "subtract(3,2)\n",
        "multiply(2,3)\n",
        "divide(3,2)"
      ],
      "metadata": {
        "id": "IoHh-U2GBsqH",
        "outputId": "011d618a-fda8-4bc0-91b6-5fa7e1422b85",
        "colab": {
          "base_uri": "https://localhost:8080/"
        }
      },
      "execution_count": 31,
      "outputs": [
        {
          "output_type": "execute_result",
          "data": {
            "text/plain": [
              "1.5"
            ]
          },
          "metadata": {},
          "execution_count": 31
        }
      ]
    },
    {
      "cell_type": "markdown",
      "source": [
        "## Using dropbox format"
      ],
      "metadata": {
        "id": "eOluPoNqCCE1"
      }
    },
    {
      "cell_type": "code",
      "source": [
        "#@markdown 🔄 Making functions: tts('text')\n",
        "%%capture\n",
        "!pip install gTTS\n",
        "from gtts import gTTS\n",
        "from IPython.display import Audio\n",
        "\n",
        "def tts(text):\n",
        "  text_to_say = text\n",
        "\n",
        "  gtts_object = gTTS(text = text_to_say,\n",
        "                     lang = \"en\", tld = \"us\",\n",
        "                    slow = True)\n",
        "  \n",
        "  gtts_object.save(\"E-audio.mp3\")\n",
        "  return Audio(\"E-audio.mp3\")"
      ],
      "metadata": {
        "id": "nRtyN0p6NoKA"
      },
      "execution_count": 34,
      "outputs": []
    },
    {
      "cell_type": "code",
      "source": [
        "func = \"multiply\" #@param = [\"add\",\"subtract\",\"multiply\",\"divide\"]\n",
        "digits = input(\"Type two numbers: (e.g., 3,4)\")\n",
        "digitsplit = digits.split(',')\n",
        "d1 = int(digitsplit[0])\n",
        "d2 = int(digitsplit[1])\n",
        "\n",
        "if func == \"add\":\n",
        "  result = add(d1,d2)\n",
        "  text = \"The addition of %d and %d equals %d.\"%(d1,d2,result)\n",
        "elif func == \"subtract\":\n",
        "  result = subtract(d1,d2)\n",
        "  text = \"If you subtract %d from %d, you get %d.\"%(d2,d1,result)\n",
        "elif func == \"divide\":\n",
        "  result = divide(d1,d2)\n",
        "  text = \"When you divide %d by %d, you get %d.\"%(d1,d2,result)\n",
        "elif func == \"multiply\":\n",
        "  result = multiply(d1,d2)\n",
        "  text = \"%d multiplied by %d is %d.\"%(d1,d2,result)\n",
        "\n",
        "print(text)\n",
        "tts(text)\n",
        "Audio(\"E-audio.mp3\", autoplay= True)"
      ],
      "metadata": {
        "id": "FT47bY6qBo3k",
        "outputId": "65bf2a87-c902-4c95-e2fa-12a48d3c6243",
        "colab": {
          "base_uri": "https://localhost:8080/",
          "height": 111
        }
      },
      "execution_count": 39,
      "outputs": [
        {
          "output_type": "stream",
          "name": "stdout",
          "text": [
            "Type two numbers: (e.g., 3,4)3,4\n",
            "3 multiplied by 4 is 12.\n"
          ]
        },
        {
          "output_type": "execute_result",
          "data": {
            "text/plain": [
              "<IPython.lib.display.Audio object>"
            ],
            "text/html": [
              "\n",
              "                <audio  controls=\"controls\" autoplay=\"autoplay\">\n",
              "                    <source src=\"data:audio/mpeg;base64,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\" type=\"audio/mpeg\" />\n",
              "                    Your browser does not support the audio element.\n",
              "                </audio>\n",
              "              "
            ]
          },
          "metadata": {},
          "execution_count": 39
        }
      ]
    },
    {
      "cell_type": "markdown",
      "source": [
        "More operators: <br>\n",
        "* Comparison Operators: ==, !=, <, >, <=, >= <br>\n",
        "* Assignment Operators: =, +=, -=, *=, /=, %= <br>\n",
        "* Logical Operators: and, or, not <br>\n",
        "* Identity Operators: is, is not <br>\n",
        "* Membership Operators: in, not in "
      ],
      "metadata": {
        "id": "sfubu24UbqjH"
      }
    },
    {
      "cell_type": "markdown",
      "source": [
        "# 📗Topic [3] Data types: number, string, list and dictionary\n"
      ],
      "metadata": {
        "id": "3eSrUoglRh6-"
      }
    },
    {
      "cell_type": "markdown",
      "source": [
        "\n",
        "|Data type| |\n",
        "|:--:|:--:|\n",
        "|number|int, float|\n",
        "|string|charcter|\n",
        "|list|[1, 2,4], ['Mary','Tom','Jane'|\n",
        "|dictionary|(key: value), [('English': 80), ('Korean':90)]|\n",
        "|tuple|('zero', 0)|\n"
      ],
      "metadata": {
        "id": "ZVFb5JmJrPXu"
      }
    },
    {
      "cell_type": "code",
      "source": [
        "a1 = 3   # a1 is integer\n",
        "a2 = 3.0 # a2 is float\n",
        "a3 = \"3\" # a3 is string\n",
        "\n",
        "type(a1); type(a2); type(a3)\n",
        "print(type(a1), type(a2), type(a3))"
      ],
      "metadata": {
        "colab": {
          "base_uri": "https://localhost:8080/"
        },
        "id": "g-kvldqENA1e",
        "outputId": "516d6cbc-d966-4cab-fd3c-d790adcb3d17"
      },
      "execution_count": 41,
      "outputs": [
        {
          "output_type": "stream",
          "name": "stdout",
          "text": [
            "<class 'int'> <class 'float'> <class 'str'>\n"
          ]
        }
      ]
    },
    {
      "cell_type": "markdown",
      "source": [
        "list and index (0, 1, 2,...)"
      ],
      "metadata": {
        "id": "HC_wMsPnNbzs"
      }
    },
    {
      "cell_type": "code",
      "source": [
        "a = [1, \"Mary\", 4, \"John\"]  # This is a list.\n",
        "print(type(a))\n",
        "\n",
        "a+a"
      ],
      "metadata": {
        "colab": {
          "base_uri": "https://localhost:8080/"
        },
        "id": "LyTw7phONZHE",
        "outputId": "be56b3ed-1114-4011-e4c9-cc4c9dbf92d8"
      },
      "execution_count": 43,
      "outputs": [
        {
          "output_type": "stream",
          "name": "stdout",
          "text": [
            "<class 'list'>\n"
          ]
        },
        {
          "output_type": "execute_result",
          "data": {
            "text/plain": [
              "[1, 'Mary', 4, 'John', 1, 'Mary', 4, 'John']"
            ]
          },
          "metadata": {},
          "execution_count": 43
        }
      ]
    },
    {
      "cell_type": "markdown",
      "source": [
        "* index: Python index starts from '0'\n",
        "\n",
        "e.g., a = [1, 2, 3, 4]"
      ],
      "metadata": {
        "id": "-fL-pJvj7NW8"
      }
    },
    {
      "cell_type": "code",
      "source": [
        "a[0]\n",
        "type(a[0])\n",
        "type(a[1])\n",
        "a[0] + a[2]\n",
        "a[0] + a[1] # int + str = error"
      ],
      "metadata": {
        "id": "9Z5zLDGc7X13",
        "outputId": "e5fa58f9-6a2f-433a-a50a-41080f6f965d",
        "colab": {
          "base_uri": "https://localhost:8080/",
          "height": 211
        }
      },
      "execution_count": 49,
      "outputs": [
        {
          "output_type": "error",
          "ename": "TypeError",
          "evalue": "ignored",
          "traceback": [
            "\u001b[0;31m---------------------------------------------------------------------------\u001b[0m",
            "\u001b[0;31mTypeError\u001b[0m                                 Traceback (most recent call last)",
            "\u001b[0;32m<ipython-input-49-6b699a7a71e2>\u001b[0m in \u001b[0;36m<module>\u001b[0;34m\u001b[0m\n\u001b[1;32m      3\u001b[0m \u001b[0mtype\u001b[0m\u001b[0;34m(\u001b[0m\u001b[0ma\u001b[0m\u001b[0;34m[\u001b[0m\u001b[0;36m1\u001b[0m\u001b[0;34m]\u001b[0m\u001b[0;34m)\u001b[0m\u001b[0;34m\u001b[0m\u001b[0;34m\u001b[0m\u001b[0m\n\u001b[1;32m      4\u001b[0m \u001b[0ma\u001b[0m\u001b[0;34m[\u001b[0m\u001b[0;36m0\u001b[0m\u001b[0;34m]\u001b[0m \u001b[0;34m+\u001b[0m \u001b[0ma\u001b[0m\u001b[0;34m[\u001b[0m\u001b[0;36m2\u001b[0m\u001b[0;34m]\u001b[0m\u001b[0;34m\u001b[0m\u001b[0;34m\u001b[0m\u001b[0m\n\u001b[0;32m----> 5\u001b[0;31m \u001b[0ma\u001b[0m\u001b[0;34m[\u001b[0m\u001b[0;36m0\u001b[0m\u001b[0;34m]\u001b[0m \u001b[0;34m+\u001b[0m \u001b[0ma\u001b[0m\u001b[0;34m[\u001b[0m\u001b[0;36m1\u001b[0m\u001b[0;34m]\u001b[0m \u001b[0;31m# int + str = error\u001b[0m\u001b[0;34m\u001b[0m\u001b[0;34m\u001b[0m\u001b[0m\n\u001b[0m",
            "\u001b[0;31mTypeError\u001b[0m: unsupported operand type(s) for +: 'int' and 'str'"
          ]
        }
      ]
    },
    {
      "cell_type": "markdown",
      "source": [
        "[Github accounts](https://raw.githubusercontent.com/MK316/Spring2023/main/DL/files/DL_github.csv)"
      ],
      "metadata": {
        "id": "S-KG49Zaim0S"
      }
    },
    {
      "cell_type": "markdown",
      "source": [
        "\n",
        "\n",
        "---\n",
        "# The End\n"
      ],
      "metadata": {
        "id": "3cZjH9xIiN4_"
      }
    }
  ]
}