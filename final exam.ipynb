{
  "nbformat": 4,
  "nbformat_minor": 0,
  "metadata": {
    "colab": {
      "provenance": [],
      "authorship_tag": "ABX9TyNaOZsQlsoScJ3ZOcEWw8Zb",
      "include_colab_link": true
    },
    "kernelspec": {
      "name": "python3",
      "display_name": "Python 3"
    },
    "language_info": {
      "name": "python"
    }
  },
  "cells": [
    {
      "cell_type": "markdown",
      "metadata": {
        "id": "view-in-github",
        "colab_type": "text"
      },
      "source": [
        "<a href=\"https://colab.research.google.com/github/JRJO00/DL23/blob/main/final%20exam.ipynb\" target=\"_parent\"><img src=\"https://colab.research.google.com/assets/colab-badge.svg\" alt=\"Open In Colab\"/></a>"
      ]
    },
    {
      "cell_type": "markdown",
      "source": [
        "#📝Basic of Text cell\n",
        "\n",
        "더블클릭 또는 Enter키를 눌러 수정\n",
        "\n",
        "#'#'은 주로 Headline을 나타낼 때 쓰여요!\n",
        "##'##'은 주로 Subtitle을 나타낼 때 쓰여요!\n",
        "그냥 쓸때는 이정도 크기예요!\n",
        "\n",
        "* '*'쓰고 띄어쓰기 하면 이렇게 쓸 수 있어요!\n",
        "1. 숫자쓰고 띄어쓰기 하면 이렇게 쓸 수 있어요!\n",
        "\n",
        "*기울기*는 글자 양쪽에 '*' 기호를 써주면 됩니다!\n",
        "\n",
        "**강조**는 글자 양쪽에 '**' 기호를 써주면 됩니다!\n",
        "\n",
        "원상태로 돌리고 싶으면 오른쪽 여백에 더블클릭 해주세요!\n"
      ],
      "metadata": {
        "id": "UnaMQeJPc36Q"
      }
    },
    {
      "cell_type": "code",
      "execution_count": null,
      "metadata": {
        "id": "YnsD5q2-2zXV"
      },
      "outputs": [],
      "source": [
        "#@markdown #👾Basic of code cell\n",
        "\n",
        "# '#'은 Comment 남길 수 있는 기능이에요!\n",
        "\n",
        "# '#@markdown'은 두 가지 기능이 있어요.\n",
        "# 1.Code cell을 숨갈 수 있는 기능이며,\n",
        "# 2.Comment를 Title 혹은 Text로 나타낼 수 있는 기능을 해요!\n",
        "\n",
        "#원상태로 돌리고 싶으면 오른쪽 여백에 더블클릭 해주세요!\n",
        "\n",
        "# ';'은 Enter키 누르지 않고 이어서 적고 싶을 때 쓸 수 있는 기호입니다!\n",
        "\n",
        "\n"
      ]
    },
    {
      "cell_type": "markdown",
      "source": [
        "#🧑‍🏫학습목표👩‍🏫\n",
        "\n",
        "* about **'variables'**\n",
        "* about differences between **'string'** and **'integer'**\n",
        "* about understanding **'integer'** and **'float'**\n",
        "* about understanding functions such as **'str()'**, **'int()'**, and **'float()'**\n",
        "* about understanding functions such as **'input()'**, **'print()'**, and **'type()'**\n",
        "* about **'operators'** (Arithmetic, Comparison, Assignment, Logical, Identity, Membership)\n",
        "* about data types such as **'list'**\n",
        "\n",
        "\n",
        "\n",
        "\n",
        "\n",
        "\n"
      ],
      "metadata": {
        "id": "JTBuz0pR40LJ"
      }
    },
    {
      "cell_type": "markdown",
      "source": [
        "#💡Understanding the terms of coding. 🌱[Basic]"
      ],
      "metadata": {
        "id": "ut1HYsTV4NaD"
      }
    },
    {
      "cell_type": "code",
      "source": [
        "a = 3 #a는 integer\n",
        "b = 'hello' #b는 string\n",
        "c = \"3\" #c도 string\n",
        "d = 0.142857 #d는 float\n",
        "\n",
        "#a,b,c,d는 모두 variables\n",
        "\n",
        "print(b) #'print()'함수는 결괏값을 바로 확인할 수 있는 함수\n",
        "print(type(a), type(b), type(d))\n",
        "print(type(a)); print(type(b)); print(type(d))\n",
        "\n",
        "type(c) #'type()'함수는 variables의 type를 확인하는 함수"
      ],
      "metadata": {
        "colab": {
          "base_uri": "https://localhost:8080/"
        },
        "id": "eS3raZIsaM25",
        "outputId": "8b4120d0-f454-4edc-a5d9-003a9711776b"
      },
      "execution_count": null,
      "outputs": [
        {
          "output_type": "stream",
          "name": "stdout",
          "text": [
            "hello\n",
            "<class 'int'> <class 'str'> <class 'float'>\n",
            "<class 'int'>\n",
            "<class 'str'>\n",
            "<class 'float'>\n"
          ]
        },
        {
          "output_type": "execute_result",
          "data": {
            "text/plain": [
              "str"
            ]
          },
          "metadata": {},
          "execution_count": 2
        }
      ]
    },
    {
      "cell_type": "code",
      "source": [
        "A = str(a) #'str()'함수는 결괏값을 string으로 만드는 함수\n",
        "B = int(c) #'int()'함수는 string으로 된 숫자를 integer로 만드는 함수\n",
        "C = float(c) #'float()'함수는 string으로 된 숫자 혹은 integer를 float으로 만드는 함수\n",
        "\n",
        "print(type(A)); print(type(B)); print(type(C))"
      ],
      "metadata": {
        "colab": {
          "base_uri": "https://localhost:8080/"
        },
        "id": "83IT0GayetuZ",
        "outputId": "fe403cb6-c14c-4a04-96fd-d11700dd9d9c"
      },
      "execution_count": null,
      "outputs": [
        {
          "output_type": "stream",
          "name": "stdout",
          "text": [
            "<class 'str'>\n",
            "<class 'int'>\n",
            "<class 'float'>\n"
          ]
        }
      ]
    },
    {
      "cell_type": "code",
      "source": [
        "input(\"Type anything!: \") #'input()'함수는 string으로 입력하는 함수"
      ],
      "metadata": {
        "colab": {
          "base_uri": "https://localhost:8080/",
          "height": 54
        },
        "id": "cQsmTjabjdK0",
        "outputId": "4586d982-c4f0-4231-a9c1-7f92a6bf46d4"
      },
      "execution_count": null,
      "outputs": [
        {
          "name": "stdout",
          "output_type": "stream",
          "text": [
            "Type anything!: Merry Christmas! 🎄 \n"
          ]
        },
        {
          "output_type": "execute_result",
          "data": {
            "text/plain": [
              "'Merry Christmas! 🎄 '"
            ],
            "application/vnd.google.colaboratory.intrinsic+json": {
              "type": "string"
            }
          },
          "metadata": {},
          "execution_count": 22
        }
      ]
    },
    {
      "cell_type": "code",
      "source": [
        "#만약 결괏값에 작은따옴표를 없애고 싶다면 'print()'함수를 쓰세요!\n",
        "\n",
        "print(input(\"Type anything!: \"))"
      ],
      "metadata": {
        "colab": {
          "base_uri": "https://localhost:8080/"
        },
        "id": "Tz6Yt_iGhvl4",
        "outputId": "7894e658-875c-4c04-c65b-d51923329cb6"
      },
      "execution_count": null,
      "outputs": [
        {
          "output_type": "stream",
          "name": "stdout",
          "text": [
            "Type anything!: Merry Christmas! 🎄 \n",
            "Merry Christmas! 🎄 \n"
          ]
        }
      ]
    },
    {
      "cell_type": "code",
      "source": [
        "#list & index\n",
        "\n",
        "a = [1,2,3,\"Hello\"] #list는 대괄호를 사용하여 나타냅니다.\n",
        "\n",
        "print(type(a))\n",
        "print(a[0]); print(a[0:]); print(a[0:3]); print(a[-1])\n",
        "\n",
        "#list의 index는 0부터 count\n",
        "#list = [1, 2, 3, ... , n-1, n]일때\n",
        "#list[0]의 값은 1, list[0:]=의 값은 all, list[0:n-1]의 값도 all\n",
        "#list[-1]의 값은 n"
      ],
      "metadata": {
        "id": "UE2cdDkzpytw",
        "outputId": "e06fdca5-44f8-40d0-c49a-9f5d4677df38",
        "colab": {
          "base_uri": "https://localhost:8080/"
        }
      },
      "execution_count": null,
      "outputs": [
        {
          "output_type": "stream",
          "name": "stdout",
          "text": [
            "<class 'list'>\n",
            "1\n",
            "[1, 2, 3, 'Hello']\n",
            "[1, 2, 3]\n",
            "Hello\n"
          ]
        }
      ]
    },
    {
      "cell_type": "code",
      "source": [
        "#Arithmatic operators (+,-,*,/,**,%,etc.)\n",
        "\n",
        "a = 2; b = 5\n",
        "print(a+b); print(a-b); print(a*b); print(a/b); print(a**b)\n",
        "\n",
        "c = \"Hello\"\n",
        "print(c*3); print(c+\"!\")\n",
        "\n",
        "d = [1,2,3]\n",
        "print(d*3); print(d+[3,2,1])"
      ],
      "metadata": {
        "colab": {
          "base_uri": "https://localhost:8080/"
        },
        "id": "COak3db1j2Jp",
        "outputId": "e850cf21-31ba-46ae-ecf3-13d9161983d4"
      },
      "execution_count": null,
      "outputs": [
        {
          "output_type": "stream",
          "name": "stdout",
          "text": [
            "7\n",
            "-3\n",
            "10\n",
            "0.4\n",
            "32\n",
            "HelloHelloHello\n",
            "Hello!\n",
            "[1, 2, 3, 1, 2, 3, 1, 2, 3]\n",
            "[1, 2, 3, 3, 2, 1]\n"
          ]
        }
      ]
    },
    {
      "cell_type": "code",
      "source": [
        "#Comparison operators (==,!=,>,<,>=,<=)\n",
        "#Assignment operators (=,+=,-=,*=,/=,%=)\n",
        "#Logical operators (and,or,not)\n",
        "#Identity operators (is, is not)\n",
        "#Membership operators (in, not in)"
      ],
      "metadata": {
        "id": "-LwZwPOtplIW"
      },
      "execution_count": null,
      "outputs": []
    },
    {
      "cell_type": "markdown",
      "source": [
        "#🧑‍🏫학습목표👩‍🏫\n",
        "\n",
        "* about **'Dictionary'**\n",
        "* about **'Dataframe'**\n",
        "* about understanding **module**, **package**, and **library**\n",
        "* about understanding functions such as **'range()'**, **'list()'**\n",
        "* about understanding functions such as **'data.strip()'**, **'data.split()'**, and **' '.join()**\n",
        "* about understanding functions such as **'len()'**, **'data.split()'**, and **' '.join()**\n",
        "* about **'operators'** (Arithmetic, Comparison, Assignment, Logical, Identity, Membership)\n",
        "* about data types such as **'list'**\n"
      ],
      "metadata": {
        "id": "2fRgPp1Vi25N"
      }
    },
    {
      "cell_type": "markdown",
      "source": [
        "#💡Understanding the terms of coding. 🌿[Intermediate]"
      ],
      "metadata": {
        "id": "efeFbFlE-IPv"
      }
    },
    {
      "cell_type": "code",
      "source": [
        "#@markdown #👾Intermediate code cell"
      ],
      "metadata": {
        "id": "9_ySUXJx-uXh"
      },
      "execution_count": null,
      "outputs": []
    },
    {
      "cell_type": "code",
      "source": [
        "#Dictionary = {\"key\": \"value\"}\n",
        "\n",
        "lang = {\"Korean\": \"Hangul\", \"English\": \"Alphabet\", \"Japanese\": \"Hiragana\"}\n",
        "print(lang)\n",
        "\n",
        "lang[\"Japanese\"]"
      ],
      "metadata": {
        "id": "mwL3zvDairwN",
        "outputId": "5ba06090-0a0f-43b6-fee9-3021a5b7cd70",
        "colab": {
          "base_uri": "https://localhost:8080/",
          "height": 54
        }
      },
      "execution_count": null,
      "outputs": [
        {
          "output_type": "stream",
          "name": "stdout",
          "text": [
            "{'Korean': 'Hangul', 'English': 'Alphabet', 'Japanese': 'Hiragana'}\n"
          ]
        },
        {
          "output_type": "execute_result",
          "data": {
            "text/plain": [
              "'Hiragana'"
            ],
            "application/vnd.google.colaboratory.intrinsic+json": {
              "type": "string"
            }
          },
          "metadata": {},
          "execution_count": 12
        }
      ]
    },
    {
      "cell_type": "code",
      "source": [
        "#Dataframe\n",
        "\n",
        "# Import pandas library; {pandas} is the most popular library for working with DataFrames in Python.\n",
        "import pandas as pd\n",
        "\n",
        "# initialize list of lists\n",
        "data = [['조정래', 2000], ['정회준', 1996], ['최한빛', 2000]]\n",
        "\n",
        "# Create the pandas DataFrame\n",
        "df = pd.DataFrame(data)\n",
        "df1 = pd.DataFrame(data, columns=['이름', '연도'])\n",
        "# print dataframe.\n",
        "df\n",
        "df1"
      ],
      "metadata": {
        "id": "QP3Lypbx2QQs",
        "outputId": "4a3f0f8f-9ed4-49bb-d25e-fe8ebb267968",
        "colab": {
          "base_uri": "https://localhost:8080/",
          "height": 142
        }
      },
      "execution_count": null,
      "outputs": [
        {
          "output_type": "execute_result",
          "data": {
            "text/plain": [
              "    이름    연도\n",
              "0  조정래  2000\n",
              "1  정회준  1996\n",
              "2  최한빛  2000"
            ],
            "text/html": [
              "\n",
              "  <div id=\"df-ab1ec935-ef55-4048-b72a-38953207614c\">\n",
              "    <div class=\"colab-df-container\">\n",
              "      <div>\n",
              "<style scoped>\n",
              "    .dataframe tbody tr th:only-of-type {\n",
              "        vertical-align: middle;\n",
              "    }\n",
              "\n",
              "    .dataframe tbody tr th {\n",
              "        vertical-align: top;\n",
              "    }\n",
              "\n",
              "    .dataframe thead th {\n",
              "        text-align: right;\n",
              "    }\n",
              "</style>\n",
              "<table border=\"1\" class=\"dataframe\">\n",
              "  <thead>\n",
              "    <tr style=\"text-align: right;\">\n",
              "      <th></th>\n",
              "      <th>이름</th>\n",
              "      <th>연도</th>\n",
              "    </tr>\n",
              "  </thead>\n",
              "  <tbody>\n",
              "    <tr>\n",
              "      <th>0</th>\n",
              "      <td>조정래</td>\n",
              "      <td>2000</td>\n",
              "    </tr>\n",
              "    <tr>\n",
              "      <th>1</th>\n",
              "      <td>정회준</td>\n",
              "      <td>1996</td>\n",
              "    </tr>\n",
              "    <tr>\n",
              "      <th>2</th>\n",
              "      <td>최한빛</td>\n",
              "      <td>2000</td>\n",
              "    </tr>\n",
              "  </tbody>\n",
              "</table>\n",
              "</div>\n",
              "      <button class=\"colab-df-convert\" onclick=\"convertToInteractive('df-ab1ec935-ef55-4048-b72a-38953207614c')\"\n",
              "              title=\"Convert this dataframe to an interactive table.\"\n",
              "              style=\"display:none;\">\n",
              "        \n",
              "  <svg xmlns=\"http://www.w3.org/2000/svg\" height=\"24px\"viewBox=\"0 0 24 24\"\n",
              "       width=\"24px\">\n",
              "    <path d=\"M0 0h24v24H0V0z\" fill=\"none\"/>\n",
              "    <path d=\"M18.56 5.44l.94 2.06.94-2.06 2.06-.94-2.06-.94-.94-2.06-.94 2.06-2.06.94zm-11 1L8.5 8.5l.94-2.06 2.06-.94-2.06-.94L8.5 2.5l-.94 2.06-2.06.94zm10 10l.94 2.06.94-2.06 2.06-.94-2.06-.94-.94-2.06-.94 2.06-2.06.94z\"/><path d=\"M17.41 7.96l-1.37-1.37c-.4-.4-.92-.59-1.43-.59-.52 0-1.04.2-1.43.59L10.3 9.45l-7.72 7.72c-.78.78-.78 2.05 0 2.83L4 21.41c.39.39.9.59 1.41.59.51 0 1.02-.2 1.41-.59l7.78-7.78 2.81-2.81c.8-.78.8-2.07 0-2.86zM5.41 20L4 18.59l7.72-7.72 1.47 1.35L5.41 20z\"/>\n",
              "  </svg>\n",
              "      </button>\n",
              "      \n",
              "  <style>\n",
              "    .colab-df-container {\n",
              "      display:flex;\n",
              "      flex-wrap:wrap;\n",
              "      gap: 12px;\n",
              "    }\n",
              "\n",
              "    .colab-df-convert {\n",
              "      background-color: #E8F0FE;\n",
              "      border: none;\n",
              "      border-radius: 50%;\n",
              "      cursor: pointer;\n",
              "      display: none;\n",
              "      fill: #1967D2;\n",
              "      height: 32px;\n",
              "      padding: 0 0 0 0;\n",
              "      width: 32px;\n",
              "    }\n",
              "\n",
              "    .colab-df-convert:hover {\n",
              "      background-color: #E2EBFA;\n",
              "      box-shadow: 0px 1px 2px rgba(60, 64, 67, 0.3), 0px 1px 3px 1px rgba(60, 64, 67, 0.15);\n",
              "      fill: #174EA6;\n",
              "    }\n",
              "\n",
              "    [theme=dark] .colab-df-convert {\n",
              "      background-color: #3B4455;\n",
              "      fill: #D2E3FC;\n",
              "    }\n",
              "\n",
              "    [theme=dark] .colab-df-convert:hover {\n",
              "      background-color: #434B5C;\n",
              "      box-shadow: 0px 1px 3px 1px rgba(0, 0, 0, 0.15);\n",
              "      filter: drop-shadow(0px 1px 2px rgba(0, 0, 0, 0.3));\n",
              "      fill: #FFFFFF;\n",
              "    }\n",
              "  </style>\n",
              "\n",
              "      <script>\n",
              "        const buttonEl =\n",
              "          document.querySelector('#df-ab1ec935-ef55-4048-b72a-38953207614c button.colab-df-convert');\n",
              "        buttonEl.style.display =\n",
              "          google.colab.kernel.accessAllowed ? 'block' : 'none';\n",
              "\n",
              "        async function convertToInteractive(key) {\n",
              "          const element = document.querySelector('#df-ab1ec935-ef55-4048-b72a-38953207614c');\n",
              "          const dataTable =\n",
              "            await google.colab.kernel.invokeFunction('convertToInteractive',\n",
              "                                                     [key], {});\n",
              "          if (!dataTable) return;\n",
              "\n",
              "          const docLinkHtml = 'Like what you see? Visit the ' +\n",
              "            '<a target=\"_blank\" href=https://colab.research.google.com/notebooks/data_table.ipynb>data table notebook</a>'\n",
              "            + ' to learn more about interactive tables.';\n",
              "          element.innerHTML = '';\n",
              "          dataTable['output_type'] = 'display_data';\n",
              "          await google.colab.output.renderOutput(dataTable, element);\n",
              "          const docLink = document.createElement('div');\n",
              "          docLink.innerHTML = docLinkHtml;\n",
              "          element.appendChild(docLink);\n",
              "        }\n",
              "      </script>\n",
              "    </div>\n",
              "  </div>\n",
              "  "
            ]
          },
          "metadata": {},
          "execution_count": 2
        }
      ]
    },
    {
      "cell_type": "markdown",
      "source": [
        "📄텍스트로 나타내기📄\n",
        "\n",
        "|이름|연도|\n",
        "|--|--|\n",
        "|조정래|00|\n",
        "|정회준|96|\n",
        "|최한빛|00|"
      ],
      "metadata": {
        "id": "N5FRGj4m3yEs"
      }
    },
    {
      "cell_type": "markdown",
      "source": [
        "function < class < module < package < library\n",
        "\n",
        "\n",
        "* a module is a single tool, (e.g., random)\n",
        "\n",
        "* a package is a toolbox containing multiple tools (e.g., gTTS)\n",
        "\n",
        "* a library is a set of toolboxes designed for a specific purpose. (e.g., nltk - Natural Language Tool Kit)\n",
        "\n",
        "\n"
      ],
      "metadata": {
        "id": "p9IIUfrsAOKv"
      }
    },
    {
      "cell_type": "code",
      "source": [
        "#📈functions\n",
        "\n",
        "a = range(1,10) #range(x,y)의 범위는 x부터 y-1까지 (단, x,y는 integer, x<y)\n",
        "print(list(a))\n",
        "\n",
        "b = \"Olivia\"\n",
        "list(b)"
      ],
      "metadata": {
        "id": "N0sJ-LWIEaLC",
        "outputId": "733477ba-e691-4fd4-e9d3-6973eb00268a",
        "colab": {
          "base_uri": "https://localhost:8080/"
        }
      },
      "execution_count": null,
      "outputs": [
        {
          "output_type": "stream",
          "name": "stdout",
          "text": [
            "[1, 2, 3, 4, 5, 6, 7, 8, 9]\n"
          ]
        },
        {
          "output_type": "execute_result",
          "data": {
            "text/plain": [
              "['O', 'l', 'i', 'v', 'i', 'a']"
            ]
          },
          "metadata": {},
          "execution_count": 17
        }
      ]
    },
    {
      "cell_type": "code",
      "source": [
        "#print() 함수 심화버전\n",
        "\n",
        "Ja = \"ありがとう。\"\n",
        "\n",
        "print(\"What is the meaning of 'Thanks.' in Japanese?:\", Ja)"
      ],
      "metadata": {
        "id": "PPV5kq_ZGvzJ",
        "outputId": "cadf1d08-113e-4095-9d2a-25b04d8fd322",
        "colab": {
          "base_uri": "https://localhost:8080/"
        }
      },
      "execution_count": null,
      "outputs": [
        {
          "output_type": "stream",
          "name": "stdout",
          "text": [
            "What is the meaning of 'Thanks.' in Japanese?: ありがとう。\n"
          ]
        }
      ]
    },
    {
      "cell_type": "code",
      "source": [
        "#data.strip() 함수\n",
        "\n",
        "s = \"Minsu likes to eat Ra-myeon. \"\n",
        "p = \"out-of-date\"\n",
        "\n",
        "s.strip() #'data.strip()'함수는 불필요한 요소를 없애는 함수"
      ],
      "metadata": {
        "id": "P9_p0W4YMLic",
        "outputId": "f1f5aab8-e886-4367-e0ff-3d6b6ba2b601",
        "colab": {
          "base_uri": "https://localhost:8080/",
          "height": 36
        }
      },
      "execution_count": 8,
      "outputs": [
        {
          "output_type": "execute_result",
          "data": {
            "text/plain": [
              "'Minsu likes to eat Ra-myeon.'"
            ],
            "application/vnd.google.colaboratory.intrinsic+json": {
              "type": "string"
            }
          },
          "metadata": {},
          "execution_count": 8
        }
      ]
    },
    {
      "cell_type": "code",
      "source": [
        "#data.split() 함수\n",
        "\n",
        "print(s.split()) #'data.split()'함수는 문장을 단위별로 나누는 함수\n",
        "\n",
        "p.split('-')"
      ],
      "metadata": {
        "id": "6AhCGFWoN5V6",
        "outputId": "3093b4f5-b49b-47b2-fd1e-003667257aba",
        "colab": {
          "base_uri": "https://localhost:8080/"
        }
      },
      "execution_count": 9,
      "outputs": [
        {
          "output_type": "stream",
          "name": "stdout",
          "text": [
            "['Minsu', 'likes', 'to', 'eat', 'Ra-myeon.']\n"
          ]
        },
        {
          "output_type": "execute_result",
          "data": {
            "text/plain": [
              "['out', 'of', 'date']"
            ]
          },
          "metadata": {},
          "execution_count": 9
        }
      ]
    },
    {
      "cell_type": "code",
      "source": [
        "#' '.join() 함수\n",
        "\n",
        "'-'.join(p.split('-')) #' '.join() 함수는 합치는 함수"
      ],
      "metadata": {
        "id": "Ji67UrSbUTnV",
        "outputId": "855c7931-7083-4aa9-93f3-c3ca7594d65d",
        "colab": {
          "base_uri": "https://localhost:8080/",
          "height": 36
        }
      },
      "execution_count": 13,
      "outputs": [
        {
          "output_type": "execute_result",
          "data": {
            "text/plain": [
              "'out-of-date'"
            ],
            "application/vnd.google.colaboratory.intrinsic+json": {
              "type": "string"
            }
          },
          "metadata": {},
          "execution_count": 13
        }
      ]
    },
    {
      "cell_type": "code",
      "source": [
        "#len()함수와 data.upper()함수 & data.lower()함수\n",
        "\n",
        "print(len(p), p.upper(), p.lower())"
      ],
      "metadata": {
        "id": "5lPm9fswacFZ",
        "outputId": "c4132130-12b6-4f17-9d7b-b3a08dff8ac9",
        "colab": {
          "base_uri": "https://localhost:8080/"
        }
      },
      "execution_count": 15,
      "outputs": [
        {
          "output_type": "stream",
          "name": "stdout",
          "text": [
            "11 OUT-OF-DATE out-of-date\n"
          ]
        }
      ]
    },
    {
      "cell_type": "code",
      "source": [
        "#⚙️Module\n",
        "\n",
        "import random"
      ],
      "metadata": {
        "id": "mHsfQ7jWBLLi"
      },
      "execution_count": null,
      "outputs": []
    },
    {
      "cell_type": "code",
      "source": [
        "random.randint(1,6) #random.randint(x,y)함수는 random모듈 실행 후 사용가능\n",
        "\n",
        "dice = random.randint(1,6)\n",
        "dice*dice #variable을 이용하면, 결괏값으로 연산을 할 수 있거나 작업 등으로 활용할 수 있습니다."
      ],
      "metadata": {
        "id": "AfRD7nI_BwGF",
        "outputId": "b5addce3-4b84-4a38-9d7f-08cfa9cd1165",
        "colab": {
          "base_uri": "https://localhost:8080/"
        }
      },
      "execution_count": null,
      "outputs": [
        {
          "output_type": "execute_result",
          "data": {
            "text/plain": [
              "25"
            ]
          },
          "metadata": {},
          "execution_count": 13
        }
      ]
    },
    {
      "cell_type": "markdown",
      "source": [
        "#🧑‍🏫학습목표👩‍🏫\n",
        "\n",
        "* about **'API'** and how to use **'ChatGPT'**\n",
        "* about differences between **'string'** and **'integer'**\n",
        "* about understanding **'integer'** and **'float'**\n",
        "* about understanding functions such as **'str()'**, **'int()'**, and **'float()'**\n",
        "* about understanding functions such as **'input()'**, **'print()'**, and **'type()'**\n",
        "* about **'operators'** (Arithmetic, Comparison, Assignment, Logical, Identity, Membership)\n",
        "* about data types such as **'list'**"
      ],
      "metadata": {
        "id": "6O5pwOyJwunt"
      }
    },
    {
      "cell_type": "markdown",
      "source": [
        "#💡Understanding the terms of coding. 🌲[Advanced]"
      ],
      "metadata": {
        "id": "1nUuYJlv_CRi"
      }
    },
    {
      "cell_type": "markdown",
      "source": [
        "API: Application Programming Interface\n",
        "\n",
        "GPT: Generative Pretrained Transformer"
      ],
      "metadata": {
        "id": "ZvmMW03l8g5T"
      }
    },
    {
      "cell_type": "code",
      "source": [
        "#@markdown #👾Advanced code cell"
      ],
      "metadata": {
        "id": "nIIetxOY_U2h",
        "cellView": "form"
      },
      "execution_count": null,
      "outputs": []
    },
    {
      "cell_type": "code",
      "source": [
        "#1.Using the 'openai' website\n",
        "#2.Ask everything I have to solve\n",
        "#3.Paste at Colab"
      ],
      "metadata": {
        "id": "6ihBdXYmwpI7"
      },
      "execution_count": null,
      "outputs": []
    }
  ]
}