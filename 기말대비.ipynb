{
  "nbformat": 4,
  "nbformat_minor": 0,
  "metadata": {
    "colab": {
      "provenance": [],
      "authorship_tag": "ABX9TyPh9PYEZSl3cM2So/Alt8HG",
      "include_colab_link": true
    },
    "kernelspec": {
      "name": "python3",
      "display_name": "Python 3"
    },
    "language_info": {
      "name": "python"
    }
  },
  "cells": [
    {
      "cell_type": "markdown",
      "metadata": {
        "id": "view-in-github",
        "colab_type": "text"
      },
      "source": [
        "<a href=\"https://colab.research.google.com/github/JRJO00/DL23/blob/main/%EA%B8%B0%EB%A7%90%EB%8C%80%EB%B9%84.ipynb\" target=\"_parent\"><img src=\"https://colab.research.google.com/assets/colab-badge.svg\" alt=\"Open In Colab\"/></a>"
      ]
    },
    {
      "cell_type": "markdown",
      "source": [
        "#💡Understanding the terms of coding. 🌱[Basic]"
      ],
      "metadata": {
        "id": "ut1HYsTV4NaD"
      }
    },
    {
      "cell_type": "markdown",
      "source": [
        "\n",
        "\n",
        "* about **'variables'**\n",
        "* about differences between **'string'** and **'integer'**\n",
        "* about understanding **'integer'** and **'float'**\n",
        "* about understanding functions such as **'str()'**, **'int()'**, and **'float()'**\n",
        "* about understanding functions such as **'input()'**, **'print()'**, and **'type()'**\n",
        "* about **'operators'** (Arithmetic, Comparison, Assignment, Logical, Identity, Membership)\n",
        "* about data types such as **'list'**\n",
        "\n",
        "\n",
        "\n",
        "\n",
        "\n",
        "\n"
      ],
      "metadata": {
        "id": "JTBuz0pR40LJ"
      }
    },
    {
      "cell_type": "code",
      "execution_count": null,
      "metadata": {
        "cellView": "form",
        "id": "YnsD5q2-2zXV"
      },
      "outputs": [],
      "source": [
        "#@markdown #👾Basic of code cell"
      ]
    },
    {
      "cell_type": "markdown",
      "source": [
        "#💡Understanding the terms of coding. 🌿[Intermediate]"
      ],
      "metadata": {
        "id": "efeFbFlE-IPv"
      }
    },
    {
      "cell_type": "code",
      "source": [
        "#@markdown #👾Intermediate code cell"
      ],
      "metadata": {
        "cellView": "form",
        "id": "9_ySUXJx-uXh"
      },
      "execution_count": null,
      "outputs": []
    },
    {
      "cell_type": "markdown",
      "source": [
        "#💡Understanding the terms of coding. 🌲[Advanced]"
      ],
      "metadata": {
        "id": "1nUuYJlv_CRi"
      }
    },
    {
      "cell_type": "code",
      "source": [
        "#@markdown #👾Advanced code cell"
      ],
      "metadata": {
        "cellView": "form",
        "id": "nIIetxOY_U2h"
      },
      "execution_count": null,
      "outputs": []
    }
  ]
}