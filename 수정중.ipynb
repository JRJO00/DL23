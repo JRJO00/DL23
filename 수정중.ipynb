{
  "nbformat": 4,
  "nbformat_minor": 0,
  "metadata": {
    "colab": {
      "provenance": [],
      "authorship_tag": "ABX9TyN1i0ad95dpbJyHfKYmXUpl",
      "include_colab_link": true
    },
    "kernelspec": {
      "name": "python3",
      "display_name": "Python 3"
    },
    "language_info": {
      "name": "python"
    }
  },
  "cells": [
    {
      "cell_type": "markdown",
      "metadata": {
        "id": "view-in-github",
        "colab_type": "text"
      },
      "source": [
        "<a href=\"https://colab.research.google.com/github/JRJO00/DL23/blob/main/%EC%88%98%EC%A0%95%EC%A4%91.ipynb\" target=\"_parent\"><img src=\"https://colab.research.google.com/assets/colab-badge.svg\" alt=\"Open In Colab\"/></a>"
      ]
    },
    {
      "cell_type": "markdown",
      "source": [
        "#📝Basic of Text cell\n",
        "\n",
        "더블클릭 또는 Enter키를 눌러 수정\n",
        "\n",
        "#'#'은 주로 Headline을 나타낼 때 쓰여요!\n",
        "##'##'은 주로 Subtitle을 나타낼 때 쓰여요!\n",
        "그냥 쓸때는 이정도 크기예요!\n",
        "\n",
        "* '*'쓰고 띄어쓰기 하면 이렇게 쓸 수 있어요!\n",
        "1. 숫자쓰고 띄어쓰기 하면 이렇게 쓸 수 있어요!\n",
        "\n",
        "*기울기*는 글자 양쪽에 '*' 기호를 써주면 됩니다!\n",
        "\n",
        "**강조**는 글자 양쪽에 '**' 기호를 써주면 됩니다!\n",
        "\n",
        "원상태로 돌리고 싶으면 오른쪽 여백에 더블클릭 해주세요!\n"
      ],
      "metadata": {
        "id": "UnaMQeJPc36Q"
      }
    },
    {
      "cell_type": "code",
      "execution_count": null,
      "metadata": {
        "id": "YnsD5q2-2zXV"
      },
      "outputs": [],
      "source": [
        "#@markdown #👾Basic of code cell\n",
        "\n",
        "# '#'은 Comment 남길 수 있는 기능이에요!\n",
        "\n",
        "# '#@markdown'은 두 가지 기능이 있어요.\n",
        "# 1.Code cell을 숨갈 수 있는 기능이며,\n",
        "# 2.Comment를 Title 혹은 Text로 나타낼 수 있는 기능을 해요!\n",
        "\n",
        "#원상태로 돌리고 싶으면 오른쪽 여백에 더블클릭 해주세요!\n",
        "\n",
        "# ';'은 Enter키 누르지 않고 이어서 적고 싶을 때 쓸 수 있는 기호입니다!\n",
        "\n",
        "\n"
      ]
    },
    {
      "cell_type": "markdown",
      "source": [
        "#🧑‍🏫학습목표👩‍🏫\n",
        "\n",
        "* about **'variables'**\n",
        "* about differences between **'string'** and **'integer'**\n",
        "* about understanding **'integer'** and **'float'**\n",
        "* about understanding functions such as **'str()'**, **'int()'**, and **'float()'**\n",
        "* about understanding functions such as **'input()'**, **'print()'**, and **'type()'**\n",
        "* about **'operators'** (Arithmetic, Comparison, Assignment, Logical, Identity, Membership)\n",
        "* about data types such as **'list'**\n",
        "\n",
        "\n",
        "\n",
        "\n",
        "\n",
        "\n"
      ],
      "metadata": {
        "id": "JTBuz0pR40LJ"
      }
    },
    {
      "cell_type": "markdown",
      "source": [
        "#💡Understanding the terms of coding. 🌱[Basic]"
      ],
      "metadata": {
        "id": "ut1HYsTV4NaD"
      }
    },
    {
      "cell_type": "code",
      "source": [
        "a = 3 #a는 integer\n",
        "b = 'hello' #b는 string\n",
        "c = \"3\" #c도 string\n",
        "d = 0.142857 #d는 float\n",
        "\n",
        "#a,b,c,d는 모두 variables\n",
        "\n",
        "print(b) #'print()'함수는 결괏값을 바로 확인할 수 있는 함수\n",
        "print(type(a), type(b), type(d))\n",
        "print(type(a)); print(type(b)); print(type(d))\n",
        "\n",
        "type(c) #'type()'함수는 variables의 type를 확인하는 함수"
      ],
      "metadata": {
        "colab": {
          "base_uri": "https://localhost:8080/"
        },
        "id": "eS3raZIsaM25",
        "outputId": "8b4120d0-f454-4edc-a5d9-003a9711776b"
      },
      "execution_count": null,
      "outputs": [
        {
          "output_type": "stream",
          "name": "stdout",
          "text": [
            "hello\n",
            "<class 'int'> <class 'str'> <class 'float'>\n",
            "<class 'int'>\n",
            "<class 'str'>\n",
            "<class 'float'>\n"
          ]
        },
        {
          "output_type": "execute_result",
          "data": {
            "text/plain": [
              "str"
            ]
          },
          "metadata": {},
          "execution_count": 2
        }
      ]
    },
    {
      "cell_type": "code",
      "source": [
        "A = str(a) #'str()'함수는 결괏값을 string으로 만드는 함수\n",
        "B = int(c) #'int()'함수는 string으로 된 숫자를 integer로 만드는 함수\n",
        "C = float(c) #'float()'함수는 string으로 된 숫자 혹은 integer를 float으로 만드는 함수\n",
        "\n",
        "print(type(A)); print(type(B)); print(type(C))"
      ],
      "metadata": {
        "colab": {
          "base_uri": "https://localhost:8080/"
        },
        "id": "83IT0GayetuZ",
        "outputId": "fe403cb6-c14c-4a04-96fd-d11700dd9d9c"
      },
      "execution_count": null,
      "outputs": [
        {
          "output_type": "stream",
          "name": "stdout",
          "text": [
            "<class 'str'>\n",
            "<class 'int'>\n",
            "<class 'float'>\n"
          ]
        }
      ]
    },
    {
      "cell_type": "code",
      "source": [
        "input(\"Type anything!: \") #'input()'함수는 string으로 입력하는 함수"
      ],
      "metadata": {
        "colab": {
          "base_uri": "https://localhost:8080/",
          "height": 54
        },
        "id": "cQsmTjabjdK0",
        "outputId": "4586d982-c4f0-4231-a9c1-7f92a6bf46d4"
      },
      "execution_count": null,
      "outputs": [
        {
          "name": "stdout",
          "output_type": "stream",
          "text": [
            "Type anything!: Merry Christmas! 🎄 \n"
          ]
        },
        {
          "output_type": "execute_result",
          "data": {
            "text/plain": [
              "'Merry Christmas! 🎄 '"
            ],
            "application/vnd.google.colaboratory.intrinsic+json": {
              "type": "string"
            }
          },
          "metadata": {},
          "execution_count": 22
        }
      ]
    },
    {
      "cell_type": "code",
      "source": [
        "#만약 결괏값에 작은따옴표를 없애고 싶다면 'print()'함수를 쓰세요!\n",
        "\n",
        "print(input(\"Type anything!: \"))"
      ],
      "metadata": {
        "colab": {
          "base_uri": "https://localhost:8080/"
        },
        "id": "Tz6Yt_iGhvl4",
        "outputId": "7894e658-875c-4c04-c65b-d51923329cb6"
      },
      "execution_count": null,
      "outputs": [
        {
          "output_type": "stream",
          "name": "stdout",
          "text": [
            "Type anything!: Merry Christmas! 🎄 \n",
            "Merry Christmas! 🎄 \n"
          ]
        }
      ]
    },
    {
      "cell_type": "code",
      "source": [
        "#list & index\n",
        "\n",
        "a = [1,2,3,\"Hello\"] #list는 대괄호를 사용하여 나타냅니다.\n",
        "\n",
        "print(type(a))\n",
        "print(a[0]); print(a[0:]); print(a[0:3]); print(a[-1])\n",
        "\n",
        "#list의 index는 0부터 count\n",
        "#list = [1, 2, 3, ... , n-1, n]일때\n",
        "#list[0]의 값은 1, list[0:]=의 값은 all, list[0:n-1]의 값도 all\n",
        "#list[-1]의 값은 n"
      ],
      "metadata": {
        "id": "UE2cdDkzpytw",
        "outputId": "e06fdca5-44f8-40d0-c49a-9f5d4677df38",
        "colab": {
          "base_uri": "https://localhost:8080/"
        }
      },
      "execution_count": 7,
      "outputs": [
        {
          "output_type": "stream",
          "name": "stdout",
          "text": [
            "<class 'list'>\n",
            "1\n",
            "[1, 2, 3, 'Hello']\n",
            "[1, 2, 3]\n",
            "Hello\n"
          ]
        }
      ]
    },
    {
      "cell_type": "code",
      "source": [
        "#Arithmatic operators (+,-,*,/,**,%,etc.)\n",
        "\n",
        "a = 2; b = 5\n",
        "print(a+b); print(a-b); print(a*b); print(a/b); print(a**b)\n",
        "\n",
        "c = \"Hello\"\n",
        "print(c*3); print(c+\"!\")\n",
        "\n",
        "d = [1,2,3]\n",
        "print(d*3); print(d+[3,2,1])"
      ],
      "metadata": {
        "colab": {
          "base_uri": "https://localhost:8080/"
        },
        "id": "COak3db1j2Jp",
        "outputId": "e850cf21-31ba-46ae-ecf3-13d9161983d4"
      },
      "execution_count": null,
      "outputs": [
        {
          "output_type": "stream",
          "name": "stdout",
          "text": [
            "7\n",
            "-3\n",
            "10\n",
            "0.4\n",
            "32\n",
            "HelloHelloHello\n",
            "Hello!\n",
            "[1, 2, 3, 1, 2, 3, 1, 2, 3]\n",
            "[1, 2, 3, 3, 2, 1]\n"
          ]
        }
      ]
    },
    {
      "cell_type": "code",
      "source": [
        "#Comparison operators (==,!=,>,<,>=,<=)\n",
        "#Assignment operators (=,+=,-=,*=,/=,%=)\n",
        "#Logical operators (and,or,not)\n",
        "#Identity operators (is, is not)\n",
        "#Membership operators (in, not in)"
      ],
      "metadata": {
        "id": "-LwZwPOtplIW"
      },
      "execution_count": null,
      "outputs": []
    },
    {
      "cell_type": "markdown",
      "source": [
        "#🧑‍🏫학습목표👩‍🏫\n",
        "\n",
        "* about **'Dictionary'**\n",
        "* about differences between **'string'** and **'integer'**\n",
        "* about understanding **'integer'** and **'float'**\n",
        "* about understanding functions such as **'str()'**, **'int()'**, and **'float()'**\n",
        "* about understanding functions such as **'input()'**, **'print()'**, and **'type()'**\n",
        "* about **'operators'** (Arithmetic, Comparison, Assignment, Logical, Identity, Membership)\n",
        "* about data types such as **'list'**\n"
      ],
      "metadata": {
        "id": "2fRgPp1Vi25N"
      }
    },
    {
      "cell_type": "markdown",
      "source": [
        "#💡Understanding the terms of coding. 🌿[Intermediate]"
      ],
      "metadata": {
        "id": "efeFbFlE-IPv"
      }
    },
    {
      "cell_type": "code",
      "source": [
        "#@markdown #👾Intermediate code cell"
      ],
      "metadata": {
        "id": "9_ySUXJx-uXh"
      },
      "execution_count": null,
      "outputs": []
    },
    {
      "cell_type": "code",
      "source": [
        "#Dictionary = {\"key\": \"value\"}\n",
        "\n",
        "lang = {\"Korean\": \"Hangul\", \"English\": \"Alphabet\", \"Japanese\": \"Hiragana\"}\n",
        "print(lang)\n",
        "\n",
        "lang[\"Japanese\"]"
      ],
      "metadata": {
        "id": "mwL3zvDairwN",
        "outputId": "5ba06090-0a0f-43b6-fee9-3021a5b7cd70",
        "colab": {
          "base_uri": "https://localhost:8080/",
          "height": 54
        }
      },
      "execution_count": 12,
      "outputs": [
        {
          "output_type": "stream",
          "name": "stdout",
          "text": [
            "{'Korean': 'Hangul', 'English': 'Alphabet', 'Japanese': 'Hiragana'}\n"
          ]
        },
        {
          "output_type": "execute_result",
          "data": {
            "text/plain": [
              "'Hiragana'"
            ],
            "application/vnd.google.colaboratory.intrinsic+json": {
              "type": "string"
            }
          },
          "metadata": {},
          "execution_count": 12
        }
      ]
    },
    {
      "cell_type": "markdown",
      "source": [
        "#🧑‍🏫학습목표👩‍🏫\n",
        "\n",
        "* about **'API'** and how to use **'ChatGPT'**\n",
        "* about differences between **'string'** and **'integer'**\n",
        "* about understanding **'integer'** and **'float'**\n",
        "* about understanding functions such as **'str()'**, **'int()'**, and **'float()'**\n",
        "* about understanding functions such as **'input()'**, **'print()'**, and **'type()'**\n",
        "* about **'operators'** (Arithmetic, Comparison, Assignment, Logical, Identity, Membership)\n",
        "* about data types such as **'list'**"
      ],
      "metadata": {
        "id": "6O5pwOyJwunt"
      }
    },
    {
      "cell_type": "markdown",
      "source": [
        "#💡Understanding the terms of coding. 🌲[Advanced]"
      ],
      "metadata": {
        "id": "1nUuYJlv_CRi"
      }
    },
    {
      "cell_type": "code",
      "source": [
        "#@markdown #👾Advanced code cell"
      ],
      "metadata": {
        "id": "nIIetxOY_U2h"
      },
      "execution_count": null,
      "outputs": []
    },
    {
      "cell_type": "code",
      "source": [
        "#"
      ],
      "metadata": {
        "id": "6ihBdXYmwpI7"
      },
      "execution_count": null,
      "outputs": []
    }
  ]
}